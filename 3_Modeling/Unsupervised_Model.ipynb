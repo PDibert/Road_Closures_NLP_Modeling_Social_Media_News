{
 "cells": [
  {
   "cell_type": "markdown",
   "metadata": {},
   "source": [
    "## Table of Contents:\n",
    "* [Import Packages](#first-bullet)\n",
    "* [Word2Vec on ND DOT 511](#second-bullet)\n",
    "* [Train Model and Build Vocbulary](#third-bullet)\n",
    "* [Visualizing word relationships using TSNE](#fourth-bullet)\n",
    "* [Classify News as Relevant or Irrelevant](#fifth-bullet)\n",
    "* [Weather API Model](#sixth-bullet)\n",
    "* [Getting coordinates for Relevant Articles](#seventh-bullet)\n",
    "* [Mapping with Basemap (matplotlib) ](#eigth-bullet)"
   ]
  },
  {
   "cell_type": "markdown",
   "metadata": {},
   "source": [
    "# Import Packages <a class=\"anchor\" id=\"first-bullet\"></a>"
   ]
  },
  {
   "cell_type": "markdown",
   "metadata": {},
   "source": [
    "Here we import the pakages that will be used in our modeling.  If there are any issues loading in the NLP data from Spacy.  There is a link to a Github forum that addresses the issues."
   ]
  },
  {
   "cell_type": "code",
   "execution_count": 1,
   "metadata": {},
   "outputs": [],
   "source": [
    "import pandas as pd\n",
    "import numpy as np\n",
    "import seaborn as sns"
   ]
  },
  {
   "cell_type": "code",
   "execution_count": 5,
   "metadata": {},
   "outputs": [],
   "source": [
    "import en_core_web_sm\n",
    "nlp = en_core_web_sm.load()\n",
    "#https://github.com/explosion/spaCy/issues/1283"
   ]
  },
  {
   "cell_type": "code",
   "execution_count": 6,
   "metadata": {},
   "outputs": [],
   "source": [
    "import nltk\n",
    "from nltk.tokenize import word_tokenize\n",
    "from nltk.tag import pos_tag"
   ]
  },
  {
   "cell_type": "code",
   "execution_count": 7,
   "metadata": {},
   "outputs": [],
   "source": [
    "import spacy\n",
    "from spacy import displacy\n",
    "from collections import Counter\n",
    "import en_core_web_sm\n",
    "nlp = en_core_web_sm.load()"
   ]
  },
  {
   "cell_type": "code",
   "execution_count": 20,
   "metadata": {},
   "outputs": [
    {
     "name": "stderr",
     "output_type": "stream",
     "text": [
      "paramiko missing, opening SSH/SCP/SFTP paths will be disabled.  `pip install paramiko` to suppress\n"
     ]
    }
   ],
   "source": [
    "import gensim"
   ]
  },
  {
   "cell_type": "code",
   "execution_count": 53,
   "metadata": {},
   "outputs": [],
   "source": [
    "from gensim import corpora"
   ]
  },
  {
   "cell_type": "code",
   "execution_count": null,
   "metadata": {},
   "outputs": [],
   "source": [
    "from nltk.corpus import stopwords\n",
    "from nltk import download\n",
    "from gensim import corpora"
   ]
  },
  {
   "cell_type": "code",
   "execution_count": null,
   "metadata": {},
   "outputs": [],
   "source": [
    "import string\n",
    "import re "
   ]
  },
  {
   "cell_type": "code",
   "execution_count": null,
   "metadata": {},
   "outputs": [],
   "source": [
    "from nltk.corpus import stopwords "
   ]
  },
  {
   "cell_type": "code",
   "execution_count": null,
   "metadata": {},
   "outputs": [],
   "source": [
    "from pprint import pprint  # pretty-printer\n",
    "from collections import defaultdict"
   ]
  },
  {
   "cell_type": "code",
   "execution_count": null,
   "metadata": {},
   "outputs": [],
   "source": [
    "import sklearn.manifold"
   ]
  },
  {
   "cell_type": "code",
   "execution_count": null,
   "metadata": {},
   "outputs": [],
   "source": [
    "import gensim.downloader as api\n",
    "from gensim.models import WordEmbeddingSimilarityIndex\n",
    "from gensim.similarities import SparseTermSimilarityMatrix"
   ]
  },
  {
   "cell_type": "code",
   "execution_count": null,
   "metadata": {},
   "outputs": [],
   "source": [
    "from geopy.geocoders import Nominatim\n",
    "#https://github.com/geopy/geopy"
   ]
  },
  {
   "cell_type": "code",
   "execution_count": null,
   "metadata": {},
   "outputs": [],
   "source": [
    "from mpl_toolkits.basemap import Basemap\n",
    "import matplotlib.pyplot as plt"
   ]
  },
  {
   "cell_type": "markdown",
   "metadata": {},
   "source": [
    "# Word2Vec on ND DOT 511  <a class=\"anchor\" id=\"second-bullet\"></a>"
   ]
  },
  {
   "cell_type": "markdown",
   "metadata": {},
   "source": [
    "Now, we will create a dataframe from the ND 511 data.  This set of data contains the post and headline of the road closures.  All of these alerts are addressing road closures.  We will compare these texts to the news and weather API articles to determine their similarity.  If the news and weather texts are similar to the ND511 alerts, then we will say that they are more likely to be addressing a road closure."
   ]
  },
  {
   "cell_type": "markdown",
   "metadata": {},
   "source": [
    "## Import  ND 511 data"
   ]
  },
  {
   "cell_type": "code",
   "execution_count": 21,
   "metadata": {},
   "outputs": [],
   "source": [
    "#model = gensim.models.KeyedVectors.load_word2vec_format('./lexvec.enwiki+newscrawl.300d.W.pos.vectors.gz')"
   ]
  },
  {
   "cell_type": "code",
   "execution_count": 22,
   "metadata": {},
   "outputs": [],
   "source": [
    "df_nd = pd.read_csv('./data/nd_511.csv')"
   ]
  },
  {
   "cell_type": "code",
   "execution_count": 23,
   "metadata": {},
   "outputs": [
    {
     "data": {
      "text/html": [
       "<div>\n",
       "<style scoped>\n",
       "    .dataframe tbody tr th:only-of-type {\n",
       "        vertical-align: middle;\n",
       "    }\n",
       "\n",
       "    .dataframe tbody tr th {\n",
       "        vertical-align: top;\n",
       "    }\n",
       "\n",
       "    .dataframe thead th {\n",
       "        text-align: right;\n",
       "    }\n",
       "</style>\n",
       "<table border=\"1\" class=\"dataframe\">\n",
       "  <thead>\n",
       "    <tr style=\"text-align: right;\">\n",
       "      <th></th>\n",
       "      <th>Unnamed: 0</th>\n",
       "      <th>alert_type</th>\n",
       "      <th>headline</th>\n",
       "      <th>url</th>\n",
       "      <th>post</th>\n",
       "    </tr>\n",
       "  </thead>\n",
       "  <tbody>\n",
       "    <tr>\n",
       "      <th>0</th>\n",
       "      <td>2</td>\n",
       "      <td>Road Conditions</td>\n",
       "      <td>Water receded on I-29, 20 miles north of Grand...</td>\n",
       "      <td>/dotnet/news/Public/View/8335</td>\n",
       "      <td>Water has receded on northbound I-29 approxima...</td>\n",
       "    </tr>\n",
       "    <tr>\n",
       "      <th>1</th>\n",
       "      <td>3</td>\n",
       "      <td>Road Conditions</td>\n",
       "      <td>ND Hwy 5 temporarily closed from I-29 to the R...</td>\n",
       "      <td>/dotnet/news/Public/View/8334</td>\n",
       "      <td>The North Dakota Department of Transportation ...</td>\n",
       "    </tr>\n",
       "    <tr>\n",
       "      <th>2</th>\n",
       "      <td>4</td>\n",
       "      <td>Road Conditions</td>\n",
       "      <td>Water on I-29 north of Grand Forks</td>\n",
       "      <td>/dotnet/news/Public/View/8333</td>\n",
       "      <td>There is water on the southbound lanes of I-29...</td>\n",
       "    </tr>\n",
       "    <tr>\n",
       "      <th>3</th>\n",
       "      <td>5</td>\n",
       "      <td>Road Conditions</td>\n",
       "      <td>Water on I-29 north of Grand Forks</td>\n",
       "      <td>/dotnet/news/Public/View/8332</td>\n",
       "      <td>There is water on the northbound lanes of I-29...</td>\n",
       "    </tr>\n",
       "    <tr>\n",
       "      <th>4</th>\n",
       "      <td>6</td>\n",
       "      <td>Road Conditions</td>\n",
       "      <td>Southbound on ramp on I-29 Exit 164 north of G...</td>\n",
       "      <td>/dotnet/news/Public/View/8331</td>\n",
       "      <td>The North Dakota Department of Transportation ...</td>\n",
       "    </tr>\n",
       "  </tbody>\n",
       "</table>\n",
       "</div>"
      ],
      "text/plain": [
       "   Unnamed: 0       alert_type  \\\n",
       "0           2  Road Conditions   \n",
       "1           3  Road Conditions   \n",
       "2           4  Road Conditions   \n",
       "3           5  Road Conditions   \n",
       "4           6  Road Conditions   \n",
       "\n",
       "                                            headline  \\\n",
       "0  Water receded on I-29, 20 miles north of Grand...   \n",
       "1  ND Hwy 5 temporarily closed from I-29 to the R...   \n",
       "2                 Water on I-29 north of Grand Forks   \n",
       "3                 Water on I-29 north of Grand Forks   \n",
       "4  Southbound on ramp on I-29 Exit 164 north of G...   \n",
       "\n",
       "                             url  \\\n",
       "0  /dotnet/news/Public/View/8335   \n",
       "1  /dotnet/news/Public/View/8334   \n",
       "2  /dotnet/news/Public/View/8333   \n",
       "3  /dotnet/news/Public/View/8332   \n",
       "4  /dotnet/news/Public/View/8331   \n",
       "\n",
       "                                                post  \n",
       "0  Water has receded on northbound I-29 approxima...  \n",
       "1  The North Dakota Department of Transportation ...  \n",
       "2  There is water on the southbound lanes of I-29...  \n",
       "3  There is water on the northbound lanes of I-29...  \n",
       "4  The North Dakota Department of Transportation ...  "
      ]
     },
     "execution_count": 23,
     "metadata": {},
     "output_type": "execute_result"
    }
   ],
   "source": [
    "df_nd.head()"
   ]
  },
  {
   "cell_type": "markdown",
   "metadata": {},
   "source": [
    "## Remove named entities, to make it generic to MN"
   ]
  },
  {
   "cell_type": "markdown",
   "metadata": {},
   "source": [
    "Using the locations that spaCy identified in the dataset, we will remove these from our texts so that they are more generic.  We don't want the location names in ND to be included in our model, as it may reward articles that mention North Dakota specific places, while we want to reward articles that are focusing on road closures.  We are also removing times and dates, as we don't want to reward articles for taking place in the same time frame as the ND 511 set."
   ]
  },
  {
   "cell_type": "code",
   "execution_count": 24,
   "metadata": {},
   "outputs": [],
   "source": [
    "locations = []\n",
    "for i in df_nd['post']:\n",
    "    doc = nlp(i)\n",
    "    locations.append([(X.text, X.label_) for X in doc.ents])"
   ]
  },
  {
   "cell_type": "code",
   "execution_count": 25,
   "metadata": {},
   "outputs": [
    {
     "data": {
      "text/plain": [
       "[('approximately 20 miles', 'QUANTITY'),\n",
       " ('Grand Forks', 'FAC'),\n",
       " ('two', 'CARDINAL'),\n",
       " ('511', 'CARDINAL'),\n",
       " ('NDDOT', 'ORG')]"
      ]
     },
     "execution_count": 25,
     "metadata": {},
     "output_type": "execute_result"
    }
   ],
   "source": [
    "locations[0]"
   ]
  },
  {
   "cell_type": "markdown",
   "metadata": {},
   "source": [
    "The output of our spaCy function is a list of tuples.  The first entry is the location or time, and the second is the named entity category.  We want to turn this into a list of only location and time names."
   ]
  },
  {
   "cell_type": "code",
   "execution_count": 27,
   "metadata": {},
   "outputs": [],
   "source": [
    "# make list of words to remove from corpus (all named entites, keeping in quantities)\n",
    "\n",
    "locations_and_dates = []\n",
    "\n",
    "for i in locations:\n",
    "    for j in i:\n",
    "        locations_and_dates.append(j[0])"
   ]
  },
  {
   "cell_type": "markdown",
   "metadata": {},
   "source": [
    "Now, we want to remove all duplicate values in our list by turning them into a set."
   ]
  },
  {
   "cell_type": "code",
   "execution_count": 28,
   "metadata": {},
   "outputs": [],
   "source": [
    "gpes = set(locations_and_dates)"
   ]
  },
  {
   "cell_type": "markdown",
   "metadata": {},
   "source": [
    "Finally, we want to remove a few items from our set of places and times.  These are terms that spaCy picked up, that are not specific times (eg. evening) or locations ('Snowplows).  These are words that should be considered by our models."
   ]
  },
  {
   "cell_type": "code",
   "execution_count": 30,
   "metadata": {},
   "outputs": [],
   "source": [
    "remove = ['Alert', 'Alert\\r\\n', 'Alert\\xa0', 'Advisory','BLOCKED\\xa0','Blizzard','Blizzard Warning','Commercial Motor Vehicle',\n",
    " 'Commercial Motor Vehicles', 'Highway','LIFTED',\n",
    " 'LIFTED  ','Motorists','No Travel Advised','No Travel Advised LIFTED','No Travel Advisory LIFTED','OPEN',\n",
    " 'OPENED','Overnight','Pack','Road\\r\\n     Closed','Road Closed','Road Closures','Snowplows','The Travel Alert',\n",
    " 'This Travel\\r\\nAlert','Travel\\r\\nAlerts','Travel Alert','Wind Chill Warning','Winter Storm Warning','daily',\n",
    " 'early morning hours',\n",
    " 'evening',\n",
    " 'every day',\n",
    " 'morning',]\n",
    "for i in remove:\n",
    "    gpes.remove(i)"
   ]
  },
  {
   "cell_type": "markdown",
   "metadata": {},
   "source": [
    "We next need to begin processing our text strings for our Word2vec model.  We will first remove punctuation, as well as some strings that relate to the website names that appear in the texts.  These strings do not add any value to our data, and should be removed."
   ]
  },
  {
   "cell_type": "code",
   "execution_count": 31,
   "metadata": {},
   "outputs": [],
   "source": [
    "nd_list = df_nd[\"post\"].values"
   ]
  },
  {
   "cell_type": "code",
   "execution_count": 33,
   "metadata": {
    "scrolled": true
   },
   "outputs": [],
   "source": [
    "\n",
    "removed_punct_nd = [''.join(c for c in s if c not in string.punctuation) for s in nd_list]"
   ]
  },
  {
   "cell_type": "code",
   "execution_count": 34,
   "metadata": {},
   "outputs": [],
   "source": [
    "\n",
    "pattern = '[0-9]'\n",
    "nc_remove_nums = [re.sub(pattern, '', i) for i in removed_punct_nd]"
   ]
  },
  {
   "cell_type": "code",
   "execution_count": 35,
   "metadata": {},
   "outputs": [],
   "source": [
    "nc_remove_nums = [re.sub('\\n', ' ', i) for i in nc_remove_nums]\n",
    "nc_remove_nums = [re.sub('\\xa0', ' ', i) for i in nc_remove_nums]\n",
    "nc_remove_nums = [re.sub('blocked–', 'blocked', i) for i in nc_remove_nums]\n",
    "nc_remove_nums = [re.sub('–', ' ', i) for i in nc_remove_nums]  \n",
    "nc_remove_nums = [re.sub('wwwdotndgov', '', i) for i in nc_remove_nums]\n",
    "nc_remove_nums = [re.sub('httpsndrepsonsegov', '', i) for i in nc_remove_nums]\n",
    "nc_remove_nums = [re.sub('nddot', '', i) for i in nc_remove_nums] \n",
    "nc_remove_nums = [re.sub('httpstravelinfov', '', i) for i in nc_remove_nums]\n",
    "nc_remove_nums = [re.sub(\"'s'\", '', i) for i in nc_remove_nums]\n",
    "nc_remove_nums = [re.sub('washburn', '', i) for i in nc_remove_nums]\n",
    "nc_remove_nums = [re.sub('devil', '', i) for i in nc_remove_nums]"
   ]
  },
  {
   "cell_type": "markdown",
   "metadata": {},
   "source": [
    "We will also need to remove punctuation from our list of named entities.  Then, we will remove all named entities from our list of ND 511 posts. This will leave us wil a list of strings."
   ]
  },
  {
   "cell_type": "code",
   "execution_count": 36,
   "metadata": {},
   "outputs": [],
   "source": [
    "removed_punct_gpes = [''.join(c for c in s if c not in string.punctuation) for s in gpes]"
   ]
  },
  {
   "cell_type": "code",
   "execution_count": 38,
   "metadata": {},
   "outputs": [],
   "source": [
    "# remove gprs from list of lists\n",
    "gpes\n",
    "for j in removed_punct_gpes:\n",
    "    nc_remove_nums = [re.sub(j, '', i) for i in nc_remove_nums]"
   ]
  },
  {
   "cell_type": "code",
   "execution_count": 40,
   "metadata": {},
   "outputs": [],
   "source": [
    "\n",
    "stop_words = set(stopwords.words('english')) "
   ]
  },
  {
   "cell_type": "markdown",
   "metadata": {},
   "source": [
    "Now, we will turn our cleaned up list of ND 511 alerts into tokens that can be used by Wrod2vec.  We will remove common English stop words here as well."
   ]
  },
  {
   "cell_type": "code",
   "execution_count": 41,
   "metadata": {},
   "outputs": [],
   "source": [
    "\n",
    "\n",
    "# remove common words and tokenize\n",
    "stoplist = stop_words#set('for a of the and to in with on'.split())\n",
    "texts = [\n",
    "    [word for word in nc_remove_nums.lower().split() if word not in stoplist]\n",
    "    for nc_remove_nums in nc_remove_nums\n",
    "]\n",
    "\n",
    "# remove words that appear only once\n",
    "frequency = defaultdict(int)\n",
    "for text in texts:\n",
    "    for token in text:\n",
    "        frequency[token] += 1\n",
    "\n",
    "texts = [\n",
    "    [token for token in text if frequency[token] > 1]\n",
    "    for text in texts\n",
    "]\n",
    "\n",
    "#pprint(texts)\n",
    "\n",
    "# source - https://radimrehurek.com/gensim/tut1.html#corpus-formats\n",
    "# https://github.com/kavgan/nlp-in-practice/blob/master/word2vec/Word2Vec.ipynb"
   ]
  },
  {
   "cell_type": "markdown",
   "metadata": {},
   "source": [
    "# Train Model and Build Vocbulary  <a class=\"anchor\" id=\"third-bullet\"></a>"
   ]
  },
  {
   "cell_type": "markdown",
   "metadata": {},
   "source": [
    "We are going to build a Word2vec model, using the texts from our ND 511 alerts as the training set.  The model will then be trained on this dataset.  Eventually, we will compare the news and weather alerts to this trained dataset."
   ]
  },
  {
   "cell_type": "code",
   "execution_count": 42,
   "metadata": {
    "scrolled": true
   },
   "outputs": [
    {
     "name": "stderr",
     "output_type": "stream",
     "text": [
      "C:\\Users\\phill\\Anaconda3\\lib\\site-packages\\gensim\\models\\base_any2vec.py:743: UserWarning: C extension not loaded, training will be slow. Install a C compiler and reinstall gensim for fast training.\n",
      "  \"C extension not loaded, training will be slow. \"\n"
     ]
    },
    {
     "data": {
      "text/plain": [
       "(11327, 21654)"
      ]
     },
     "execution_count": 42,
     "metadata": {},
     "output_type": "execute_result"
    }
   ],
   "source": [
    "# build vocabulary and train model\n",
    "model = gensim.models.Word2Vec(\n",
    "    texts,\n",
    "    size=1500,\n",
    "    window=10,\n",
    "    min_count=2,\n",
    "    workers=10)\n",
    "model.train(texts, total_examples=len(texts), epochs=1) "
   ]
  },
  {
   "cell_type": "markdown",
   "metadata": {},
   "source": [
    "Word2vec has a build into method to compare the cosine similarity of words to each other.  Using our trained ND 511 model, we can see how simlar a few sample words are."
   ]
  },
  {
   "cell_type": "code",
   "execution_count": 43,
   "metadata": {},
   "outputs": [
    {
     "name": "stderr",
     "output_type": "stream",
     "text": [
      "C:\\Users\\phill\\Anaconda3\\lib\\site-packages\\ipykernel_launcher.py:1: DeprecationWarning: Call to deprecated `most_similar` (Method will be removed in 4.0.0, use self.wv.most_similar() instead).\n",
      "  \"\"\"Entry point for launching an IPython kernel.\n"
     ]
    },
    {
     "data": {
      "text/plain": [
       "[('threatening', 0.948833703994751),\n",
       " ('life', 0.9424770474433899),\n",
       " ('blocked', 0.9318242073059082),\n",
       " ('able', 0.9219838380813599),\n",
       " ('responders', 0.9213416576385498),\n",
       " ('emergency', 0.918928861618042),\n",
       " ('become', 0.9123826026916504),\n",
       " ('safely', 0.9121668934822083),\n",
       " ('drive', 0.9063537120819092),\n",
       " ('stranded', 0.9063376784324646)]"
      ]
     },
     "execution_count": 43,
     "metadata": {},
     "output_type": "execute_result"
    }
   ],
   "source": [
    "model.most_similar('closed')"
   ]
  },
  {
   "cell_type": "code",
   "execution_count": 45,
   "metadata": {},
   "outputs": [
    {
     "name": "stderr",
     "output_type": "stream",
     "text": [
      "C:\\Users\\phill\\Anaconda3\\lib\\site-packages\\ipykernel_launcher.py:1: DeprecationWarning: Call to deprecated `most_similar` (Method will be removed in 4.0.0, use self.wv.most_similar() instead).\n",
      "  \"\"\"Entry point for launching an IPython kernel.\n"
     ]
    },
    {
     "data": {
      "text/plain": [
       "[('life', 0.9841539859771729),\n",
       " ('closed', 0.9786981344223022),\n",
       " ('safely', 0.9665942192077637),\n",
       " ('threatening', 0.966561496257782),\n",
       " ('allowed', 0.9647164344787598),\n",
       " ('impassible', 0.9484252333641052),\n",
       " ('able', 0.9469383955001831),\n",
       " ('responders', 0.941205620765686),\n",
       " ('deteriorate', 0.9319429397583008),\n",
       " ('emergency', 0.9232921600341797)]"
      ]
     },
     "execution_count": 45,
     "metadata": {},
     "output_type": "execute_result"
    }
   ],
   "source": [
    "model.most_similar('blocked')"
   ]
  },
  {
   "cell_type": "code",
   "execution_count": 46,
   "metadata": {},
   "outputs": [
    {
     "data": {
      "text/plain": [
       "134"
      ]
     },
     "execution_count": 46,
     "metadata": {},
     "output_type": "execute_result"
    }
   ],
   "source": [
    "model.corpus_count"
   ]
  },
  {
   "cell_type": "code",
   "execution_count": 47,
   "metadata": {},
   "outputs": [
    {
     "data": {
      "text/plain": [
       "69"
      ]
     },
     "execution_count": 47,
     "metadata": {},
     "output_type": "execute_result"
    }
   ],
   "source": [
    "len(texts[0])"
   ]
  },
  {
   "cell_type": "markdown",
   "metadata": {},
   "source": [
    "# Visualizing word relationships using TSNE   <a class=\"anchor\" id=\"fourth-bullet\"></a>"
   ]
  },
  {
   "cell_type": "markdown",
   "metadata": {},
   "source": [
    "TSNE will allow us to visualize the relationships between the words in our ND-511 model on a 2D plane.  The model is a matrix containing the relationships betwwen the words, in many dimensions.  By reducing to only two dimensions, we will be able to plot the words on a 2d plane."
   ]
  },
  {
   "cell_type": "code",
   "execution_count": 44,
   "metadata": {},
   "outputs": [],
   "source": [
    "\n",
    "tsne = sklearn.manifold.TSNE(n_components=2, random_state=0)"
   ]
  },
  {
   "cell_type": "code",
   "execution_count": 45,
   "metadata": {},
   "outputs": [
    {
     "name": "stderr",
     "output_type": "stream",
     "text": [
      "C:\\Users\\phill\\Anaconda3\\lib\\site-packages\\ipykernel_launcher.py:1: DeprecationWarning: Call to deprecated `syn0` (Attribute will be removed in 4.0.0, use self.vectors instead).\n",
      "  \"\"\"Entry point for launching an IPython kernel.\n"
     ]
    }
   ],
   "source": [
    "all_word_vectors_matrix = model.wv.syn0"
   ]
  },
  {
   "cell_type": "code",
   "execution_count": 46,
   "metadata": {},
   "outputs": [],
   "source": [
    "all_word_vectors_matrix_2d = tsne.fit_transform(all_word_vectors_matrix)\n",
    "# source for all below TSNE code is modified from: \n",
    "#https://github.com/llSourcell/word_vectors_game_of_thrones-LIVE/blob/master/Thrones2Vec.ipynb\n",
    "# with updates from: https://groups.google.com/forum/#!topic/gensim/hlYgjqEVocw"
   ]
  },
  {
   "cell_type": "code",
   "execution_count": 47,
   "metadata": {},
   "outputs": [],
   "source": [
    "points = pd.DataFrame(\n",
    "    [\n",
    "        (word, coords[0], coords[1])\n",
    "        for word, coords in [\n",
    "            (word, all_word_vectors_matrix_2d[model.wv.vocab[word].index])\n",
    "            for word in model.wv.vocab\n",
    "        ]\n",
    "    ],\n",
    "    columns=[\"word\", \"x\", \"y\"]\n",
    ")"
   ]
  },
  {
   "cell_type": "code",
   "execution_count": 48,
   "metadata": {},
   "outputs": [
    {
     "data": {
      "text/html": [
       "<div>\n",
       "<style scoped>\n",
       "    .dataframe tbody tr th:only-of-type {\n",
       "        vertical-align: middle;\n",
       "    }\n",
       "\n",
       "    .dataframe tbody tr th {\n",
       "        vertical-align: top;\n",
       "    }\n",
       "\n",
       "    .dataframe thead th {\n",
       "        text-align: right;\n",
       "    }\n",
       "</style>\n",
       "<table border=\"1\" class=\"dataframe\">\n",
       "  <thead>\n",
       "    <tr style=\"text-align: right;\">\n",
       "      <th></th>\n",
       "      <th>word</th>\n",
       "      <th>x</th>\n",
       "      <th>y</th>\n",
       "    </tr>\n",
       "  </thead>\n",
       "  <tbody>\n",
       "    <tr>\n",
       "      <th>0</th>\n",
       "      <td>water</td>\n",
       "      <td>11.243468</td>\n",
       "      <td>15.394797</td>\n",
       "    </tr>\n",
       "    <tr>\n",
       "      <th>1</th>\n",
       "      <td>receded</td>\n",
       "      <td>-15.552171</td>\n",
       "      <td>-25.301725</td>\n",
       "    </tr>\n",
       "    <tr>\n",
       "      <th>2</th>\n",
       "      <td>northbound</td>\n",
       "      <td>12.710902</td>\n",
       "      <td>8.766642</td>\n",
       "    </tr>\n",
       "    <tr>\n",
       "      <th>3</th>\n",
       "      <td>approximately</td>\n",
       "      <td>-5.679542</td>\n",
       "      <td>-8.939366</td>\n",
       "    </tr>\n",
       "    <tr>\n",
       "      <th>4</th>\n",
       "      <td>north</td>\n",
       "      <td>15.880458</td>\n",
       "      <td>12.348894</td>\n",
       "    </tr>\n",
       "    <tr>\n",
       "      <th>5</th>\n",
       "      <td>forks</td>\n",
       "      <td>18.569265</td>\n",
       "      <td>11.960867</td>\n",
       "    </tr>\n",
       "    <tr>\n",
       "      <th>6</th>\n",
       "      <td>roadway</td>\n",
       "      <td>10.162446</td>\n",
       "      <td>14.844472</td>\n",
       "    </tr>\n",
       "    <tr>\n",
       "      <th>7</th>\n",
       "      <td>open</td>\n",
       "      <td>1.060422</td>\n",
       "      <td>-5.976877</td>\n",
       "    </tr>\n",
       "    <tr>\n",
       "      <th>8</th>\n",
       "      <td>lanes</td>\n",
       "      <td>15.323073</td>\n",
       "      <td>12.037295</td>\n",
       "    </tr>\n",
       "    <tr>\n",
       "      <th>9</th>\n",
       "      <td>traffic</td>\n",
       "      <td>7.616664</td>\n",
       "      <td>12.085118</td>\n",
       "    </tr>\n",
       "  </tbody>\n",
       "</table>\n",
       "</div>"
      ],
      "text/plain": [
       "            word          x          y\n",
       "0          water  11.243468  15.394797\n",
       "1        receded -15.552171 -25.301725\n",
       "2     northbound  12.710902   8.766642\n",
       "3  approximately  -5.679542  -8.939366\n",
       "4          north  15.880458  12.348894\n",
       "5          forks  18.569265  11.960867\n",
       "6        roadway  10.162446  14.844472\n",
       "7           open   1.060422  -5.976877\n",
       "8          lanes  15.323073  12.037295\n",
       "9        traffic   7.616664  12.085118"
      ]
     },
     "execution_count": 48,
     "metadata": {},
     "output_type": "execute_result"
    }
   ],
   "source": [
    "points.head(10)"
   ]
  },
  {
   "cell_type": "code",
   "execution_count": 49,
   "metadata": {},
   "outputs": [],
   "source": [
    "\n",
    "sns.set_context(\"poster\")"
   ]
  },
  {
   "cell_type": "markdown",
   "metadata": {},
   "source": [
    "The scatter plot below shows all of the words in our ND-511 set, reduced to two dimensions and plotted on a scatter plot."
   ]
  },
  {
   "cell_type": "code",
   "execution_count": 468,
   "metadata": {},
   "outputs": [
    {
     "data": {
      "text/plain": [
       "<matplotlib.axes._subplots.AxesSubplot at 0x1f4d32c3eb8>"
      ]
     },
     "execution_count": 468,
     "metadata": {},
     "output_type": "execute_result"
    },
    {
     "data": {
      "image/png": "[encoded data removed]",
      "text/plain": [
       "<Figure size 1440x864 with 1 Axes>"
      ]
     },
     "metadata": {
      "needs_background": "light"
     },
     "output_type": "display_data"
    }
   ],
   "source": [
    "points.plot.scatter(\"x\", \"y\", s=10, figsize=(20, 12))"
   ]
  },
  {
   "cell_type": "markdown",
   "metadata": {},
   "source": [
    "Using the above graph, we can zoom in on a specific region, and add in the word as a lable.  THis will allow us to see which words are used together most often.  For example, in the second plot, we can see that \"may\" and \"deteriorate\" are neighbors.  This makes sense, since \"may deteriorate\" is a common phrase in the ND511 alerts."
   ]
  },
  {
   "cell_type": "code",
   "execution_count": 359,
   "metadata": {},
   "outputs": [],
   "source": [
    "def plot_region(x_bounds, y_bounds):\n",
    "    slice = points[\n",
    "        (x_bounds[0] <= points.x) &\n",
    "        (points.x <= x_bounds[1]) & \n",
    "        (y_bounds[0] <= points.y) &\n",
    "        (points.y <= y_bounds[1])\n",
    "    ]\n",
    "    \n",
    "    ax = slice.plot.scatter('x', 'y', s=35, figsize=(10, 8))\n",
    "    for i, point in slice.iterrows():\n",
    "        ax.text(point.x + 0.005, point.y + 0.005, point.word, fontsize=11)"
   ]
  },
  {
   "cell_type": "code",
   "execution_count": 469,
   "metadata": {
    "scrolled": true
   },
   "outputs": [
    {
     "data": {
      "image/png": "[encoded data removed]",
      "text/plain": [
       "<Figure size 720x576 with 1 Axes>"
      ]
     },
     "metadata": {
      "needs_background": "light"
     },
     "output_type": "display_data"
    }
   ],
   "source": [
    "plot_region(x_bounds=(8, 10), y_bounds=(18, 25))\n",
    "# play around with these numbers, it will change which points appear on the graph"
   ]
  },
  {
   "cell_type": "code",
   "execution_count": 470,
   "metadata": {},
   "outputs": [
    {
     "data": {
      "image/png": "[encoded data removed]",
      "text/plain": [
       "<Figure size 720x576 with 1 Axes>"
      ]
     },
     "metadata": {
      "needs_background": "light"
     },
     "output_type": "display_data"
    }
   ],
   "source": [
    "plot_region(x_bounds=(18, 23), y_bounds=(18, 23))"
   ]
  },
  {
   "cell_type": "markdown",
   "metadata": {},
   "source": [
    "# Classify News as Relevant or Irrelevant   <a class=\"anchor\" id=\"fifth-bullet\"></a>"
   ]
  },
  {
   "cell_type": "markdown",
   "metadata": {},
   "source": [
    "To compare our news API articles to the ND 511 alerts, we will first pull in the newsapi csv that was created in 1_apis_and_webscrapping.ipynb. \n",
    "\n",
    "Then, we will get it ready to be used word2vec model by tokenizing and removing stop words."
   ]
  },
  {
   "cell_type": "code",
   "execution_count": 50,
   "metadata": {},
   "outputs": [],
   "source": [
    "news_df_topics = pd.read_csv('./data/news_api_v2.csv')"
   ]
  },
  {
   "cell_type": "code",
   "execution_count": 51,
   "metadata": {},
   "outputs": [],
   "source": [
    "news_list = news_df_topics['content'].values"
   ]
  },
  {
   "cell_type": "code",
   "execution_count": 52,
   "metadata": {},
   "outputs": [],
   "source": [
    "# remove common words and tokenize\n",
    "stoplist = stop_words#set('for a of the and to in with on'.split())\n",
    "texts_news = [\n",
    "    [word for word in news_list.lower().split() if word not in stoplist]\n",
    "    for news_list in news_list\n",
    "]\n",
    "\n",
    "# remove words that appear only once\n",
    "frequency = defaultdict(int)\n",
    "for text in texts_news:\n",
    "    for token in text:\n",
    "        frequency[token] += 1\n",
    "\n",
    "texts_news = [\n",
    "    [token for token in text if frequency[token] > 1]\n",
    "    for text in texts_news\n",
    "]\n"
   ]
  },
  {
   "cell_type": "code",
   "execution_count": 55,
   "metadata": {},
   "outputs": [],
   "source": [
    "list_of_words = []\n",
    "for i in texts:\n",
    "    for j in i:\n",
    "        list_of_words.append(j)"
   ]
  },
  {
   "cell_type": "code",
   "execution_count": 56,
   "metadata": {},
   "outputs": [],
   "source": [
    "list_of_words_news = []\n",
    "for i in texts_news:\n",
    "    for j in i:\n",
    "        list_of_words_news.append(j)"
   ]
  },
  {
   "cell_type": "markdown",
   "metadata": {},
   "source": [
    "Add in the tokenized news API text and North Dakota 511 data.  ND 511 will be what we are comparing the news articles to.\n",
    "If the cosine similarity is high between the article and the 511 alerts (on average), we will consider the news article road\n",
    "closure related."
   ]
  },
  {
   "cell_type": "code",
   "execution_count": 57,
   "metadata": {},
   "outputs": [],
   "source": [
    "combine_list = []\n",
    "for i in (list_of_words, list_of_words_news):\n",
    "    combine_list.append(i)"
   ]
  },
  {
   "cell_type": "code",
   "execution_count": 58,
   "metadata": {},
   "outputs": [],
   "source": [
    "dictionary = corpora.Dictionary(combine_list)"
   ]
  },
  {
   "cell_type": "code",
   "execution_count": 59,
   "metadata": {},
   "outputs": [],
   "source": [
    "\n",
    "\n",
    "w2v_model = api.load(\"glove-wiki-gigaword-50\")"
   ]
  },
  {
   "cell_type": "markdown",
   "metadata": {},
   "source": [
    "To see how relevant to road closures each of the news articles are, we will be comparing our vectorized articles to the vectorized ND 511 alerts.  We will be using the soft cosine measure.  This metric measures the similarity of documents by modeling synonymy.  So, if two sentences use a synonym for a word (eg \"road closed\" instead of \"street blocked\"), they will still score highly on the similarity value.\n",
    "\n",
    "Our model will loop through each of the articles in the New API set, comparing them to each of the articles in the ND 511 set.  Once we have a soft cosine measure for each of the ND511 alerts for a given article, an average will be taken.  This average will serve as our measure of how related to road closures a given article is."
   ]
  },
  {
   "cell_type": "code",
   "execution_count": 60,
   "metadata": {},
   "outputs": [
    {
     "name": "stdout",
     "output_type": "stream",
     "text": [
      "0 article_num\n",
      "1 article_num\n",
      "2 article_num\n",
      "3 article_num\n",
      "4 article_num\n",
      "5 article_num\n",
      "6 article_num\n",
      "7 article_num\n",
      "8 article_num\n",
      "9 article_num\n",
      "10 article_num\n",
      "11 article_num\n",
      "12 article_num\n",
      "13 article_num\n",
      "14 article_num\n",
      "15 article_num\n",
      "16 article_num\n",
      "17 article_num\n",
      "18 article_num\n",
      "19 article_num\n",
      "20 article_num\n",
      "21 article_num\n",
      "22 article_num\n",
      "23 article_num\n",
      "24 article_num\n",
      "25 article_num\n",
      "26 article_num\n",
      "27 article_num\n",
      "28 article_num\n",
      "29 article_num\n",
      "30 article_num\n",
      "31 article_num\n",
      "32 article_num\n",
      "33 article_num\n",
      "34 article_num\n",
      "35 article_num\n",
      "36 article_num\n",
      "37 article_num\n",
      "38 article_num\n",
      "39 article_num\n",
      "40 article_num\n",
      "41 article_num\n",
      "42 article_num\n",
      "43 article_num\n",
      "44 article_num\n",
      "45 article_num\n",
      "46 article_num\n",
      "47 article_num\n",
      "48 article_num\n",
      "49 article_num\n",
      "50 article_num\n",
      "51 article_num\n",
      "52 article_num\n",
      "53 article_num\n",
      "54 article_num\n",
      "55 article_num\n",
      "56 article_num\n",
      "57 article_num\n",
      "58 article_num\n",
      "59 article_num\n",
      "60 article_num\n",
      "61 article_num\n",
      "62 article_num\n",
      "63 article_num\n",
      "64 article_num\n",
      "65 article_num\n",
      "66 article_num\n",
      "67 article_num\n",
      "68 article_num\n",
      "69 article_num\n",
      "70 article_num\n",
      "71 article_num\n",
      "72 article_num\n",
      "73 article_num\n",
      "74 article_num\n",
      "75 article_num\n",
      "76 article_num\n",
      "77 article_num\n",
      "78 article_num\n",
      "79 article_num\n",
      "80 article_num\n",
      "81 article_num\n",
      "82 article_num\n",
      "83 article_num\n",
      "84 article_num\n",
      "85 article_num\n",
      "86 article_num\n",
      "87 article_num\n",
      "88 article_num\n",
      "89 article_num\n",
      "90 article_num\n",
      "91 article_num\n",
      "92 article_num\n",
      "93 article_num\n",
      "94 article_num\n",
      "95 article_num\n",
      "96 article_num\n",
      "97 article_num\n",
      "98 article_num\n",
      "99 article_num\n",
      "100 article_num\n",
      "101 article_num\n",
      "102 article_num\n",
      "103 article_num\n",
      "104 article_num\n",
      "105 article_num\n",
      "106 article_num\n",
      "107 article_num\n",
      "108 article_num\n",
      "109 article_num\n",
      "110 article_num\n",
      "111 article_num\n",
      "112 article_num\n",
      "113 article_num\n",
      "114 article_num\n",
      "115 article_num\n",
      "116 article_num\n",
      "117 article_num\n",
      "118 article_num\n",
      "119 article_num\n",
      "120 article_num\n",
      "121 article_num\n",
      "122 article_num\n",
      "123 article_num\n",
      "124 article_num\n",
      "125 article_num\n",
      "126 article_num\n",
      "127 article_num\n",
      "128 article_num\n",
      "129 article_num\n",
      "130 article_num\n",
      "131 article_num\n",
      "132 article_num\n",
      "133 article_num\n",
      "134 article_num\n",
      "135 article_num\n",
      "136 article_num\n",
      "137 article_num\n",
      "138 article_num\n",
      "139 article_num\n",
      "140 article_num\n",
      "141 article_num\n",
      "142 article_num\n",
      "143 article_num\n",
      "144 article_num\n",
      "145 article_num\n",
      "146 article_num\n",
      "147 article_num\n",
      "148 article_num\n",
      "149 article_num\n",
      "150 article_num\n",
      "151 article_num\n",
      "152 article_num\n",
      "153 article_num\n",
      "154 article_num\n",
      "155 article_num\n",
      "156 article_num\n",
      "157 article_num\n",
      "158 article_num\n",
      "159 article_num\n",
      "160 article_num\n",
      "161 article_num\n",
      "162 article_num\n",
      "163 article_num\n",
      "164 article_num\n",
      "165 article_num\n",
      "166 article_num\n",
      "167 article_num\n",
      "168 article_num\n",
      "169 article_num\n",
      "170 article_num\n",
      "171 article_num\n",
      "172 article_num\n",
      "173 article_num\n",
      "174 article_num\n",
      "175 article_num\n",
      "176 article_num\n",
      "177 article_num\n",
      "178 article_num\n",
      "179 article_num\n",
      "180 article_num\n",
      "181 article_num\n",
      "182 article_num\n",
      "183 article_num\n",
      "184 article_num\n",
      "185 article_num\n",
      "186 article_num\n",
      "187 article_num\n",
      "188 article_num\n",
      "189 article_num\n",
      "190 article_num\n",
      "191 article_num\n",
      "192 article_num\n",
      "193 article_num\n",
      "194 article_num\n",
      "195 article_num\n",
      "196 article_num\n",
      "197 article_num\n",
      "198 article_num\n",
      "199 article_num\n",
      "200 article_num\n",
      "201 article_num\n",
      "202 article_num\n",
      "203 article_num\n",
      "204 article_num\n",
      "205 article_num\n",
      "206 article_num\n",
      "207 article_num\n",
      "208 article_num\n",
      "209 article_num\n",
      "210 article_num\n",
      "211 article_num\n",
      "212 article_num\n",
      "213 article_num\n",
      "214 article_num\n",
      "215 article_num\n",
      "216 article_num\n",
      "217 article_num\n",
      "218 article_num\n",
      "219 article_num\n",
      "220 article_num\n",
      "221 article_num\n",
      "222 article_num\n",
      "223 article_num\n",
      "224 article_num\n",
      "225 article_num\n",
      "226 article_num\n",
      "227 article_num\n",
      "228 article_num\n",
      "229 article_num\n",
      "230 article_num\n",
      "231 article_num\n",
      "232 article_num\n",
      "233 article_num\n",
      "234 article_num\n",
      "235 article_num\n",
      "236 article_num\n",
      "237 article_num\n",
      "238 article_num\n",
      "239 article_num\n",
      "240 article_num\n",
      "241 article_num\n",
      "242 article_num\n",
      "243 article_num\n",
      "244 article_num\n",
      "245 article_num\n",
      "246 article_num\n",
      "247 article_num\n",
      "248 article_num\n",
      "249 article_num\n",
      "250 article_num\n",
      "251 article_num\n",
      "252 article_num\n",
      "253 article_num\n",
      "254 article_num\n",
      "255 article_num\n",
      "256 article_num\n",
      "257 article_num\n",
      "258 article_num\n",
      "259 article_num\n",
      "260 article_num\n",
      "261 article_num\n",
      "262 article_num\n",
      "263 article_num\n",
      "264 article_num\n",
      "265 article_num\n",
      "266 article_num\n",
      "267 article_num\n",
      "268 article_num\n",
      "269 article_num\n",
      "270 article_num\n",
      "271 article_num\n",
      "272 article_num\n",
      "273 article_num\n",
      "274 article_num\n",
      "275 article_num\n",
      "276 article_num\n",
      "277 article_num\n",
      "278 article_num\n",
      "279 article_num\n",
      "280 article_num\n",
      "281 article_num\n",
      "282 article_num\n",
      "283 article_num\n",
      "284 article_num\n",
      "285 article_num\n",
      "286 article_num\n",
      "287 article_num\n",
      "288 article_num\n",
      "289 article_num\n",
      "290 article_num\n",
      "291 article_num\n",
      "292 article_num\n",
      "293 article_num\n",
      "294 article_num\n",
      "295 article_num\n",
      "296 article_num\n",
      "297 article_num\n",
      "298 article_num\n",
      "299 article_num\n",
      "300 article_num\n",
      "301 article_num\n",
      "302 article_num\n",
      "303 article_num\n",
      "304 article_num\n",
      "305 article_num\n",
      "306 article_num\n",
      "307 article_num\n",
      "308 article_num\n",
      "309 article_num\n",
      "310 article_num\n",
      "311 article_num\n",
      "312 article_num\n",
      "313 article_num\n",
      "314 article_num\n",
      "315 article_num\n",
      "316 article_num\n",
      "317 article_num\n",
      "318 article_num\n",
      "319 article_num\n",
      "320 article_num\n",
      "321 article_num\n",
      "322 article_num\n",
      "323 article_num\n",
      "324 article_num\n",
      "325 article_num\n",
      "326 article_num\n",
      "327 article_num\n",
      "328 article_num\n",
      "329 article_num\n",
      "330 article_num\n",
      "331 article_num\n",
      "332 article_num\n",
      "333 article_num\n",
      "334 article_num\n",
      "335 article_num\n",
      "336 article_num\n",
      "337 article_num\n",
      "338 article_num\n",
      "339 article_num\n",
      "340 article_num\n",
      "341 article_num\n",
      "342 article_num\n",
      "343 article_num\n",
      "344 article_num\n",
      "345 article_num\n",
      "346 article_num\n",
      "347 article_num\n",
      "348 article_num\n",
      "349 article_num\n",
      "350 article_num\n",
      "351 article_num\n",
      "352 article_num\n",
      "353 article_num\n",
      "354 article_num\n",
      "355 article_num\n",
      "356 article_num\n",
      "357 article_num\n",
      "358 article_num\n",
      "359 article_num\n",
      "360 article_num\n",
      "361 article_num\n",
      "362 article_num\n",
      "363 article_num\n",
      "364 article_num\n",
      "365 article_num\n",
      "366 article_num\n",
      "367 article_num\n",
      "368 article_num\n",
      "369 article_num\n",
      "370 article_num\n",
      "371 article_num\n",
      "372 article_num\n",
      "373 article_num\n",
      "374 article_num\n",
      "375 article_num\n",
      "376 article_num\n",
      "377 article_num\n",
      "378 article_num\n",
      "379 article_num\n",
      "380 article_num\n",
      "381 article_num\n",
      "382 article_num\n",
      "383 article_num\n",
      "384 article_num\n",
      "385 article_num\n",
      "386 article_num\n",
      "387 article_num\n",
      "388 article_num\n",
      "389 article_num\n",
      "390 article_num\n",
      "391 article_num\n",
      "392 article_num\n",
      "393 article_num\n",
      "394 article_num\n",
      "395 article_num\n",
      "396 article_num\n",
      "397 article_num\n",
      "398 article_num\n",
      "399 article_num\n",
      "400 article_num\n",
      "401 article_num\n",
      "402 article_num\n",
      "403 article_num\n",
      "404 article_num\n",
      "405 article_num\n",
      "406 article_num\n",
      "407 article_num\n",
      "408 article_num\n",
      "409 article_num\n",
      "410 article_num\n",
      "411 article_num\n",
      "412 article_num\n",
      "413 article_num\n",
      "414 article_num\n",
      "415 article_num\n",
      "416 article_num\n",
      "417 article_num\n",
      "418 article_num\n",
      "419 article_num\n",
      "420 article_num\n",
      "421 article_num\n",
      "422 article_num\n",
      "423 article_num\n",
      "424 article_num\n",
      "425 article_num\n",
      "426 article_num\n",
      "427 article_num\n",
      "428 article_num\n",
      "429 article_num\n",
      "430 article_num\n",
      "431 article_num\n",
      "432 article_num\n",
      "433 article_num\n",
      "434 article_num\n",
      "435 article_num\n",
      "436 article_num\n",
      "437 article_num\n",
      "438 article_num\n",
      "439 article_num\n",
      "440 article_num\n",
      "441 article_num\n",
      "442 article_num\n",
      "443 article_num\n",
      "444 article_num\n",
      "445 article_num\n",
      "446 article_num\n",
      "447 article_num\n",
      "448 article_num\n",
      "449 article_num\n",
      "450 article_num\n",
      "451 article_num\n",
      "452 article_num\n",
      "453 article_num\n",
      "454 article_num\n",
      "455 article_num\n",
      "456 article_num\n",
      "457 article_num\n",
      "458 article_num\n",
      "459 article_num\n",
      "460 article_num\n",
      "461 article_num\n",
      "462 article_num\n",
      "463 article_num\n",
      "464 article_num\n",
      "465 article_num\n",
      "466 article_num\n",
      "467 article_num\n",
      "468 article_num\n",
      "469 article_num\n",
      "470 article_num\n",
      "471 article_num\n",
      "472 article_num\n",
      "473 article_num\n",
      "474 article_num\n",
      "475 article_num\n",
      "476 article_num\n",
      "477 article_num\n",
      "478 article_num\n",
      "479 article_num\n",
      "480 article_num\n",
      "481 article_num\n",
      "482 article_num\n",
      "483 article_num\n",
      "484 article_num\n",
      "485 article_num\n",
      "486 article_num\n",
      "487 article_num\n",
      "488 article_num\n",
      "489 article_num\n",
      "490 article_num\n",
      "491 article_num\n",
      "492 article_num\n",
      "493 article_num\n",
      "494 article_num\n",
      "495 article_num\n",
      "496 article_num\n",
      "497 article_num\n",
      "498 article_num\n",
      "499 article_num\n",
      "500 article_num\n",
      "501 article_num\n",
      "502 article_num\n",
      "503 article_num\n",
      "504 article_num\n",
      "505 article_num\n",
      "506 article_num\n",
      "507 article_num\n",
      "508 article_num\n",
      "509 article_num\n",
      "510 article_num\n",
      "511 article_num\n",
      "512 article_num\n",
      "513 article_num\n",
      "514 article_num\n",
      "515 article_num\n",
      "516 article_num\n",
      "517 article_num\n",
      "518 article_num\n",
      "519 article_num\n",
      "520 article_num\n",
      "521 article_num\n",
      "522 article_num\n",
      "523 article_num\n",
      "524 article_num\n",
      "525 article_num\n",
      "526 article_num\n",
      "527 article_num\n",
      "528 article_num\n",
      "529 article_num\n",
      "530 article_num\n",
      "531 article_num\n",
      "532 article_num\n",
      "533 article_num\n",
      "534 article_num\n",
      "535 article_num\n",
      "536 article_num\n",
      "537 article_num\n",
      "538 article_num\n",
      "539 article_num\n",
      "540 article_num\n",
      "541 article_num\n",
      "542 article_num\n",
      "543 article_num\n",
      "544 article_num\n",
      "545 article_num\n",
      "546 article_num\n",
      "547 article_num\n",
      "548 article_num\n",
      "549 article_num\n",
      "550 article_num\n",
      "551 article_num\n",
      "552 article_num\n",
      "553 article_num\n",
      "554 article_num\n",
      "555 article_num\n",
      "556 article_num\n",
      "557 article_num\n",
      "558 article_num\n",
      "559 article_num\n",
      "560 article_num\n",
      "561 article_num\n",
      "562 article_num\n",
      "563 article_num\n",
      "564 article_num\n",
      "565 article_num\n",
      "566 article_num\n",
      "567 article_num\n",
      "568 article_num\n",
      "569 article_num\n",
      "570 article_num\n",
      "571 article_num\n",
      "572 article_num\n",
      "573 article_num\n",
      "574 article_num\n",
      "575 article_num\n",
      "576 article_num\n",
      "577 article_num\n",
      "578 article_num\n",
      "579 article_num\n",
      "580 article_num\n",
      "581 article_num\n",
      "582 article_num\n",
      "583 article_num\n",
      "584 article_num\n",
      "585 article_num\n",
      "586 article_num\n",
      "587 article_num\n",
      "588 article_num\n",
      "589 article_num\n",
      "590 article_num\n",
      "591 article_num\n",
      "592 article_num\n",
      "593 article_num\n",
      "594 article_num\n",
      "595 article_num\n",
      "596 article_num\n",
      "597 article_num\n",
      "598 article_num\n",
      "599 article_num\n",
      "600 article_num\n",
      "601 article_num\n",
      "602 article_num\n",
      "603 article_num\n",
      "604 article_num\n",
      "605 article_num\n",
      "606 article_num\n",
      "607 article_num\n",
      "608 article_num\n",
      "609 article_num\n",
      "610 article_num\n",
      "611 article_num\n",
      "612 article_num\n",
      "613 article_num\n",
      "614 article_num\n",
      "615 article_num\n",
      "616 article_num\n",
      "617 article_num\n",
      "618 article_num\n",
      "619 article_num\n",
      "620 article_num\n",
      "621 article_num\n",
      "622 article_num\n",
      "623 article_num\n",
      "624 article_num\n",
      "625 article_num\n",
      "626 article_num\n",
      "627 article_num\n",
      "628 article_num\n",
      "629 article_num\n",
      "630 article_num\n",
      "631 article_num\n",
      "632 article_num\n",
      "633 article_num\n",
      "634 article_num\n",
      "635 article_num\n",
      "636 article_num\n",
      "637 article_num\n",
      "638 article_num\n",
      "639 article_num\n",
      "640 article_num\n",
      "641 article_num\n",
      "642 article_num\n",
      "643 article_num\n",
      "644 article_num\n",
      "645 article_num\n",
      "646 article_num\n",
      "647 article_num\n",
      "648 article_num\n",
      "649 article_num\n",
      "650 article_num\n",
      "651 article_num\n",
      "652 article_num\n",
      "653 article_num\n",
      "654 article_num\n",
      "655 article_num\n",
      "656 article_num\n",
      "657 article_num\n",
      "658 article_num\n",
      "659 article_num\n",
      "660 article_num\n",
      "661 article_num\n",
      "662 article_num\n",
      "663 article_num\n",
      "664 article_num\n",
      "665 article_num\n",
      "666 article_num\n",
      "667 article_num\n",
      "668 article_num\n",
      "669 article_num\n",
      "670 article_num\n",
      "671 article_num\n",
      "672 article_num\n",
      "673 article_num\n",
      "674 article_num\n",
      "675 article_num\n",
      "676 article_num\n",
      "677 article_num\n",
      "678 article_num\n",
      "679 article_num\n",
      "680 article_num\n",
      "681 article_num\n",
      "682 article_num\n",
      "683 article_num\n",
      "684 article_num\n",
      "685 article_num\n",
      "686 article_num\n",
      "687 article_num\n",
      "688 article_num\n",
      "689 article_num\n",
      "690 article_num\n",
      "691 article_num\n",
      "692 article_num\n",
      "693 article_num\n",
      "694 article_num\n",
      "695 article_num\n",
      "696 article_num\n",
      "697 article_num\n",
      "698 article_num\n",
      "699 article_num\n",
      "700 article_num\n",
      "701 article_num\n",
      "702 article_num\n",
      "703 article_num\n",
      "704 article_num\n",
      "705 article_num\n",
      "706 article_num\n",
      "707 article_num\n",
      "708 article_num\n",
      "709 article_num\n",
      "710 article_num\n",
      "711 article_num\n",
      "712 article_num\n",
      "713 article_num\n",
      "714 article_num\n",
      "715 article_num\n",
      "716 article_num\n",
      "717 article_num\n",
      "718 article_num\n",
      "719 article_num\n",
      "720 article_num\n",
      "721 article_num\n",
      "722 article_num\n",
      "723 article_num\n",
      "724 article_num\n",
      "725 article_num\n",
      "726 article_num\n",
      "727 article_num\n",
      "728 article_num\n",
      "729 article_num\n",
      "730 article_num\n",
      "731 article_num\n",
      "732 article_num\n",
      "733 article_num\n",
      "734 article_num\n",
      "735 article_num\n",
      "736 article_num\n",
      "737 article_num\n",
      "738 article_num\n",
      "739 article_num\n",
      "740 article_num\n",
      "741 article_num\n",
      "742 article_num\n",
      "743 article_num\n",
      "744 article_num\n",
      "745 article_num\n",
      "746 article_num\n",
      "747 article_num\n",
      "748 article_num\n",
      "749 article_num\n",
      "750 article_num\n",
      "751 article_num\n",
      "752 article_num\n",
      "753 article_num\n",
      "754 article_num\n",
      "755 article_num\n",
      "756 article_num\n",
      "757 article_num\n",
      "758 article_num\n",
      "759 article_num\n",
      "760 article_num\n",
      "761 article_num\n",
      "762 article_num\n",
      "763 article_num\n",
      "764 article_num\n",
      "765 article_num\n",
      "766 article_num\n",
      "767 article_num\n",
      "768 article_num\n",
      "769 article_num\n",
      "770 article_num\n",
      "771 article_num\n",
      "772 article_num\n",
      "773 article_num\n",
      "774 article_num\n",
      "775 article_num\n",
      "776 article_num\n",
      "777 article_num\n",
      "778 article_num\n",
      "779 article_num\n",
      "780 article_num\n",
      "781 article_num\n",
      "782 article_num\n",
      "783 article_num\n",
      "784 article_num\n",
      "785 article_num\n",
      "786 article_num\n",
      "787 article_num\n",
      "788 article_num\n",
      "789 article_num\n",
      "790 article_num\n",
      "791 article_num\n",
      "792 article_num\n",
      "793 article_num\n",
      "794 article_num\n",
      "795 article_num\n",
      "796 article_num\n",
      "797 article_num\n",
      "798 article_num\n",
      "799 article_num\n",
      "800 article_num\n",
      "801 article_num\n",
      "802 article_num\n",
      "803 article_num\n",
      "804 article_num\n",
      "805 article_num\n",
      "806 article_num\n",
      "807 article_num\n",
      "808 article_num\n",
      "809 article_num\n",
      "810 article_num\n",
      "811 article_num\n",
      "812 article_num\n",
      "813 article_num\n",
      "814 article_num\n",
      "815 article_num\n",
      "816 article_num\n",
      "817 article_num\n",
      "818 article_num\n",
      "819 article_num\n",
      "820 article_num\n",
      "821 article_num\n",
      "822 article_num\n",
      "823 article_num\n",
      "824 article_num\n",
      "825 article_num\n",
      "826 article_num\n",
      "827 article_num\n",
      "828 article_num\n",
      "829 article_num\n",
      "830 article_num\n",
      "831 article_num\n",
      "832 article_num\n",
      "833 article_num\n",
      "834 article_num\n",
      "835 article_num\n",
      "836 article_num\n",
      "837 article_num\n",
      "838 article_num\n",
      "839 article_num\n",
      "840 article_num\n",
      "841 article_num\n",
      "842 article_num\n",
      "843 article_num\n",
      "844 article_num\n",
      "845 article_num\n",
      "846 article_num\n",
      "847 article_num\n",
      "848 article_num\n",
      "849 article_num\n",
      "850 article_num\n",
      "851 article_num\n",
      "852 article_num\n",
      "853 article_num\n",
      "854 article_num\n",
      "855 article_num\n",
      "856 article_num\n",
      "857 article_num\n",
      "858 article_num\n",
      "859 article_num\n",
      "860 article_num\n",
      "861 article_num\n",
      "862 article_num\n",
      "863 article_num\n",
      "864 article_num\n",
      "865 article_num\n",
      "866 article_num\n",
      "867 article_num\n",
      "868 article_num\n",
      "869 article_num\n",
      "870 article_num\n",
      "871 article_num\n",
      "872 article_num\n",
      "873 article_num\n",
      "874 article_num\n",
      "875 article_num\n",
      "876 article_num\n",
      "877 article_num\n",
      "878 article_num\n",
      "879 article_num\n",
      "880 article_num\n",
      "881 article_num\n",
      "882 article_num\n",
      "883 article_num\n",
      "884 article_num\n",
      "885 article_num\n",
      "886 article_num\n",
      "887 article_num\n",
      "888 article_num\n",
      "889 article_num\n",
      "890 article_num\n",
      "891 article_num\n",
      "892 article_num\n",
      "893 article_num\n",
      "894 article_num\n",
      "895 article_num\n",
      "896 article_num\n",
      "897 article_num\n",
      "898 article_num\n",
      "899 article_num\n",
      "900 article_num\n",
      "901 article_num\n",
      "902 article_num\n",
      "903 article_num\n",
      "904 article_num\n",
      "905 article_num\n",
      "906 article_num\n",
      "907 article_num\n",
      "908 article_num\n",
      "909 article_num\n",
      "910 article_num\n",
      "911 article_num\n",
      "912 article_num\n",
      "913 article_num\n",
      "914 article_num\n",
      "915 article_num\n",
      "916 article_num\n",
      "917 article_num\n",
      "918 article_num\n",
      "919 article_num\n",
      "920 article_num\n",
      "921 article_num\n",
      "922 article_num\n",
      "923 article_num\n",
      "924 article_num\n",
      "925 article_num\n",
      "926 article_num\n",
      "927 article_num\n",
      "928 article_num\n",
      "929 article_num\n",
      "930 article_num\n",
      "931 article_num\n",
      "932 article_num\n",
      "933 article_num\n",
      "934 article_num\n",
      "935 article_num\n",
      "936 article_num\n",
      "937 article_num\n",
      "938 article_num\n",
      "939 article_num\n",
      "940 article_num\n",
      "941 article_num\n",
      "942 article_num\n",
      "943 article_num\n",
      "944 article_num\n",
      "945 article_num\n",
      "946 article_num\n",
      "947 article_num\n",
      "948 article_num\n",
      "949 article_num\n",
      "950 article_num\n",
      "951 article_num\n",
      "952 article_num\n",
      "953 article_num\n",
      "954 article_num\n",
      "955 article_num\n",
      "956 article_num\n",
      "957 article_num\n",
      "958 article_num\n",
      "959 article_num\n",
      "960 article_num\n",
      "961 article_num\n",
      "962 article_num\n",
      "963 article_num\n",
      "964 article_num\n",
      "965 article_num\n",
      "966 article_num\n",
      "967 article_num\n",
      "968 article_num\n",
      "969 article_num\n",
      "970 article_num\n",
      "971 article_num\n",
      "972 article_num\n",
      "973 article_num\n",
      "974 article_num\n",
      "975 article_num\n",
      "976 article_num\n",
      "977 article_num\n",
      "978 article_num\n",
      "979 article_num\n",
      "980 article_num\n",
      "981 article_num\n",
      "982 article_num\n",
      "983 article_num\n",
      "984 article_num\n",
      "985 article_num\n",
      "986 article_num\n",
      "987 article_num\n",
      "988 article_num\n",
      "989 article_num\n",
      "990 article_num\n",
      "991 article_num\n",
      "992 article_num\n",
      "993 article_num\n",
      "994 article_num\n",
      "995 article_num\n",
      "996 article_num\n",
      "997 article_num\n",
      "998 article_num\n",
      "999 article_num\n",
      "1000 article_num\n",
      "1001 article_num\n",
      "1002 article_num\n",
      "1003 article_num\n",
      "1004 article_num\n",
      "1005 article_num\n",
      "1006 article_num\n",
      "1007 article_num\n",
      "1008 article_num\n",
      "1009 article_num\n",
      "1010 article_num\n",
      "1011 article_num\n",
      "1012 article_num\n",
      "1013 article_num\n",
      "1014 article_num\n",
      "1015 article_num\n",
      "1016 article_num\n",
      "1017 article_num\n",
      "1018 article_num\n",
      "1019 article_num\n",
      "1020 article_num\n",
      "1021 article_num\n",
      "1022 article_num\n",
      "1023 article_num\n",
      "1024 article_num\n",
      "1025 article_num\n",
      "1026 article_num\n",
      "1027 article_num\n"
     ]
    },
    {
     "name": "stdout",
     "output_type": "stream",
     "text": [
      "1028 article_num\n",
      "1029 article_num\n",
      "1030 article_num\n",
      "1031 article_num\n",
      "1032 article_num\n",
      "1033 article_num\n",
      "1034 article_num\n",
      "1035 article_num\n",
      "1036 article_num\n",
      "1037 article_num\n",
      "1038 article_num\n",
      "1039 article_num\n",
      "1040 article_num\n",
      "1041 article_num\n",
      "1042 article_num\n",
      "1043 article_num\n",
      "1044 article_num\n",
      "1045 article_num\n",
      "1046 article_num\n",
      "1047 article_num\n",
      "1048 article_num\n",
      "1049 article_num\n",
      "1050 article_num\n",
      "1051 article_num\n",
      "1052 article_num\n",
      "1053 article_num\n",
      "1054 article_num\n",
      "1055 article_num\n",
      "1056 article_num\n",
      "1057 article_num\n",
      "1058 article_num\n",
      "1059 article_num\n",
      "1060 article_num\n",
      "1061 article_num\n",
      "1062 article_num\n",
      "1063 article_num\n",
      "1064 article_num\n",
      "1065 article_num\n",
      "1066 article_num\n",
      "1067 article_num\n",
      "1068 article_num\n",
      "1069 article_num\n",
      "1070 article_num\n",
      "1071 article_num\n",
      "1072 article_num\n",
      "1073 article_num\n",
      "1074 article_num\n",
      "1075 article_num\n",
      "1076 article_num\n",
      "1077 article_num\n",
      "1078 article_num\n",
      "1079 article_num\n",
      "1080 article_num\n",
      "1081 article_num\n",
      "1082 article_num\n",
      "1083 article_num\n",
      "1084 article_num\n",
      "1085 article_num\n",
      "1086 article_num\n",
      "1087 article_num\n",
      "1088 article_num\n",
      "1089 article_num\n",
      "1090 article_num\n",
      "1091 article_num\n",
      "1092 article_num\n",
      "1093 article_num\n",
      "1094 article_num\n",
      "1095 article_num\n",
      "1096 article_num\n",
      "1097 article_num\n",
      "1098 article_num\n",
      "1099 article_num\n",
      "1100 article_num\n",
      "1101 article_num\n",
      "1102 article_num\n",
      "1103 article_num\n",
      "1104 article_num\n",
      "1105 article_num\n",
      "1106 article_num\n",
      "1107 article_num\n",
      "1108 article_num\n",
      "1109 article_num\n",
      "1110 article_num\n",
      "1111 article_num\n",
      "1112 article_num\n",
      "1113 article_num\n",
      "1114 article_num\n",
      "1115 article_num\n",
      "1116 article_num\n",
      "1117 article_num\n",
      "1118 article_num\n",
      "1119 article_num\n",
      "1120 article_num\n",
      "1121 article_num\n",
      "1122 article_num\n",
      "1123 article_num\n",
      "1124 article_num\n",
      "1125 article_num\n",
      "1126 article_num\n",
      "1127 article_num\n",
      "1128 article_num\n",
      "1129 article_num\n",
      "1130 article_num\n",
      "1131 article_num\n",
      "1132 article_num\n",
      "1133 article_num\n",
      "1134 article_num\n",
      "1135 article_num\n",
      "1136 article_num\n",
      "1137 article_num\n",
      "1138 article_num\n",
      "1139 article_num\n",
      "1140 article_num\n",
      "1141 article_num\n",
      "1142 article_num\n",
      "1143 article_num\n",
      "1144 article_num\n",
      "1145 article_num\n",
      "1146 article_num\n",
      "1147 article_num\n",
      "1148 article_num\n",
      "1149 article_num\n",
      "1150 article_num\n",
      "1151 article_num\n",
      "1152 article_num\n",
      "1153 article_num\n",
      "1154 article_num\n",
      "1155 article_num\n",
      "1156 article_num\n",
      "1157 article_num\n",
      "1158 article_num\n",
      "1159 article_num\n",
      "1160 article_num\n",
      "1161 article_num\n",
      "1162 article_num\n",
      "1163 article_num\n",
      "1164 article_num\n",
      "1165 article_num\n",
      "1166 article_num\n",
      "1167 article_num\n",
      "1168 article_num\n",
      "1169 article_num\n",
      "1170 article_num\n",
      "1171 article_num\n",
      "1172 article_num\n",
      "1173 article_num\n",
      "1174 article_num\n",
      "1175 article_num\n",
      "1176 article_num\n",
      "1177 article_num\n",
      "1178 article_num\n",
      "1179 article_num\n",
      "1180 article_num\n",
      "1181 article_num\n",
      "1182 article_num\n",
      "1183 article_num\n",
      "1184 article_num\n",
      "1185 article_num\n",
      "1186 article_num\n",
      "1187 article_num\n",
      "1188 article_num\n",
      "1189 article_num\n",
      "1190 article_num\n",
      "1191 article_num\n",
      "1192 article_num\n",
      "1193 article_num\n",
      "1194 article_num\n",
      "1195 article_num\n",
      "1196 article_num\n",
      "1197 article_num\n",
      "1198 article_num\n",
      "1199 article_num\n",
      "1200 article_num\n",
      "1201 article_num\n",
      "1202 article_num\n",
      "1203 article_num\n",
      "1204 article_num\n",
      "1205 article_num\n",
      "1206 article_num\n",
      "1207 article_num\n",
      "1208 article_num\n",
      "1209 article_num\n",
      "1210 article_num\n",
      "1211 article_num\n",
      "1212 article_num\n",
      "1213 article_num\n",
      "1214 article_num\n",
      "1215 article_num\n",
      "1216 article_num\n",
      "1217 article_num\n",
      "1218 article_num\n",
      "1219 article_num\n",
      "1220 article_num\n",
      "1221 article_num\n",
      "1222 article_num\n",
      "1223 article_num\n",
      "1224 article_num\n",
      "1225 article_num\n",
      "1226 article_num\n",
      "1227 article_num\n",
      "1228 article_num\n",
      "1229 article_num\n",
      "1230 article_num\n",
      "1231 article_num\n",
      "1232 article_num\n",
      "1233 article_num\n",
      "1234 article_num\n",
      "1235 article_num\n",
      "1236 article_num\n",
      "1237 article_num\n",
      "1238 article_num\n",
      "1239 article_num\n",
      "1240 article_num\n",
      "1241 article_num\n",
      "1242 article_num\n",
      "1243 article_num\n",
      "1244 article_num\n",
      "1245 article_num\n",
      "1246 article_num\n",
      "1247 article_num\n",
      "1248 article_num\n",
      "1249 article_num\n",
      "1250 article_num\n",
      "1251 article_num\n",
      "1252 article_num\n",
      "1253 article_num\n",
      "1254 article_num\n",
      "1255 article_num\n",
      "1256 article_num\n",
      "1257 article_num\n",
      "1258 article_num\n",
      "1259 article_num\n",
      "1260 article_num\n",
      "1261 article_num\n",
      "1262 article_num\n",
      "1263 article_num\n",
      "1264 article_num\n",
      "1265 article_num\n",
      "1266 article_num\n",
      "1267 article_num\n",
      "1268 article_num\n",
      "1269 article_num\n",
      "1270 article_num\n",
      "1271 article_num\n",
      "1272 article_num\n",
      "1273 article_num\n",
      "1274 article_num\n",
      "1275 article_num\n",
      "1276 article_num\n",
      "1277 article_num\n",
      "1278 article_num\n",
      "1279 article_num\n",
      "1280 article_num\n",
      "1281 article_num\n",
      "1282 article_num\n",
      "1283 article_num\n",
      "1284 article_num\n",
      "1285 article_num\n",
      "1286 article_num\n",
      "1287 article_num\n",
      "1288 article_num\n",
      "1289 article_num\n",
      "1290 article_num\n",
      "1291 article_num\n",
      "1292 article_num\n",
      "1293 article_num\n",
      "1294 article_num\n",
      "1295 article_num\n",
      "1296 article_num\n",
      "1297 article_num\n",
      "1298 article_num\n",
      "1299 article_num\n",
      "1300 article_num\n",
      "1301 article_num\n",
      "1302 article_num\n",
      "1303 article_num\n",
      "1304 article_num\n",
      "1305 article_num\n",
      "1306 article_num\n",
      "1307 article_num\n",
      "1308 article_num\n",
      "1309 article_num\n",
      "1310 article_num\n",
      "1311 article_num\n",
      "1312 article_num\n",
      "1313 article_num\n",
      "1314 article_num\n",
      "1315 article_num\n",
      "1316 article_num\n",
      "1317 article_num\n",
      "1318 article_num\n",
      "1319 article_num\n",
      "1320 article_num\n",
      "1321 article_num\n",
      "1322 article_num\n",
      "1323 article_num\n",
      "1324 article_num\n",
      "1325 article_num\n",
      "1326 article_num\n",
      "1327 article_num\n",
      "1328 article_num\n",
      "1329 article_num\n",
      "1330 article_num\n",
      "1331 article_num\n",
      "1332 article_num\n",
      "1333 article_num\n",
      "1334 article_num\n",
      "1335 article_num\n",
      "1336 article_num\n",
      "1337 article_num\n",
      "1338 article_num\n",
      "1339 article_num\n",
      "1340 article_num\n",
      "1341 article_num\n",
      "1342 article_num\n",
      "1343 article_num\n",
      "1344 article_num\n",
      "1345 article_num\n",
      "1346 article_num\n",
      "1347 article_num\n",
      "1348 article_num\n",
      "1349 article_num\n",
      "1350 article_num\n",
      "1351 article_num\n",
      "1352 article_num\n",
      "1353 article_num\n",
      "1354 article_num\n",
      "1355 article_num\n",
      "1356 article_num\n",
      "1357 article_num\n",
      "1358 article_num\n",
      "1359 article_num\n",
      "1360 article_num\n",
      "1361 article_num\n",
      "1362 article_num\n",
      "1363 article_num\n",
      "1364 article_num\n",
      "1365 article_num\n",
      "1366 article_num\n",
      "1367 article_num\n",
      "1368 article_num\n",
      "1369 article_num\n",
      "1370 article_num\n",
      "1371 article_num\n",
      "1372 article_num\n",
      "1373 article_num\n",
      "1374 article_num\n",
      "1375 article_num\n",
      "1376 article_num\n",
      "1377 article_num\n",
      "1378 article_num\n",
      "1379 article_num\n",
      "1380 article_num\n"
     ]
    }
   ],
   "source": [
    "# gather similarities for each news article, compared to the nd 511 alerts\n",
    "#get all sims for each article, then get the average\n",
    "# source for idea: https://github.com/RaRe-Technologies/gensim/blob/develop/docs/notebooks/soft_cosine_tutorial.ipynb\n",
    "# add'l ideas here https://stackoverflow.com/questions/45876711/gensim-word2vec-wmd-similarity-dictionary\n",
    "all_sims = []\n",
    "\n",
    "similarity_index = WordEmbeddingSimilarityIndex(w2v_model)\n",
    "similarity_matrix = SparseTermSimilarityMatrix(similarity_index, dictionary)\n",
    "\n",
    "for idx, i in enumerate(texts_news):\n",
    "    print(idx, 'article_num')\n",
    "    sims = []\n",
    "    sentance_news =  dictionary.doc2bow(i)\n",
    "    for ind, j in enumerate(texts):\n",
    "        #print(ind, 'iteration_num')\n",
    "        sentence_nd =  dictionary.doc2bow(j)\n",
    "        similarity = similarity_matrix.inner_product(sentance_news, sentence_nd, normalized=True)\n",
    "        sims.append(similarity)\n",
    "    all_sims.append(sims)"
   ]
  },
  {
   "cell_type": "markdown",
   "metadata": {},
   "source": [
    "Calculate the average score for each article.  This will give us one number to compare the articles to eachother on."
   ]
  },
  {
   "cell_type": "code",
   "execution_count": 61,
   "metadata": {},
   "outputs": [],
   "source": [
    "def avg_function(lst): \n",
    "    return sum(lst) / len(lst) "
   ]
  },
  {
   "cell_type": "code",
   "execution_count": 62,
   "metadata": {},
   "outputs": [],
   "source": [
    "avgs = []\n",
    "\n",
    "for i in all_sims:\n",
    "    avg = avg_function(i)\n",
    "    avgs.append(avg)"
   ]
  },
  {
   "cell_type": "code",
   "execution_count": 63,
   "metadata": {},
   "outputs": [
    {
     "data": {
      "text/plain": [
       "1381"
      ]
     },
     "execution_count": 63,
     "metadata": {},
     "output_type": "execute_result"
    }
   ],
   "source": [
    "len(all_sims)"
   ]
  },
  {
   "cell_type": "code",
   "execution_count": 64,
   "metadata": {},
   "outputs": [
    {
     "data": {
      "text/plain": [
       "1381"
      ]
     },
     "execution_count": 64,
     "metadata": {},
     "output_type": "execute_result"
    }
   ],
   "source": [
    "len(avgs)"
   ]
  },
  {
   "cell_type": "code",
   "execution_count": 65,
   "metadata": {},
   "outputs": [],
   "source": [
    "news_df_topics['avg_cosine'] = avgs"
   ]
  },
  {
   "cell_type": "markdown",
   "metadata": {},
   "source": [
    "Now that we have appended our avg. soft cosine values to each of the new articles, we can visually evaluate the model.  Because we are working on an unsupervised data set (we are not given a y value), we will have to evaluate our model by visually inspecing the data."
   ]
  },
  {
   "cell_type": "code",
   "execution_count": 66,
   "metadata": {},
   "outputs": [
    {
     "data": {
      "text/html": [
       "<div>\n",
       "<style scoped>\n",
       "    .dataframe tbody tr th:only-of-type {\n",
       "        vertical-align: middle;\n",
       "    }\n",
       "\n",
       "    .dataframe tbody tr th {\n",
       "        vertical-align: top;\n",
       "    }\n",
       "\n",
       "    .dataframe thead th {\n",
       "        text-align: right;\n",
       "    }\n",
       "</style>\n",
       "<table border=\"1\" class=\"dataframe\">\n",
       "  <thead>\n",
       "    <tr style=\"text-align: right;\">\n",
       "      <th></th>\n",
       "      <th>Unnamed: 0</th>\n",
       "      <th>publishedAt</th>\n",
       "      <th>content</th>\n",
       "      <th>url</th>\n",
       "      <th>locations_and_times</th>\n",
       "      <th>avg_cosine</th>\n",
       "    </tr>\n",
       "  </thead>\n",
       "  <tbody>\n",
       "    <tr>\n",
       "      <th>0</th>\n",
       "      <td>0</td>\n",
       "      <td>2019-04-15T16:41:00Z</td>\n",
       "      <td>The 2019 BMW M850i convertible (starting at $1...</td>\n",
       "      <td>https://www.engadget.com/2019/04/15/2019-bmw-m...</td>\n",
       "      <td>[('2019', 'DATE')]</td>\n",
       "      <td>0.226761</td>\n",
       "    </tr>\n",
       "    <tr>\n",
       "      <th>1</th>\n",
       "      <td>1</td>\n",
       "      <td>2019-04-09T14:00:00Z</td>\n",
       "      <td>Running may be one of the simplest fitness act...</td>\n",
       "      <td>https://vitals.lifehacker.com/how-to-avoid-inj...</td>\n",
       "      <td>[]</td>\n",
       "      <td>0.311644</td>\n",
       "    </tr>\n",
       "    <tr>\n",
       "      <th>2</th>\n",
       "      <td>2</td>\n",
       "      <td>2019-04-15T21:25:23Z</td>\n",
       "      <td>Volvo is taking technology that allowed some o...</td>\n",
       "      <td>http://techcrunch.com/2019/04/15/volvo-cars-in...</td>\n",
       "      <td>[('Monday', 'DATE')]</td>\n",
       "      <td>0.390492</td>\n",
       "    </tr>\n",
       "    <tr>\n",
       "      <th>3</th>\n",
       "      <td>3</td>\n",
       "      <td>2019-03-30T04:01:00Z</td>\n",
       "      <td>From the top of the mound, I cant see much. So...</td>\n",
       "      <td>https://www.wired.com/story/jeep-gladiator-pic...</td>\n",
       "      <td>[('the past few days', 'DATE')]</td>\n",
       "      <td>0.160964</td>\n",
       "    </tr>\n",
       "    <tr>\n",
       "      <th>4</th>\n",
       "      <td>5</td>\n",
       "      <td>2019-03-28T15:03:00Z</td>\n",
       "      <td>The Evoque (starting at $42,650) is the baby o...</td>\n",
       "      <td>https://www.engadget.com/2019/03/28/land-rover...</td>\n",
       "      <td>[]</td>\n",
       "      <td>0.129242</td>\n",
       "    </tr>\n",
       "  </tbody>\n",
       "</table>\n",
       "</div>"
      ],
      "text/plain": [
       "   Unnamed: 0           publishedAt  \\\n",
       "0           0  2019-04-15T16:41:00Z   \n",
       "1           1  2019-04-09T14:00:00Z   \n",
       "2           2  2019-04-15T21:25:23Z   \n",
       "3           3  2019-03-30T04:01:00Z   \n",
       "4           5  2019-03-28T15:03:00Z   \n",
       "\n",
       "                                             content  \\\n",
       "0  The 2019 BMW M850i convertible (starting at $1...   \n",
       "1  Running may be one of the simplest fitness act...   \n",
       "2  Volvo is taking technology that allowed some o...   \n",
       "3  From the top of the mound, I cant see much. So...   \n",
       "4  The Evoque (starting at $42,650) is the baby o...   \n",
       "\n",
       "                                                 url  \\\n",
       "0  https://www.engadget.com/2019/04/15/2019-bmw-m...   \n",
       "1  https://vitals.lifehacker.com/how-to-avoid-inj...   \n",
       "2  http://techcrunch.com/2019/04/15/volvo-cars-in...   \n",
       "3  https://www.wired.com/story/jeep-gladiator-pic...   \n",
       "4  https://www.engadget.com/2019/03/28/land-rover...   \n",
       "\n",
       "               locations_and_times  avg_cosine  \n",
       "0               [('2019', 'DATE')]    0.226761  \n",
       "1                               []    0.311644  \n",
       "2             [('Monday', 'DATE')]    0.390492  \n",
       "3  [('the past few days', 'DATE')]    0.160964  \n",
       "4                               []    0.129242  "
      ]
     },
     "execution_count": 66,
     "metadata": {},
     "output_type": "execute_result"
    }
   ],
   "source": [
    "news_df_topics.head()"
   ]
  },
  {
   "cell_type": "markdown",
   "metadata": {},
   "source": [
    "Below are the twn articles with the highest average cosine values.  Note that because we pulled in data using multiple keywords, articles were pulled in more than once in some cases.  We will need to remove these."
   ]
  },
  {
   "cell_type": "code",
   "execution_count": 67,
   "metadata": {},
   "outputs": [
    {
     "data": {
      "text/html": [
       "<div>\n",
       "<style scoped>\n",
       "    .dataframe tbody tr th:only-of-type {\n",
       "        vertical-align: middle;\n",
       "    }\n",
       "\n",
       "    .dataframe tbody tr th {\n",
       "        vertical-align: top;\n",
       "    }\n",
       "\n",
       "    .dataframe thead th {\n",
       "        text-align: right;\n",
       "    }\n",
       "</style>\n",
       "<table border=\"1\" class=\"dataframe\">\n",
       "  <thead>\n",
       "    <tr style=\"text-align: right;\">\n",
       "      <th></th>\n",
       "      <th>Unnamed: 0</th>\n",
       "      <th>publishedAt</th>\n",
       "      <th>content</th>\n",
       "      <th>url</th>\n",
       "      <th>locations_and_times</th>\n",
       "      <th>avg_cosine</th>\n",
       "    </tr>\n",
       "  </thead>\n",
       "  <tbody>\n",
       "    <tr>\n",
       "      <th>92</th>\n",
       "      <td>111</td>\n",
       "      <td>2019-04-06T03:30:00Z</td>\n",
       "      <td>BC  \\r\\nDriveBC has issued a number of travel ...</td>\n",
       "      <td>https://www.castanet.net/news/BC/253354/Forest...</td>\n",
       "      <td>[]</td>\n",
       "      <td>0.573658</td>\n",
       "    </tr>\n",
       "    <tr>\n",
       "      <th>344</th>\n",
       "      <td>373</td>\n",
       "      <td>2019-04-06T03:30:00Z</td>\n",
       "      <td>BC  \\r\\nDriveBC has issued a number of travel ...</td>\n",
       "      <td>https://www.castanet.net/news/BC/253354/Forest...</td>\n",
       "      <td>[]</td>\n",
       "      <td>0.573658</td>\n",
       "    </tr>\n",
       "    <tr>\n",
       "      <th>814</th>\n",
       "      <td>885</td>\n",
       "      <td>2019-04-19T21:25:00Z</td>\n",
       "      <td>Hangovers and the horrible headaches that come...</td>\n",
       "      <td>https://www.businessinsider.com/why-hangovers-...</td>\n",
       "      <td>[]</td>\n",
       "      <td>0.529853</td>\n",
       "    </tr>\n",
       "    <tr>\n",
       "      <th>1289</th>\n",
       "      <td>1397</td>\n",
       "      <td>2019-04-09T13:20:43Z</td>\n",
       "      <td>Even though spring may have sprung across much...</td>\n",
       "      <td>https://www.foxnews.com/us/significant-spring-...</td>\n",
       "      <td>[('late-season', 'DATE'), ('winter', 'DATE'), ...</td>\n",
       "      <td>0.502520</td>\n",
       "    </tr>\n",
       "    <tr>\n",
       "      <th>1373</th>\n",
       "      <td>92</td>\n",
       "      <td>2019-04-16T14:05:53Z</td>\n",
       "      <td>Prehistoric diseases laying dormant in ancient...</td>\n",
       "      <td>https://www.thesun.co.uk/tech/8867299/melting-...</td>\n",
       "      <td>[('Russia', 'GPE')]</td>\n",
       "      <td>0.501207</td>\n",
       "    </tr>\n",
       "  </tbody>\n",
       "</table>\n",
       "</div>"
      ],
      "text/plain": [
       "      Unnamed: 0           publishedAt  \\\n",
       "92           111  2019-04-06T03:30:00Z   \n",
       "344          373  2019-04-06T03:30:00Z   \n",
       "814          885  2019-04-19T21:25:00Z   \n",
       "1289        1397  2019-04-09T13:20:43Z   \n",
       "1373          92  2019-04-16T14:05:53Z   \n",
       "\n",
       "                                                content  \\\n",
       "92    BC  \\r\\nDriveBC has issued a number of travel ...   \n",
       "344   BC  \\r\\nDriveBC has issued a number of travel ...   \n",
       "814   Hangovers and the horrible headaches that come...   \n",
       "1289  Even though spring may have sprung across much...   \n",
       "1373  Prehistoric diseases laying dormant in ancient...   \n",
       "\n",
       "                                                    url  \\\n",
       "92    https://www.castanet.net/news/BC/253354/Forest...   \n",
       "344   https://www.castanet.net/news/BC/253354/Forest...   \n",
       "814   https://www.businessinsider.com/why-hangovers-...   \n",
       "1289  https://www.foxnews.com/us/significant-spring-...   \n",
       "1373  https://www.thesun.co.uk/tech/8867299/melting-...   \n",
       "\n",
       "                                    locations_and_times  avg_cosine  \n",
       "92                                                   []    0.573658  \n",
       "344                                                  []    0.573658  \n",
       "814                                                  []    0.529853  \n",
       "1289  [('late-season', 'DATE'), ('winter', 'DATE'), ...    0.502520  \n",
       "1373                                [('Russia', 'GPE')]    0.501207  "
      ]
     },
     "execution_count": 67,
     "metadata": {},
     "output_type": "execute_result"
    }
   ],
   "source": [
    "news_df_topics.sort_values(by='avg_cosine', ascending=False).head()"
   ]
  },
  {
   "cell_type": "markdown",
   "metadata": {},
   "source": [
    "Below are the ten articles with the lowest average cosine values.  THese are the articles that the model determined are the least related to our set of ND 511 alerts."
   ]
  },
  {
   "cell_type": "code",
   "execution_count": 68,
   "metadata": {},
   "outputs": [
    {
     "data": {
      "text/html": [
       "<div>\n",
       "<style scoped>\n",
       "    .dataframe tbody tr th:only-of-type {\n",
       "        vertical-align: middle;\n",
       "    }\n",
       "\n",
       "    .dataframe tbody tr th {\n",
       "        vertical-align: top;\n",
       "    }\n",
       "\n",
       "    .dataframe thead th {\n",
       "        text-align: right;\n",
       "    }\n",
       "</style>\n",
       "<table border=\"1\" class=\"dataframe\">\n",
       "  <thead>\n",
       "    <tr style=\"text-align: right;\">\n",
       "      <th></th>\n",
       "      <th>Unnamed: 0</th>\n",
       "      <th>publishedAt</th>\n",
       "      <th>content</th>\n",
       "      <th>url</th>\n",
       "      <th>locations_and_times</th>\n",
       "      <th>avg_cosine</th>\n",
       "    </tr>\n",
       "  </thead>\n",
       "  <tbody>\n",
       "    <tr>\n",
       "      <th>1291</th>\n",
       "      <td>1399</td>\n",
       "      <td>2019-04-09T16:44:00Z</td>\n",
       "      <td>Posted: Apr 09, 2019 09:44 AM PDT\\r\\nUpdated: ...</td>\n",
       "      <td>https://www.ktvz.com/weather/blizzard-conditio...</td>\n",
       "      <td>[('Apr 09, 2019', 'DATE'), ('Apr 09, 2019', 'D...</td>\n",
       "      <td>0.005052</td>\n",
       "    </tr>\n",
       "    <tr>\n",
       "      <th>1042</th>\n",
       "      <td>1138</td>\n",
       "      <td>2019-03-24T13:34:33Z</td>\n",
       "      <td>Israeli Ambassador to the U.N. Danny Danon say...</td>\n",
       "      <td>https://news.yahoo.com/rep-ilhan-omar-criticiz...</td>\n",
       "      <td>[('Minnesota', 'GPE'), ('Israel', 'GPE')]</td>\n",
       "      <td>0.010916</td>\n",
       "    </tr>\n",
       "    <tr>\n",
       "      <th>71</th>\n",
       "      <td>83</td>\n",
       "      <td>2019-04-18T00:30:00Z</td>\n",
       "      <td>This is the final boss. She is maxed out on he...</td>\n",
       "      <td>https://cheezburger.com/96735233/british-road-...</td>\n",
       "      <td>[]</td>\n",
       "      <td>0.013430</td>\n",
       "    </tr>\n",
       "    <tr>\n",
       "      <th>1040</th>\n",
       "      <td>1136</td>\n",
       "      <td>2019-04-09T20:07:03Z</td>\n",
       "      <td>Not being a billionaire, not having investment...</td>\n",
       "      <td>https://www.nytimes.com/2019/04/09/us/politics...</td>\n",
       "      <td>[('Saudi Arabia', 'GPE')]</td>\n",
       "      <td>0.013906</td>\n",
       "    </tr>\n",
       "    <tr>\n",
       "      <th>1048</th>\n",
       "      <td>1144</td>\n",
       "      <td>2019-03-22T23:29:34Z</td>\n",
       "      <td>NASHVILLE, Tenn. (AP) The Nashville Predators ...</td>\n",
       "      <td>https://www.usatoday.com/story/sports/nhl/2019...</td>\n",
       "      <td>[('Tenn.', 'GPE'), ('two-year', 'DATE')]</td>\n",
       "      <td>0.016484</td>\n",
       "    </tr>\n",
       "  </tbody>\n",
       "</table>\n",
       "</div>"
      ],
      "text/plain": [
       "      Unnamed: 0           publishedAt  \\\n",
       "1291        1399  2019-04-09T16:44:00Z   \n",
       "1042        1138  2019-03-24T13:34:33Z   \n",
       "71            83  2019-04-18T00:30:00Z   \n",
       "1040        1136  2019-04-09T20:07:03Z   \n",
       "1048        1144  2019-03-22T23:29:34Z   \n",
       "\n",
       "                                                content  \\\n",
       "1291  Posted: Apr 09, 2019 09:44 AM PDT\\r\\nUpdated: ...   \n",
       "1042  Israeli Ambassador to the U.N. Danny Danon say...   \n",
       "71    This is the final boss. She is maxed out on he...   \n",
       "1040  Not being a billionaire, not having investment...   \n",
       "1048  NASHVILLE, Tenn. (AP) The Nashville Predators ...   \n",
       "\n",
       "                                                    url  \\\n",
       "1291  https://www.ktvz.com/weather/blizzard-conditio...   \n",
       "1042  https://news.yahoo.com/rep-ilhan-omar-criticiz...   \n",
       "71    https://cheezburger.com/96735233/british-road-...   \n",
       "1040  https://www.nytimes.com/2019/04/09/us/politics...   \n",
       "1048  https://www.usatoday.com/story/sports/nhl/2019...   \n",
       "\n",
       "                                    locations_and_times  avg_cosine  \n",
       "1291  [('Apr 09, 2019', 'DATE'), ('Apr 09, 2019', 'D...    0.005052  \n",
       "1042          [('Minnesota', 'GPE'), ('Israel', 'GPE')]    0.010916  \n",
       "71                                                   []    0.013430  \n",
       "1040                          [('Saudi Arabia', 'GPE')]    0.013906  \n",
       "1048           [('Tenn.', 'GPE'), ('two-year', 'DATE')]    0.016484  "
      ]
     },
     "execution_count": 68,
     "metadata": {},
     "output_type": "execute_result"
    }
   ],
   "source": [
    "news_df_topics.sort_values(by='avg_cosine', ascending=True).head()"
   ]
  },
  {
   "cell_type": "markdown",
   "metadata": {},
   "source": [
    "Finally, we will remove duplicates, and select only the columns that we are interested in."
   ]
  },
  {
   "cell_type": "code",
   "execution_count": 69,
   "metadata": {},
   "outputs": [],
   "source": [
    "rank_news = news_df_topics[['publishedAt', 'content', 'locations_and_times', 'avg_cosine']]"
   ]
  },
  {
   "cell_type": "code",
   "execution_count": 70,
   "metadata": {},
   "outputs": [],
   "source": [
    "news_no_dupes = rank_news.drop_duplicates()"
   ]
  },
  {
   "cell_type": "code",
   "execution_count": 71,
   "metadata": {},
   "outputs": [
    {
     "data": {
      "text/plain": [
       "1075"
      ]
     },
     "execution_count": 71,
     "metadata": {},
     "output_type": "execute_result"
    }
   ],
   "source": [
    "len(news_no_dupes)"
   ]
  },
  {
   "cell_type": "code",
   "execution_count": 77,
   "metadata": {},
   "outputs": [
    {
     "data": {
      "text/html": [
       "<div>\n",
       "<style scoped>\n",
       "    .dataframe tbody tr th:only-of-type {\n",
       "        vertical-align: middle;\n",
       "    }\n",
       "\n",
       "    .dataframe tbody tr th {\n",
       "        vertical-align: top;\n",
       "    }\n",
       "\n",
       "    .dataframe thead th {\n",
       "        text-align: right;\n",
       "    }\n",
       "</style>\n",
       "<table border=\"1\" class=\"dataframe\">\n",
       "  <thead>\n",
       "    <tr style=\"text-align: right;\">\n",
       "      <th></th>\n",
       "      <th>publishedAt</th>\n",
       "      <th>content</th>\n",
       "      <th>locations_and_times</th>\n",
       "      <th>avg_cosine</th>\n",
       "    </tr>\n",
       "  </thead>\n",
       "  <tbody>\n",
       "    <tr>\n",
       "      <th>92</th>\n",
       "      <td>2019-04-06T03:30:00Z</td>\n",
       "      <td>BC  \\r\\nDriveBC has issued a number of travel advisories due to treacherous driving conditions with potential for debris flows. \\r\\nA travel advisory is in effect along Highway 1 between Cornwall ...</td>\n",
       "      <td>[]</td>\n",
       "      <td>0.573658</td>\n",
       "    </tr>\n",
       "    <tr>\n",
       "      <th>814</th>\n",
       "      <td>2019-04-19T21:25:00Z</td>\n",
       "      <td>Hangovers and the horrible headaches that come with them are caused by chemical changes in your body that take effect as soon you down your first drink. \\r\\nFollowing is a transcript of the video....</td>\n",
       "      <td>[]</td>\n",
       "      <td>0.529853</td>\n",
       "    </tr>\n",
       "    <tr>\n",
       "      <th>1289</th>\n",
       "      <td>2019-04-09T13:20:43Z</td>\n",
       "      <td>Even though spring may have sprung across much of the country, a major late-season winter storm is threatening to bring blizzard conditions to the Central U.S. -- and the \"bomb cyclone's\" impact c...</td>\n",
       "      <td>[('late-season', 'DATE'), ('winter', 'DATE'), ('U.S.', 'GPE')]</td>\n",
       "      <td>0.502520</td>\n",
       "    </tr>\n",
       "    <tr>\n",
       "      <th>1373</th>\n",
       "      <td>2019-04-16T14:05:53Z</td>\n",
       "      <td>Prehistoric diseases laying dormant in ancient ice could soon be unleashed due to climate change.\\r\\nCities built on permafrost in Russia are now seeing temperatures which could destroy their infr...</td>\n",
       "      <td>[('Russia', 'GPE')]</td>\n",
       "      <td>0.501207</td>\n",
       "    </tr>\n",
       "    <tr>\n",
       "      <th>875</th>\n",
       "      <td>2019-03-27T11:03:23Z</td>\n",
       "      <td>As rivers continue to rise in the central U.S., more rain is on the way as a series of storms move across the country from West to East.\\r\\nA large storm system will begin to bring more rain to th...</td>\n",
       "      <td>[('U.S.', 'GPE'), ('Wednesday', 'DATE')]</td>\n",
       "      <td>0.483829</td>\n",
       "    </tr>\n",
       "  </tbody>\n",
       "</table>\n",
       "</div>"
      ],
      "text/plain": [
       "               publishedAt  \\\n",
       "92    2019-04-06T03:30:00Z   \n",
       "814   2019-04-19T21:25:00Z   \n",
       "1289  2019-04-09T13:20:43Z   \n",
       "1373  2019-04-16T14:05:53Z   \n",
       "875   2019-03-27T11:03:23Z   \n",
       "\n",
       "                                                                                                                                                                                                      content  \\\n",
       "92    BC  \\r\\nDriveBC has issued a number of travel advisories due to treacherous driving conditions with potential for debris flows. \\r\\nA travel advisory is in effect along Highway 1 between Cornwall ...   \n",
       "814   Hangovers and the horrible headaches that come with them are caused by chemical changes in your body that take effect as soon you down your first drink. \\r\\nFollowing is a transcript of the video....   \n",
       "1289  Even though spring may have sprung across much of the country, a major late-season winter storm is threatening to bring blizzard conditions to the Central U.S. -- and the \"bomb cyclone's\" impact c...   \n",
       "1373  Prehistoric diseases laying dormant in ancient ice could soon be unleashed due to climate change.\\r\\nCities built on permafrost in Russia are now seeing temperatures which could destroy their infr...   \n",
       "875   As rivers continue to rise in the central U.S., more rain is on the way as a series of storms move across the country from West to East.\\r\\nA large storm system will begin to bring more rain to th...   \n",
       "\n",
       "                                                 locations_and_times  \\\n",
       "92                                                                []   \n",
       "814                                                               []   \n",
       "1289  [('late-season', 'DATE'), ('winter', 'DATE'), ('U.S.', 'GPE')]   \n",
       "1373                                             [('Russia', 'GPE')]   \n",
       "875                         [('U.S.', 'GPE'), ('Wednesday', 'DATE')]   \n",
       "\n",
       "      avg_cosine  \n",
       "92      0.573658  \n",
       "814     0.529853  \n",
       "1289    0.502520  \n",
       "1373    0.501207  \n",
       "875     0.483829  "
      ]
     },
     "execution_count": 77,
     "metadata": {},
     "output_type": "execute_result"
    }
   ],
   "source": [
    "news_no_dupes.sort_values(by='avg_cosine', ascending=False).head()\n",
    "#highest cosines (most related to road closures)"
   ]
  },
  {
   "cell_type": "markdown",
   "metadata": {},
   "source": [
    "Extract the articles that take place in Minnesota and have a cosine similarity avg larger than .3.  Because our mapping will only be done for articles taking place in Minnesota, we want to limit our set of articles to only those that take place in Minnesota.  We also want to only inclue those articles that have a high cosine value.  This number was set at .3 after manually inspecting the data.  This cut-off point could be altered to be higher (include less articles) or lower (include more articles) depending on the desires of the team."
   ]
  },
  {
   "cell_type": "code",
   "execution_count": 149,
   "metadata": {},
   "outputs": [
    {
     "name": "stderr",
     "output_type": "stream",
     "text": [
      "C:\\Users\\phill\\Anaconda3\\lib\\site-packages\\ipykernel_launcher.py:3: UserWarning: Boolean Series key will be reindexed to match DataFrame index.\n",
      "  This is separate from the ipykernel package so we can avoid doing imports until\n"
     ]
    }
   ],
   "source": [
    "mask = news_no_dupes['avg_cosine'] >= 0.3\n",
    "mn_news = news_no_dupes[news_no_dupes['locations_and_times'].str.contains(\"innesota\")].sort_values(by='avg_cosine', ascending=False)\n",
    "relevant_news = mn_news[mask]"
   ]
  },
  {
   "cell_type": "markdown",
   "metadata": {},
   "source": [
    "# Weather API Model   <a class=\"anchor\" id=\"sixth-bullet\"></a>"
   ]
  },
  {
   "cell_type": "markdown",
   "metadata": {},
   "source": [
    "Now that we have determined which of the news articles should be included in our map, we will run the same process on the Weather API.  First, we will apply Spacy location detection to the data we pulled from the API, using the function defined above.  Then, we will remove stop words and tokenize the data.  Finally, we will calculate the average soft cosine measure using the same ND 511 set as our list of known road closures."
   ]
  },
  {
   "cell_type": "code",
   "execution_count": 129,
   "metadata": {},
   "outputs": [],
   "source": [
    "weather_api = pd.read_csv('./data/weather_api.csv')"
   ]
  },
  {
   "cell_type": "code",
   "execution_count": 133,
   "metadata": {},
   "outputs": [],
   "source": [
    "weather_list = weather_api['description'].values"
   ]
  },
  {
   "cell_type": "code",
   "execution_count": 134,
   "metadata": {},
   "outputs": [],
   "source": [
    "# remove common words and tokenize\n",
    "stoplist = stop_words#set('for a of the and to in with on'.split())\n",
    "texts_weather = [\n",
    "    [word for word in weather_list.lower().split() if word not in stoplist]\n",
    "    for weather_list in weather_list\n",
    "]\n",
    "\n",
    "# remove words that appear only once\n",
    "frequency = defaultdict(int)\n",
    "for text in texts_weather:\n",
    "    for token in text:\n",
    "        frequency[token] += 1\n",
    "\n",
    "texts_weather = [\n",
    "    [token for token in text if frequency[token] > 1]\n",
    "    for text in texts_weather\n",
    "]\n"
   ]
  },
  {
   "cell_type": "code",
   "execution_count": 135,
   "metadata": {},
   "outputs": [],
   "source": [
    "list_of_words = []\n",
    "for i in texts:\n",
    "    #print(i)\n",
    "    for j in i:\n",
    "        #print(j)\n",
    "        list_of_words.append(j)"
   ]
  },
  {
   "cell_type": "code",
   "execution_count": 136,
   "metadata": {},
   "outputs": [],
   "source": [
    "list_of_words_weather = []\n",
    "for i in texts_weather:\n",
    "    #print(i)\n",
    "    for j in i:\n",
    "        #print(j)\n",
    "        list_of_words_weather.append(j)"
   ]
  },
  {
   "cell_type": "code",
   "execution_count": 137,
   "metadata": {},
   "outputs": [],
   "source": [
    "combine_list_weather = []\n",
    "for i in (list_of_words, list_of_words_weather):\n",
    "    combine_list_weather.append(i)"
   ]
  },
  {
   "cell_type": "code",
   "execution_count": 138,
   "metadata": {},
   "outputs": [],
   "source": [
    "dictionary = corpora.Dictionary(combine_list_weather)"
   ]
  },
  {
   "cell_type": "code",
   "execution_count": 140,
   "metadata": {},
   "outputs": [
    {
     "name": "stdout",
     "output_type": "stream",
     "text": [
      "0 article_num\n",
      "1 article_num\n",
      "2 article_num\n",
      "3 article_num\n",
      "4 article_num\n",
      "5 article_num\n",
      "6 article_num\n",
      "7 article_num\n",
      "8 article_num\n",
      "9 article_num\n",
      "10 article_num\n",
      "11 article_num\n",
      "12 article_num\n",
      "13 article_num\n",
      "14 article_num\n",
      "15 article_num\n",
      "16 article_num\n",
      "17 article_num\n",
      "18 article_num\n",
      "19 article_num\n",
      "20 article_num\n",
      "21 article_num\n",
      "22 article_num\n",
      "23 article_num\n",
      "24 article_num\n",
      "25 article_num\n",
      "26 article_num\n",
      "27 article_num\n",
      "28 article_num\n",
      "29 article_num\n",
      "30 article_num\n",
      "31 article_num\n",
      "32 article_num\n",
      "33 article_num\n",
      "34 article_num\n",
      "35 article_num\n",
      "36 article_num\n",
      "37 article_num\n",
      "38 article_num\n",
      "39 article_num\n",
      "40 article_num\n",
      "41 article_num\n",
      "42 article_num\n",
      "43 article_num\n",
      "44 article_num\n",
      "45 article_num\n",
      "46 article_num\n",
      "47 article_num\n",
      "48 article_num\n",
      "49 article_num\n",
      "50 article_num\n",
      "51 article_num\n",
      "52 article_num\n",
      "53 article_num\n",
      "54 article_num\n",
      "55 article_num\n",
      "56 article_num\n",
      "57 article_num\n",
      "58 article_num\n",
      "59 article_num\n"
     ]
    }
   ],
   "source": [
    "# gather similarities for each news article, compared to the nd 511 alerts\n",
    "#get all sims for each article, then get the average\n",
    "# source for idea: https://github.com/RaRe-Technologies/gensim/blob/develop/docs/notebooks/soft_cosine_tutorial.ipynb\n",
    "# add'l ideas here https://stackoverflow.com/questions/45876711/gensim-word2vec-wmd-similarity-dictionary\n",
    "all_sims = []\n",
    "\n",
    "similarity_index = WordEmbeddingSimilarityIndex(w2v_model)\n",
    "similarity_matrix = SparseTermSimilarityMatrix(similarity_index, dictionary)\n",
    "\n",
    "for idx, i in enumerate(texts_weather):\n",
    "    print(idx, 'article_num')\n",
    "    sims = []\n",
    "    sentance_news =  dictionary.doc2bow(i)\n",
    "    for ind, j in enumerate(texts):\n",
    "        #print(ind, 'iteration_num')\n",
    "        sentence_nd =  dictionary.doc2bow(j)\n",
    "        similarity = similarity_matrix.inner_product(sentance_news, sentence_nd, normalized=True)\n",
    "        sims.append(similarity)\n",
    "    all_sims.append(sims)"
   ]
  },
  {
   "cell_type": "code",
   "execution_count": 141,
   "metadata": {},
   "outputs": [],
   "source": [
    "avgs = []\n",
    "\n",
    "for i in all_sims:\n",
    "    avg = avg_function(i)\n",
    "    avgs.append(avg)"
   ]
  },
  {
   "cell_type": "code",
   "execution_count": 142,
   "metadata": {},
   "outputs": [],
   "source": [
    "weather_api['avg_cosine'] = avgs"
   ]
  },
  {
   "cell_type": "markdown",
   "metadata": {},
   "source": [
    "### Articles with the highest cosine value. Most similar to the ND511 weather alerts."
   ]
  },
  {
   "cell_type": "code",
   "execution_count": 143,
   "metadata": {
    "scrolled": true
   },
   "outputs": [
    {
     "data": {
      "text/html": [
       "<div>\n",
       "<style scoped>\n",
       "    .dataframe tbody tr th:only-of-type {\n",
       "        vertical-align: middle;\n",
       "    }\n",
       "\n",
       "    .dataframe tbody tr th {\n",
       "        vertical-align: top;\n",
       "    }\n",
       "\n",
       "    .dataframe thead th {\n",
       "        text-align: right;\n",
       "    }\n",
       "</style>\n",
       "<table border=\"1\" class=\"dataframe\">\n",
       "  <thead>\n",
       "    <tr style=\"text-align: right;\">\n",
       "      <th></th>\n",
       "      <th>Unnamed: 0</th>\n",
       "      <th>area</th>\n",
       "      <th>expires</th>\n",
       "      <th>headline</th>\n",
       "      <th>description</th>\n",
       "      <th>location</th>\n",
       "      <th>avg_cosine</th>\n",
       "    </tr>\n",
       "  </thead>\n",
       "  <tbody>\n",
       "    <tr>\n",
       "      <th>5</th>\n",
       "      <td>5</td>\n",
       "      <td>Randolph, IN; Delaware, IN</td>\n",
       "      <td>2019-04-21T21:42:00-04:00</td>\n",
       "      <td>Flood Warning issued April 20 at 9:43PM EDT by NWS Indianapolis IN</td>\n",
       "      <td>Big Blue River...Driftwood River...East Fork White River...Flatrock\\nRiver...Mississinewa River...Muscatatuck River...Wabash River...\\nWhite River...Wildcat Creek...Youngs Creek...\\n\\n.Lowland flo...</td>\n",
       "      <td>[(Indiana, GPE), (Indiana, GPE), (Ridgeville, GPE), (Randolph County, GPE), (Ridgeville, GPE)]</td>\n",
       "      <td>0.467909</td>\n",
       "    </tr>\n",
       "    <tr>\n",
       "      <th>16</th>\n",
       "      <td>16</td>\n",
       "      <td>Martin, IN; Lawrence, IN</td>\n",
       "      <td>2019-04-21T21:42:00-04:00</td>\n",
       "      <td>Flood Warning issued April 20 at 9:43PM EDT until April 29 at 11:00AM EDT by NWS Indianapolis IN</td>\n",
       "      <td>Big Blue River...Driftwood River...East Fork White River...Flatrock\\nRiver...Mississinewa River...Muscatatuck River...Wabash River...\\nWhite River...Wildcat Creek...Youngs Creek...\\n\\n.Lowland flo...</td>\n",
       "      <td>[(Indiana, GPE), (Indiana, GPE)]</td>\n",
       "      <td>0.453575</td>\n",
       "    </tr>\n",
       "    <tr>\n",
       "      <th>57</th>\n",
       "      <td>57</td>\n",
       "      <td>Orofino/Grangeville Region</td>\n",
       "      <td>2019-04-21T06:00:00-06:00</td>\n",
       "      <td>Flood Watch issued April 20 at 5:34AM MDT until April 21 at 6:00AM MDT by NWS Missoula MT</td>\n",
       "      <td>The National Weather Service in Missoula has issued a\\n\\n* Flood Watch for the South Fork Clearwater River at Stites.\\n\\n* Through late tonight.\\n\\n* Primary area of concern: South Fork Clearwater...</td>\n",
       "      <td>[(Missoula, GPE), (South Fork Clearwater River, GPE), (Idaho, GPE)]</td>\n",
       "      <td>0.452057</td>\n",
       "    </tr>\n",
       "    <tr>\n",
       "      <th>37</th>\n",
       "      <td>37</td>\n",
       "      <td>Coastal Cumberland; Knox; Coastal York; Coastal Rockingham; Sagadahoc; Lincoln; Coastal Waldo</td>\n",
       "      <td>2019-04-21T02:00:00-04:00</td>\n",
       "      <td>Coastal Flood Statement issued April 20 at 4:55PM EDT until April 21 at 2:00AM EDT by NWS Gray ME</td>\n",
       "      <td>Peak astronomical tides and an onshore flow will lead to higher\\nthan normal water levels along the coast tonight. In addition,\\n5 to 9 foot nearshore waves may allow for minor beach\\nerosion and ...</td>\n",
       "      <td>[(The Seacoast of New Hampshire, GPE), (Maine, GPE)]</td>\n",
       "      <td>0.451714</td>\n",
       "    </tr>\n",
       "    <tr>\n",
       "      <th>56</th>\n",
       "      <td>56</td>\n",
       "      <td>Schoolcraft, MI</td>\n",
       "      <td>2019-04-21T19:51:00-04:00</td>\n",
       "      <td>Flood Advisory issued April 20 at 7:51AM EDT by NWS Marquette MI</td>\n",
       "      <td>Manistique River near Manistique affecting Schoolcraft County\\n\\n.Warmer temperatures throughout the weekend combined with recent\\nrainfall will continue to enable runoff from the melting snowpack...</td>\n",
       "      <td>[(Manistique, GPE), (Schoolcraft County, GPE), (Marquette, GPE), (Manistique, GPE)]</td>\n",
       "      <td>0.442931</td>\n",
       "    </tr>\n",
       "  </tbody>\n",
       "</table>\n",
       "</div>"
      ],
      "text/plain": [
       "    Unnamed: 0  \\\n",
       "5            5   \n",
       "16          16   \n",
       "57          57   \n",
       "37          37   \n",
       "56          56   \n",
       "\n",
       "                                                                                             area  \\\n",
       "5                                                                      Randolph, IN; Delaware, IN   \n",
       "16                                                                       Martin, IN; Lawrence, IN   \n",
       "57                                                                     Orofino/Grangeville Region   \n",
       "37  Coastal Cumberland; Knox; Coastal York; Coastal Rockingham; Sagadahoc; Lincoln; Coastal Waldo   \n",
       "56                                                                                Schoolcraft, MI   \n",
       "\n",
       "                      expires  \\\n",
       "5   2019-04-21T21:42:00-04:00   \n",
       "16  2019-04-21T21:42:00-04:00   \n",
       "57  2019-04-21T06:00:00-06:00   \n",
       "37  2019-04-21T02:00:00-04:00   \n",
       "56  2019-04-21T19:51:00-04:00   \n",
       "\n",
       "                                                                                             headline  \\\n",
       "5                                  Flood Warning issued April 20 at 9:43PM EDT by NWS Indianapolis IN   \n",
       "16   Flood Warning issued April 20 at 9:43PM EDT until April 29 at 11:00AM EDT by NWS Indianapolis IN   \n",
       "57          Flood Watch issued April 20 at 5:34AM MDT until April 21 at 6:00AM MDT by NWS Missoula MT   \n",
       "37  Coastal Flood Statement issued April 20 at 4:55PM EDT until April 21 at 2:00AM EDT by NWS Gray ME   \n",
       "56                                   Flood Advisory issued April 20 at 7:51AM EDT by NWS Marquette MI   \n",
       "\n",
       "                                                                                                                                                                                                description  \\\n",
       "5   Big Blue River...Driftwood River...East Fork White River...Flatrock\\nRiver...Mississinewa River...Muscatatuck River...Wabash River...\\nWhite River...Wildcat Creek...Youngs Creek...\\n\\n.Lowland flo...   \n",
       "16  Big Blue River...Driftwood River...East Fork White River...Flatrock\\nRiver...Mississinewa River...Muscatatuck River...Wabash River...\\nWhite River...Wildcat Creek...Youngs Creek...\\n\\n.Lowland flo...   \n",
       "57  The National Weather Service in Missoula has issued a\\n\\n* Flood Watch for the South Fork Clearwater River at Stites.\\n\\n* Through late tonight.\\n\\n* Primary area of concern: South Fork Clearwater...   \n",
       "37  Peak astronomical tides and an onshore flow will lead to higher\\nthan normal water levels along the coast tonight. In addition,\\n5 to 9 foot nearshore waves may allow for minor beach\\nerosion and ...   \n",
       "56  Manistique River near Manistique affecting Schoolcraft County\\n\\n.Warmer temperatures throughout the weekend combined with recent\\nrainfall will continue to enable runoff from the melting snowpack...   \n",
       "\n",
       "                                                                                          location  \\\n",
       "5   [(Indiana, GPE), (Indiana, GPE), (Ridgeville, GPE), (Randolph County, GPE), (Ridgeville, GPE)]   \n",
       "16                                                                [(Indiana, GPE), (Indiana, GPE)]   \n",
       "57                             [(Missoula, GPE), (South Fork Clearwater River, GPE), (Idaho, GPE)]   \n",
       "37                                            [(The Seacoast of New Hampshire, GPE), (Maine, GPE)]   \n",
       "56             [(Manistique, GPE), (Schoolcraft County, GPE), (Marquette, GPE), (Manistique, GPE)]   \n",
       "\n",
       "    avg_cosine  \n",
       "5     0.467909  \n",
       "16    0.453575  \n",
       "57    0.452057  \n",
       "37    0.451714  \n",
       "56    0.442931  "
      ]
     },
     "execution_count": 143,
     "metadata": {},
     "output_type": "execute_result"
    }
   ],
   "source": [
    "weather_api.sort_values(by='avg_cosine', ascending=False).head()"
   ]
  },
  {
   "cell_type": "markdown",
   "metadata": {},
   "source": [
    "### Articles with the lowest cosine values.  Least similar to the ND511 weather alerts."
   ]
  },
  {
   "cell_type": "code",
   "execution_count": 144,
   "metadata": {},
   "outputs": [
    {
     "data": {
      "text/html": [
       "<div>\n",
       "<style scoped>\n",
       "    .dataframe tbody tr th:only-of-type {\n",
       "        vertical-align: middle;\n",
       "    }\n",
       "\n",
       "    .dataframe tbody tr th {\n",
       "        vertical-align: top;\n",
       "    }\n",
       "\n",
       "    .dataframe thead th {\n",
       "        text-align: right;\n",
       "    }\n",
       "</style>\n",
       "<table border=\"1\" class=\"dataframe\">\n",
       "  <thead>\n",
       "    <tr style=\"text-align: right;\">\n",
       "      <th></th>\n",
       "      <th>Unnamed: 0</th>\n",
       "      <th>area</th>\n",
       "      <th>expires</th>\n",
       "      <th>headline</th>\n",
       "      <th>description</th>\n",
       "      <th>location</th>\n",
       "      <th>avg_cosine</th>\n",
       "    </tr>\n",
       "  </thead>\n",
       "  <tbody>\n",
       "    <tr>\n",
       "      <th>0</th>\n",
       "      <td>0</td>\n",
       "      <td>Montgomery</td>\n",
       "      <td>2019-04-21T02:26:25+00:00</td>\n",
       "      <td>NaN</td>\n",
       "      <td>Monitoring message only. Please disregard.</td>\n",
       "      <td>[]</td>\n",
       "      <td>0.000000</td>\n",
       "    </tr>\n",
       "    <tr>\n",
       "      <th>36</th>\n",
       "      <td>36</td>\n",
       "      <td>Big Stone, MN</td>\n",
       "      <td>2019-04-21T19:59:00-05:00</td>\n",
       "      <td>Flood Warning issued April 20 at 3:59PM CDT by NWS Aberdeen SD</td>\n",
       "      <td>Minnesota River At Ortonville\\nThe National Weather Service in Aberdeen has issued a\\n\\n* Flood Warning for\\nThe Minnesota River At Ortonville.\\n* until further notice.\\n* At  3:30 PM Saturday the...</td>\n",
       "      <td>[(Minnesota River, GPE), (Aberdeen, GPE)]</td>\n",
       "      <td>0.186085</td>\n",
       "    </tr>\n",
       "    <tr>\n",
       "      <th>44</th>\n",
       "      <td>44</td>\n",
       "      <td>Coastal Waters from Stonington, ME to Port Clyde, ME out 25 NM; Casco Bay; Coastal Waters from Port Clyde, ME to Cape Elizabeth, ME out 25 NM; Coastal Waters from Cape Elizabeth, ME to Merrimack R...</td>\n",
       "      <td>2019-04-21T05:30:00-04:00</td>\n",
       "      <td>Small Craft Advisory for Hazardous Seas issued April 20 at 3:21PM EDT until April 21 at 6:00PM EDT by NWS Gray ME</td>\n",
       "      <td>The National Weather Service in Gray has issued a Small Craft\\nAdvisory for hazardous seas, which is in effect until 6 PM EDT\\nSunday. The Small Craft Advisory has been cancelled.\\n\\n* SEAS...5 to...</td>\n",
       "      <td>[]</td>\n",
       "      <td>0.218520</td>\n",
       "    </tr>\n",
       "    <tr>\n",
       "      <th>34</th>\n",
       "      <td>34</td>\n",
       "      <td>Lower Yukon Valley</td>\n",
       "      <td>2019-04-21T06:00:00-08:00</td>\n",
       "      <td>Winter Weather Advisory issued April 20 at 2:02PM AKDT until April 22 at 4:00PM AKDT by NWS Fairbanks, AK</td>\n",
       "      <td>* WHAT...Snow and blowing snow expected. Plan on difficult travel\\nconditions. Total snow accumulations of 3 to 5 inches, with\\nlocalized amounts up to 7 inches, are expected.\\n\\n* WHERE...Lower Y...</td>\n",
       "      <td>[]</td>\n",
       "      <td>0.219217</td>\n",
       "    </tr>\n",
       "    <tr>\n",
       "      <th>40</th>\n",
       "      <td>40</td>\n",
       "      <td>Warren, NY; Saratoga, NY</td>\n",
       "      <td>2019-04-21T04:07:00-04:00</td>\n",
       "      <td>Flood Warning issued April 20 at 4:07PM EDT until April 22 at 5:00AM EDT by NWS Albany NY</td>\n",
       "      <td>The National Weather Service in Albany has issued a\\n\\n* Flood Warning for\\nThe Hudson River At Hadley.\\n* From this evening until late Sunday night.\\n* At  3 PM Saturday the stage was...12.7 feet...</td>\n",
       "      <td>[(Albany, GPE)]</td>\n",
       "      <td>0.234473</td>\n",
       "    </tr>\n",
       "  </tbody>\n",
       "</table>\n",
       "</div>"
      ],
      "text/plain": [
       "    Unnamed: 0  \\\n",
       "0            0   \n",
       "36          36   \n",
       "44          44   \n",
       "34          34   \n",
       "40          40   \n",
       "\n",
       "                                                                                                                                                                                                       area  \\\n",
       "0                                                                                                                                                                                                Montgomery   \n",
       "36                                                                                                                                                                                            Big Stone, MN   \n",
       "44  Coastal Waters from Stonington, ME to Port Clyde, ME out 25 NM; Casco Bay; Coastal Waters from Port Clyde, ME to Cape Elizabeth, ME out 25 NM; Coastal Waters from Cape Elizabeth, ME to Merrimack R...   \n",
       "34                                                                                                                                                                                       Lower Yukon Valley   \n",
       "40                                                                                                                                                                                 Warren, NY; Saratoga, NY   \n",
       "\n",
       "                      expires  \\\n",
       "0   2019-04-21T02:26:25+00:00   \n",
       "36  2019-04-21T19:59:00-05:00   \n",
       "44  2019-04-21T05:30:00-04:00   \n",
       "34  2019-04-21T06:00:00-08:00   \n",
       "40  2019-04-21T04:07:00-04:00   \n",
       "\n",
       "                                                                                                             headline  \\\n",
       "0                                                                                                                 NaN   \n",
       "36                                                     Flood Warning issued April 20 at 3:59PM CDT by NWS Aberdeen SD   \n",
       "44  Small Craft Advisory for Hazardous Seas issued April 20 at 3:21PM EDT until April 21 at 6:00PM EDT by NWS Gray ME   \n",
       "34          Winter Weather Advisory issued April 20 at 2:02PM AKDT until April 22 at 4:00PM AKDT by NWS Fairbanks, AK   \n",
       "40                          Flood Warning issued April 20 at 4:07PM EDT until April 22 at 5:00AM EDT by NWS Albany NY   \n",
       "\n",
       "                                                                                                                                                                                                description  \\\n",
       "0                                                                                                                                                                Monitoring message only. Please disregard.   \n",
       "36  Minnesota River At Ortonville\\nThe National Weather Service in Aberdeen has issued a\\n\\n* Flood Warning for\\nThe Minnesota River At Ortonville.\\n* until further notice.\\n* At  3:30 PM Saturday the...   \n",
       "44  The National Weather Service in Gray has issued a Small Craft\\nAdvisory for hazardous seas, which is in effect until 6 PM EDT\\nSunday. The Small Craft Advisory has been cancelled.\\n\\n* SEAS...5 to...   \n",
       "34  * WHAT...Snow and blowing snow expected. Plan on difficult travel\\nconditions. Total snow accumulations of 3 to 5 inches, with\\nlocalized amounts up to 7 inches, are expected.\\n\\n* WHERE...Lower Y...   \n",
       "40  The National Weather Service in Albany has issued a\\n\\n* Flood Warning for\\nThe Hudson River At Hadley.\\n* From this evening until late Sunday night.\\n* At  3 PM Saturday the stage was...12.7 feet...   \n",
       "\n",
       "                                     location  avg_cosine  \n",
       "0                                          []    0.000000  \n",
       "36  [(Minnesota River, GPE), (Aberdeen, GPE)]    0.186085  \n",
       "44                                         []    0.218520  \n",
       "34                                         []    0.219217  \n",
       "40                            [(Albany, GPE)]    0.234473  "
      ]
     },
     "execution_count": 144,
     "metadata": {},
     "output_type": "execute_result"
    }
   ],
   "source": [
    "weather_api.sort_values(by='avg_cosine', ascending=True).head(5)"
   ]
  },
  {
   "cell_type": "markdown",
   "metadata": {},
   "source": [
    "### Articles taking place in Minnesota."
   ]
  },
  {
   "cell_type": "code",
   "execution_count": 145,
   "metadata": {
    "scrolled": true
   },
   "outputs": [
    {
     "data": {
      "text/html": [
       "<div>\n",
       "<style scoped>\n",
       "    .dataframe tbody tr th:only-of-type {\n",
       "        vertical-align: middle;\n",
       "    }\n",
       "\n",
       "    .dataframe tbody tr th {\n",
       "        vertical-align: top;\n",
       "    }\n",
       "\n",
       "    .dataframe thead th {\n",
       "        text-align: right;\n",
       "    }\n",
       "</style>\n",
       "<table border=\"1\" class=\"dataframe\">\n",
       "  <thead>\n",
       "    <tr style=\"text-align: right;\">\n",
       "      <th></th>\n",
       "      <th>Unnamed: 0</th>\n",
       "      <th>area</th>\n",
       "      <th>expires</th>\n",
       "      <th>headline</th>\n",
       "      <th>description</th>\n",
       "      <th>location</th>\n",
       "      <th>avg_cosine</th>\n",
       "    </tr>\n",
       "  </thead>\n",
       "  <tbody>\n",
       "    <tr>\n",
       "      <th>36</th>\n",
       "      <td>36</td>\n",
       "      <td>Big Stone, MN</td>\n",
       "      <td>2019-04-21T19:59:00-05:00</td>\n",
       "      <td>Flood Warning issued April 20 at 3:59PM CDT by NWS Aberdeen SD</td>\n",
       "      <td>Minnesota River At Ortonville\\nThe National Weather Service in Aberdeen has issued a\\n\\n* Flood Warning for\\nThe Minnesota River At Ortonville.\\n* until further notice.\\n* At  3:30 PM Saturday the...</td>\n",
       "      <td>[(Minnesota River, GPE), (Aberdeen, GPE)]</td>\n",
       "      <td>0.186085</td>\n",
       "    </tr>\n",
       "  </tbody>\n",
       "</table>\n",
       "</div>"
      ],
      "text/plain": [
       "    Unnamed: 0           area                    expires  \\\n",
       "36          36  Big Stone, MN  2019-04-21T19:59:00-05:00   \n",
       "\n",
       "                                                          headline  \\\n",
       "36  Flood Warning issued April 20 at 3:59PM CDT by NWS Aberdeen SD   \n",
       "\n",
       "                                                                                                                                                                                                description  \\\n",
       "36  Minnesota River At Ortonville\\nThe National Weather Service in Aberdeen has issued a\\n\\n* Flood Warning for\\nThe Minnesota River At Ortonville.\\n* until further notice.\\n* At  3:30 PM Saturday the...   \n",
       "\n",
       "                                     location  avg_cosine  \n",
       "36  [(Minnesota River, GPE), (Aberdeen, GPE)]    0.186085  "
      ]
     },
     "execution_count": 145,
     "metadata": {},
     "output_type": "execute_result"
    }
   ],
   "source": [
    "weather_api[weather_api['area'].str.contains(\"MN\")].sort_values(by='avg_cosine', ascending=False)"
   ]
  },
  {
   "cell_type": "markdown",
   "metadata": {},
   "source": [
    "Take out the weather alerts that take place in Minnesota"
   ]
  },
  {
   "cell_type": "code",
   "execution_count": 148,
   "metadata": {},
   "outputs": [],
   "source": [
    "relevant_weather = weather_api[weather_api['area'].str.contains(\"MN\")].sort_values(by='avg_cosine', ascending=False)"
   ]
  },
  {
   "cell_type": "markdown",
   "metadata": {},
   "source": [
    "# Getting coordinates for relevant articles and mapping them <a class=\"anchor\" id=\"seventh-bullet\"></a>"
   ]
  },
  {
   "cell_type": "markdown",
   "metadata": {},
   "source": [
    "Below is an experimentation on using Matplotlibs basemap library and the Geopy package to extract the coordinates of the locations from the news articles and weather alerts.  After this experiment, we decided to use a different mapping program, that gave us the ability to zoom in, and was more visually appealing.  "
   ]
  },
  {
   "cell_type": "markdown",
   "metadata": {},
   "source": [
    "## Using Geopy to extract the coordinates of the articles"
   ]
  },
  {
   "cell_type": "code",
   "execution_count": 346,
   "metadata": {},
   "outputs": [
    {
     "name": "stdout",
     "output_type": "stream",
     "text": [
      "Collecting geopy\n",
      "  Downloading https://files.pythonhosted.org/packages/75/3e/80bc987e1635ba9e7455b95e233b296c17f3d3bf3d4760fa67cdfc840e84/geopy-1.19.0-py2.py3-none-any.whl (100kB)\n",
      "Collecting geographiclib<2,>=1.49 (from geopy)\n",
      "  Downloading https://files.pythonhosted.org/packages/5b/ac/4f348828091490d77899bc74e92238e2b55c59392f21948f296e94e50e2b/geographiclib-1.49.tar.gz\n",
      "Building wheels for collected packages: geographiclib\n",
      "  Running setup.py bdist_wheel for geographiclib: started\n",
      "  Running setup.py bdist_wheel for geographiclib: finished with status 'done'\n",
      "  Stored in directory: C:\\Users\\phill\\AppData\\Local\\pip\\Cache\\wheels\\99\\45\\d1\\14954797e2a976083182c2e7da9b4e924509e59b6e5c661061\n",
      "Successfully built geographiclib\n",
      "Installing collected packages: geographiclib, geopy\n",
      "Successfully installed geographiclib-1.49 geopy-1.19.0\n"
     ]
    }
   ],
   "source": [
    "#!pip install geopy"
   ]
  },
  {
   "cell_type": "code",
   "execution_count": 161,
   "metadata": {},
   "outputs": [
    {
     "name": "stdout",
     "output_type": "stream",
     "text": [
      "[('Minnesota', 'GPE'), ('Thursday', 'DATE')]\n",
      "[('Minnesota', 'GPE')]\n",
      "[('Minnesota', 'GPE'), ('2030', 'DATE')]\n",
      "[('four weeks', 'DATE'), ('Colorado', 'GPE'), ('Minnesota', 'GPE')]\n"
     ]
    }
   ],
   "source": [
    "# get the lats and longituted for the news articles\n",
    "\n",
    "lats_and_longs = []\n",
    "for i in relevant_news['locations_and_times']:\n",
    "    print(i)\n",
    "    geolocator = Nominatim(user_agent=\"ga_student_nyc\")\n",
    "    location = geolocator.geocode(\"Minnesota\")\n",
    "    lats_and_longs.append((float(location.latitude),float(location.longitude)))"
   ]
  },
  {
   "cell_type": "code",
   "execution_count": 163,
   "metadata": {},
   "outputs": [
    {
     "name": "stdout",
     "output_type": "stream",
     "text": [
      "Big Stone, MN\n"
     ]
    }
   ],
   "source": [
    "# get the lats and longs for the weather api and append them to the list that holds the news api data\n",
    "for i in relevant_weather['area']:\n",
    "    print(i)\n",
    "    geolocator = Nominatim(user_agent=\"ga_student_nyc\")\n",
    "    location = geolocator.geocode(i)\n",
    "    lats_and_longs.append((float(location.latitude),float(location.longitude)))"
   ]
  },
  {
   "cell_type": "code",
   "execution_count": 168,
   "metadata": {},
   "outputs": [
    {
     "data": {
      "text/plain": [
       "[(45.9896587, -94.6113288),\n",
       " (45.9896587, -94.6113288),\n",
       " (45.9896587, -94.6113288),\n",
       " (45.9896587, -94.6113288),\n",
       " (45.385266, -96.3557364)]"
      ]
     },
     "execution_count": 168,
     "metadata": {},
     "output_type": "execute_result"
    }
   ],
   "source": [
    "lats_and_longs"
   ]
  },
  {
   "cell_type": "markdown",
   "metadata": {},
   "source": [
    "# Mapping with Basemap (matplotlib) <a class=\"anchor\" id=\"eigth-bullet\"></a>"
   ]
  },
  {
   "cell_type": "code",
   "execution_count": 422,
   "metadata": {},
   "outputs": [],
   "source": [
    "#https://makersportal.com/blog/2018/7/20/geographic-mapping-from-a-csv-file-using-python-and-basemap\n",
    "\n",
    "lats, lons,names,altitude = [],[],[],[]\n",
    "\n",
    "\n",
    "names.append('location name')\n",
    "lats.append(float(location.latitude))\n",
    "lons.append(float(location.longitude))\n",
    "altitude.append(1)"
   ]
  },
  {
   "cell_type": "code",
   "execution_count": 423,
   "metadata": {},
   "outputs": [],
   "source": [
    "names.append('location name 2')\n",
    "lats.append(float(location.latitude))\n",
    "lons.append(float(location.longitude))\n",
    "altitude.append(1)"
   ]
  },
  {
   "cell_type": "code",
   "execution_count": 424,
   "metadata": {},
   "outputs": [],
   "source": [
    "names.append('location name 2')\n",
    "lats.append(float(43.21142))\n",
    "lons.append(float(-96.4582))\n",
    "altitude.append(1)\n",
    "# sw 43°21'14.2\"N 96°45'48.2\"W"
   ]
  },
  {
   "cell_type": "code",
   "execution_count": 425,
   "metadata": {},
   "outputs": [],
   "source": [
    "names.append('location name 2')\n",
    "lats.append(float(49.258177))\n",
    "lons.append(float(-97.687927))\n",
    "altitude.append(1)\n",
    "# nw 49.258177, -97.687927"
   ]
  },
  {
   "cell_type": "code",
   "execution_count": 426,
   "metadata": {},
   "outputs": [],
   "source": [
    "names.append('location name 2')\n",
    "lats.append(float(48.42526))\n",
    "lons.append(float(-88.37513))\n",
    "altitude.append(1)\n",
    "# ne 48°42'52.6\"N 88°37'51.3\"W"
   ]
  },
  {
   "cell_type": "code",
   "execution_count": 427,
   "metadata": {},
   "outputs": [],
   "source": [
    "names.append('location name 2')\n",
    "lats.append(float(43.18063))\n",
    "lons.append(float(-90.18249))\n",
    "altitude.append(1)\n",
    "# se 43°18'06.3\"N 90°18'24.9\"W"
   ]
  },
  {
   "cell_type": "code",
   "execution_count": 428,
   "metadata": {},
   "outputs": [
    {
     "data": {
      "text/plain": [
       "[1, 1, 1, 1, 1, 1]"
      ]
     },
     "execution_count": 428,
     "metadata": {},
     "output_type": "execute_result"
    }
   ],
   "source": [
    "altitude"
   ]
  },
  {
   "cell_type": "code",
   "execution_count": 429,
   "metadata": {},
   "outputs": [],
   "source": [
    "\n",
    "# How much to zoom from coordinates (in degrees)\n",
    "zoom_scale = 0\n",
    "\n",
    "# Setup the bounding box for the zoom and bounds of the map\n",
    "bbox = [np.min(lats)-zoom_scale,np.max(lats)+zoom_scale,np.min(lons)-zoom_scale,np.max(lons)+zoom_scale]"
   ]
  },
  {
   "cell_type": "code",
   "execution_count": 430,
   "metadata": {},
   "outputs": [
    {
     "data": {
      "text/plain": [
       "[43.18063, 49.258177, -97.687927, -88.37513]"
      ]
     },
     "execution_count": 430,
     "metadata": {},
     "output_type": "execute_result"
    }
   ],
   "source": [
    "bbox"
   ]
  },
  {
   "cell_type": "code",
   "execution_count": 439,
   "metadata": {},
   "outputs": [
    {
     "data": {
      "image/png": "[encoded data removed]",
      "text/plain": [
       "<Figure size 864x432 with 1 Axes>"
      ]
     },
     "metadata": {},
     "output_type": "display_data"
    }
   ],
   "source": [
    "plt.figure(figsize=(12,6))\n",
    "# Define the projection, scale, the corners of the map, and the resolution.\n",
    "m = Basemap(projection='merc',llcrnrlat=bbox[0],urcrnrlat=bbox[1],llcrnrlon=bbox[2],urcrnrlon=bbox[3],lat_ts=10,resolution='i')\n",
    "\n",
    "# Draw coastlines and fill continents and water with color\n",
    "m.drawcoastlines()\n",
    "m.fillcontinents(color='peru',lake_color='dodgerblue')\n",
    "\n",
    "# draw parallels, meridians, and color boundaries\n",
    "m.drawparallels(np.arange(bbox[0],bbox[1],(bbox[1]-bbox[0])/5),labels=[1,0,0,0])\n",
    "m.drawmeridians(np.arange(bbox[2],bbox[3],(bbox[3]-bbox[2])/5),labels=[0,0,0,1],rotation=45)\n",
    "m.drawmapboundary(fill_color='dodgerblue')\n",
    "\n",
    "#https://python-graph-gallery.com/286-boundaries-provided-in-basemap/\n",
    "m.drawstates()\n",
    "m.drawcountries()\n",
    "\n",
    "\n",
    "# build and plot coordinates onto map\n",
    "x,y = m(lons,lats)\n",
    "m.plot(x,y,'r*',markersize=5)\n",
    "plt.title(\"Road Closure Incidents\")\n",
    "#plt.savefig('asos_station_plot.png', format='png', dpi=500)\n",
    "plt.show()"
   ]
  }
 ],
 "metadata": {
  "kernelspec": {
   "display_name": "Python 3",
   "language": "python",
   "name": "python3"
  },
  "language_info": {
   "codemirror_mode": {
    "name": "ipython",
    "version": 3
   },
   "file_extension": ".py",
   "mimetype": "text/x-python",
   "name": "python",
   "nbconvert_exporter": "python",
   "pygments_lexer": "ipython3",
   "version": "3.6.7"
  }
 },
 "nbformat": 4,
 "nbformat_minor": 2
}
