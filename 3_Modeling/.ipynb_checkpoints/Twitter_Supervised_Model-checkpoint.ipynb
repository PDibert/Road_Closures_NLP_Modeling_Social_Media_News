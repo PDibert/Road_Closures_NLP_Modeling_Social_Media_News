{
 "cells": [
  {
   "cell_type": "markdown",
   "metadata": {},
   "source": [
    "# Building a classification model by creating a labeled dataset from tweets to distinguish btwn road closures and non-road closures. \n",
    "## Goal: determine if a live tweet from MN is announcing a road closure by running it through this model"
   ]
  },
  {
   "cell_type": "markdown",
   "metadata": {},
   "source": [
    "Using 13k scraped tweets from blue-check verified Dept of Transportation Twitter accounts in Minnesota, we will create a labeled data set with `Y` target values: \n",
    "  - `1`: Road Closure\n",
    "  - `0`: Not Road Closure\n",
    "\n",
    "The labeled dataset will contained balanced classes -- an even distribution of road closure and non-road closure announcements. \n",
    "\n",
    "Tweets will be identified as road closures based on an analysis of road closure announcements made on official Dept of Transportation websites. For this case study, we use [MN 511 Road Closure Announcements](https://lb.511mn.org//mnlb/roadreports/menu.jsf?view=state&text=m&textOnly=true&current=true) to help us determine how to filter Tweets that announce road closures. \n",
    "\n",
    "The goal of creating a labeled dataset is to build a model that can be used on live Tweets. "
   ]
  },
  {
   "cell_type": "markdown",
   "metadata": {},
   "source": [
    "- [**Import Libraries**](#Import-Libraries)\n",
    "- [**Bar Plot Function**](#Bar-Plot-Function)\n",
    "- [**Exploratory Data Analysis: MN511**](#Exploratory-Data-Analysis:-MN511)\n",
    "  - [Import MN 511 Data](#Import-MN-511-Data)\n",
    "  - [CountVectorizer n_gram = 1,1 on MN511](#CountVectorizer-n_gram-=-1,1-on-MN511)\n",
    "  - [CountVectorizer n_gram = 2,2 on MN511](#CountVectorizer-n_gram-=-2,2-on-MN511)\n",
    "- [EDA: North Dakota 511](#EDA:-North-Dakota-511)\n",
    "  - [Import ND 511 data](#Import-ND-511-data)\n",
    "  - [Drop rows containing variations of the words \"open\" and \"lifted\"](#Drop-rows-containing-variations-of-the-words-\"open\"-and-\"lifted\")\n",
    "  - [CountVectorizer n_gram = 1,1 on ND511](#CountVectorizer-n_gram-=-1,1-on-ND511)\n",
    "  - [CountVectorizer n_gram = 2,2 on ND511](#CountVectorizer-n_gram-=-1,1-on-ND511)\n",
    "- [Import Twitter Data](#Import-Twitter-Data)\n",
    "  - [Split df_mntwitter into tweets announcing road closures, and not announcing road closures](#Split-df_mntwitter-into-tweets-announcing-road-closures,-and-not-announcing-road-closures.)\n",
    "  - [Non-Road Closure DataFrame: df_mn_open](#Non-Road-Closure-DataFrame:-df_mn_open)\n",
    "- [Pre-Processing](#Pre-Processing)\n",
    "  - [Baseline Score](#Baseline-Score)\n",
    "  - [Set X (predictor) and y (target) variables](#Set X-(predictor)-and-y-(target)-variables)\n",
    "  - [Train/Test Split](#Train/Test-Split)\n",
    "- [Modeling](#Modeling)\n",
    "  - [CountVectorizer & Logistic Regression (Best Coefficient Interpretability)](#CountVectorizer-&-Logistic-Regression-(Best-Coefficient-Interpretability))\n",
    "  - [Run the model](#Run-the-model)\n",
    "  - [Confusion Matrix](#Confusion-Matrix)\n",
    "  - [Coefficient Analysis](#Coefficient-Analysis)\n",
    "- [Run the model on unseen data](#Run-the-model-on-unseen-data)"
   ]
  },
  {
   "cell_type": "markdown",
   "metadata": {},
   "source": [
    "# Import Libraries"
   ]
  },
  {
   "cell_type": "code",
   "execution_count": 3,
   "metadata": {},
   "outputs": [],
   "source": [
    "# EDA\n",
    "import pandas as pd\n",
    "import matplotlib.pyplot as plt\n",
    "import seaborn as sns\n",
    "import numpy as np\n",
    "\n",
    "# Natural Language Processing\n",
    "from sklearn.feature_extraction import stop_words\n",
    "from sklearn.feature_extraction.text import CountVectorizer, TfidfVectorizer\n",
    "\n",
    "# Modeling\n",
    "from sklearn.linear_model import LogisticRegression\n",
    "from sklearn.model_selection import train_test_split, GridSearchCV\n",
    "from sklearn.pipeline import Pipeline\n",
    "from sklearn.naive_bayes import MultinomialNB\n",
    "from sklearn import metrics\n",
    "from sklearn.metrics import accuracy_score, recall_score, precision_score, confusion_matrix"
   ]
  },
  {
   "cell_type": "markdown",
   "metadata": {},
   "source": [
    "### Bar Plot Function"
   ]
  },
  {
   "cell_type": "code",
   "execution_count": 35,
   "metadata": {},
   "outputs": [],
   "source": [
    "def bar_plot(x, y, title, color):    \n",
    "    \n",
    "    # Set up barplot \n",
    "    plt.figure(figsize=(8,4))\n",
    "    g=sns.barplot(x, y, color = color)    \n",
    "    ax=g\n",
    "\n",
    "    # Label the graph\n",
    "    plt.title(title, fontsize = 15)\n",
    "    plt.xticks(fontsize = 10)\n",
    "\n",
    "    # Enable bar values\n",
    "    # Code modified from http://robertmitchellv.com/blog-bar-chart-annotations-pandas-mpl.html\n",
    "    # create a list to collect the plt.patches data\n",
    "    totals = []\n",
    "\n",
    "    # find the values and append to list\n",
    "    for p in ax.patches:\n",
    "        totals.append(p.get_width())\n",
    "\n",
    "    # set individual bar lables using above list\n",
    "    total = sum(totals)\n",
    "\n",
    "    # set individual bar lables using above list\n",
    "    for p in ax.patches:\n",
    "        # get_width pulls left or right; get_y pushes up or down\n",
    "        ax.text(p.get_width()+.3, p.get_y()+.38, \\\n",
    "                int(p.get_width()), fontsize=10)"
   ]
  },
  {
   "cell_type": "markdown",
   "metadata": {},
   "source": [
    "# Exploratory Data Analysis: MN511"
   ]
  },
  {
   "cell_type": "markdown",
   "metadata": {},
   "source": [
    "### Import MN 511 Data"
   ]
  },
  {
   "cell_type": "code",
   "execution_count": 36,
   "metadata": {},
   "outputs": [],
   "source": [
    "df = pd.read_csv('../data/alldata_update.csv')"
   ]
  },
  {
   "cell_type": "code",
   "execution_count": 37,
   "metadata": {},
   "outputs": [
    {
     "data": {
      "text/html": [
       "<div>\n",
       "<style scoped>\n",
       "    .dataframe tbody tr th:only-of-type {\n",
       "        vertical-align: middle;\n",
       "    }\n",
       "\n",
       "    .dataframe tbody tr th {\n",
       "        vertical-align: top;\n",
       "    }\n",
       "\n",
       "    .dataframe thead th {\n",
       "        text-align: right;\n",
       "    }\n",
       "</style>\n",
       "<table border=\"1\" class=\"dataframe\">\n",
       "  <thead>\n",
       "    <tr style=\"text-align: right;\">\n",
       "      <th></th>\n",
       "      <th>Unnamed: 0</th>\n",
       "      <th>date</th>\n",
       "      <th>text</th>\n",
       "      <th>keywords</th>\n",
       "      <th>location</th>\n",
       "      <th>source</th>\n",
       "    </tr>\n",
       "  </thead>\n",
       "  <tbody>\n",
       "    <tr>\n",
       "      <th>0</th>\n",
       "      <td>0</td>\n",
       "      <td>2019-04-12 12:40:24+00:00</td>\n",
       "      <td>Crash at Hwy 12/25 south of Buffalo. Traffic i...</td>\n",
       "      <td>NaN</td>\n",
       "      <td>NaN</td>\n",
       "      <td>twitter</td>\n",
       "    </tr>\n",
       "    <tr>\n",
       "      <th>1</th>\n",
       "      <td>1</td>\n",
       "      <td>2019-04-12 00:05:20+00:00</td>\n",
       "      <td>WB I-94, west of Sauk Centre- closed due to du...</td>\n",
       "      <td>NaN</td>\n",
       "      <td>NaN</td>\n",
       "      <td>twitter</td>\n",
       "    </tr>\n",
       "    <tr>\n",
       "      <th>2</th>\n",
       "      <td>2</td>\n",
       "      <td>2019-04-11 22:30:44+00:00</td>\n",
       "      <td>No travel advised on Hwy 169 along the west si...</td>\n",
       "      <td>NaN</td>\n",
       "      <td>NaN</td>\n",
       "      <td>twitter</td>\n",
       "    </tr>\n",
       "    <tr>\n",
       "      <th>3</th>\n",
       "      <td>3</td>\n",
       "      <td>2019-04-11 22:17:09+00:00</td>\n",
       "      <td>No Travel Advised has been expanded to include...</td>\n",
       "      <td>#Stearns #centralMN</td>\n",
       "      <td>NaN</td>\n",
       "      <td>twitter</td>\n",
       "    </tr>\n",
       "    <tr>\n",
       "      <th>4</th>\n",
       "      <td>4</td>\n",
       "      <td>2019-04-11 19:49:47+00:00</td>\n",
       "      <td>No Travel Advisory issued for I-94 through @St...</td>\n",
       "      <td>NaN</td>\n",
       "      <td>NaN</td>\n",
       "      <td>twitter</td>\n",
       "    </tr>\n",
       "  </tbody>\n",
       "</table>\n",
       "</div>"
      ],
      "text/plain": [
       "   Unnamed: 0                       date  \\\n",
       "0           0  2019-04-12 12:40:24+00:00   \n",
       "1           1  2019-04-12 00:05:20+00:00   \n",
       "2           2  2019-04-11 22:30:44+00:00   \n",
       "3           3  2019-04-11 22:17:09+00:00   \n",
       "4           4  2019-04-11 19:49:47+00:00   \n",
       "\n",
       "                                                text             keywords  \\\n",
       "0  Crash at Hwy 12/25 south of Buffalo. Traffic i...                  NaN   \n",
       "1  WB I-94, west of Sauk Centre- closed due to du...                  NaN   \n",
       "2  No travel advised on Hwy 169 along the west si...                  NaN   \n",
       "3  No Travel Advised has been expanded to include...  #Stearns #centralMN   \n",
       "4  No Travel Advisory issued for I-94 through @St...                  NaN   \n",
       "\n",
       "  location   source  \n",
       "0      NaN  twitter  \n",
       "1      NaN  twitter  \n",
       "2      NaN  twitter  \n",
       "3      NaN  twitter  \n",
       "4      NaN  twitter  "
      ]
     },
     "execution_count": 37,
     "metadata": {},
     "output_type": "execute_result"
    }
   ],
   "source": [
    "df.head()"
   ]
  },
  {
   "cell_type": "code",
   "execution_count": 38,
   "metadata": {},
   "outputs": [
    {
     "data": {
      "text/html": [
       "<div>\n",
       "<style scoped>\n",
       "    .dataframe tbody tr th:only-of-type {\n",
       "        vertical-align: middle;\n",
       "    }\n",
       "\n",
       "    .dataframe tbody tr th {\n",
       "        vertical-align: top;\n",
       "    }\n",
       "\n",
       "    .dataframe thead th {\n",
       "        text-align: right;\n",
       "    }\n",
       "</style>\n",
       "<table border=\"1\" class=\"dataframe\">\n",
       "  <thead>\n",
       "    <tr style=\"text-align: right;\">\n",
       "      <th></th>\n",
       "      <th>Unnamed: 0</th>\n",
       "      <th>date</th>\n",
       "      <th>text</th>\n",
       "      <th>keywords</th>\n",
       "      <th>location</th>\n",
       "      <th>source</th>\n",
       "    </tr>\n",
       "  </thead>\n",
       "  <tbody>\n",
       "    <tr>\n",
       "      <th>0</th>\n",
       "      <td>0</td>\n",
       "      <td>date</td>\n",
       "      <td>Between MN 93; North 5th Street and US 169 (ne...</td>\n",
       "      <td>MN 19: Flooding.</td>\n",
       "      <td>[('North 5th Street', 'GPE'), ('Henderson', 'G...</td>\n",
       "      <td>mn511</td>\n",
       "    </tr>\n",
       "    <tr>\n",
       "      <th>1</th>\n",
       "      <td>1</td>\n",
       "      <td>date</td>\n",
       "      <td>Between US 169 (Le Sueur) and MN 19; North 5th...</td>\n",
       "      <td>MN 93: Flooding.</td>\n",
       "      <td>[('US', 'GPE')]</td>\n",
       "      <td>mn511</td>\n",
       "    </tr>\n",
       "    <tr>\n",
       "      <th>2</th>\n",
       "      <td>2</td>\n",
       "      <td>date</td>\n",
       "      <td>At Fern Street North (Cambridge). The road is ...</td>\n",
       "      <td>MN 95: Road closed.</td>\n",
       "      <td>[]</td>\n",
       "      <td>mn511</td>\n",
       "    </tr>\n",
       "    <tr>\n",
       "      <th>3</th>\n",
       "      <td>3</td>\n",
       "      <td>date</td>\n",
       "      <td>Between 220th Avenue and 230th Avenue (Halstad...</td>\n",
       "      <td>US 75 in both directions: Flooding.</td>\n",
       "      <td>[]</td>\n",
       "      <td>mn511</td>\n",
       "    </tr>\n",
       "    <tr>\n",
       "      <th>4</th>\n",
       "      <td>4</td>\n",
       "      <td>date</td>\n",
       "      <td>Between North Dakota State Line (Oslo) and 470...</td>\n",
       "      <td>MN 1: Flooding.</td>\n",
       "      <td>[('North Dakota', 'GPE'), ('Oslo', 'GPE'), ('A...</td>\n",
       "      <td>mn511</td>\n",
       "    </tr>\n",
       "  </tbody>\n",
       "</table>\n",
       "</div>"
      ],
      "text/plain": [
       "   Unnamed: 0  date                                               text  \\\n",
       "0           0  date  Between MN 93; North 5th Street and US 169 (ne...   \n",
       "1           1  date  Between US 169 (Le Sueur) and MN 19; North 5th...   \n",
       "2           2  date  At Fern Street North (Cambridge). The road is ...   \n",
       "3           3  date  Between 220th Avenue and 230th Avenue (Halstad...   \n",
       "4           4  date  Between North Dakota State Line (Oslo) and 470...   \n",
       "\n",
       "                              keywords  \\\n",
       "0                     MN 19: Flooding.   \n",
       "1                     MN 93: Flooding.   \n",
       "2                  MN 95: Road closed.   \n",
       "3  US 75 in both directions: Flooding.   \n",
       "4                      MN 1: Flooding.   \n",
       "\n",
       "                                            location source  \n",
       "0  [('North 5th Street', 'GPE'), ('Henderson', 'G...  mn511  \n",
       "1                                    [('US', 'GPE')]  mn511  \n",
       "2                                                 []  mn511  \n",
       "3                                                 []  mn511  \n",
       "4  [('North Dakota', 'GPE'), ('Oslo', 'GPE'), ('A...  mn511  "
      ]
     },
     "execution_count": 38,
     "metadata": {},
     "output_type": "execute_result"
    }
   ],
   "source": [
    "# Create a new dataframe showing only MN511 announcements\n",
    "df_mn511 = df[df['source'] == 'mn511']\n",
    "df_mn511.reset_index(drop=True, inplace=True)\n",
    "df_mn511.head()"
   ]
  },
  {
   "cell_type": "markdown",
   "metadata": {},
   "source": [
    "### CountVectorizer n_gram = 1,1 on MN511\n",
    "  - Find most frequently used unigrams (single words)"
   ]
  },
  {
   "cell_type": "code",
   "execution_count": 39,
   "metadata": {},
   "outputs": [
    {
     "name": "stdout",
     "output_type": "stream",
     "text": [
      "(14, 74)\n"
     ]
    }
   ],
   "source": [
    "# Instantiate a CountVectorizer\n",
    "cv = CountVectorizer(stop_words = 'english')\n",
    "\n",
    "# Fit and transform the vectorizer on our corpus\n",
    "cvec = cv.fit_transform(df_mn511['text'])\n",
    "\n",
    "# Convert cvec into a DataFrame\n",
    "mn511_cvec = pd.DataFrame(cvec.toarray(),\n",
    "                   columns=cv.get_feature_names())\n",
    "\n",
    "# Inspect new DF\n",
    "print(mn511_cvec.shape)"
   ]
  },
  {
   "cell_type": "code",
   "execution_count": 40,
   "metadata": {},
   "outputs": [
    {
     "data": {
      "image/png": "[encoded data removed]",
      "text/plain": [
       "<Figure size 576x288 with 1 Axes>"
      ]
     },
     "metadata": {
      "needs_background": "light"
     },
     "output_type": "display_data"
    }
   ],
   "source": [
    "# Set up variables to contain top 5 most used words \n",
    "mn511_cvec_wc1 = mn511_cvec.sum(axis = 0).sort_values(ascending=False).head(6)\n",
    "\n",
    "# Call bar plot function\n",
    "bar_plot(mn511_cvec_wc1.values, mn511_cvec_wc1.index, 'Top 6 unigrams from alerts that confirm road closures','r')\n"
   ]
  },
  {
   "cell_type": "markdown",
   "metadata": {},
   "source": [
    "  - Of the 14 road closure announcements made on 511, all of them include the words \"road\" and \"closed\""
   ]
  },
  {
   "cell_type": "markdown",
   "metadata": {},
   "source": [
    "### CountVectorizer n_gram = 2,2 on MN511\n",
    "  - Find most frequently used bigrams (word pairs)"
   ]
  },
  {
   "cell_type": "code",
   "execution_count": 41,
   "metadata": {},
   "outputs": [
    {
     "name": "stdout",
     "output_type": "stream",
     "text": [
      "(14, 114)\n"
     ]
    }
   ],
   "source": [
    "# Instantiate a CountVectorizer\n",
    "cv2 = CountVectorizer(stop_words = 'english', ngram_range=(2,2))\n",
    "\n",
    "# Fit and transform the vectorizer on our corpus\n",
    "cvec2 = cv2.fit_transform(df_mn511['text'])\n",
    "\n",
    "# Convert cvec into a DataFrame\n",
    "mn511_cvec2 = pd.DataFrame(cvec2.toarray(),\n",
    "                   columns=cv2.get_feature_names())\n",
    "\n",
    "# Inspect new DF\n",
    "print(mn511_cvec2.shape)"
   ]
  },
  {
   "cell_type": "code",
   "execution_count": 42,
   "metadata": {},
   "outputs": [
    {
     "data": {
      "image/png": "[encoded data removed]",
      "text/plain": [
       "<Figure size 576x288 with 1 Axes>"
      ]
     },
     "metadata": {
      "needs_background": "light"
     },
     "output_type": "display_data"
    }
   ],
   "source": [
    "# Set up variables to contain top 5 most used words\n",
    "mn511_cvec_wc2 = mn511_cvec2.sum(axis = 0).sort_values(ascending=False).head(6)\n",
    "\n",
    "# Call bar plot function\n",
    "bar_plot(mn511_cvec_wc2.values, mn511_cvec_wc2.index, 'Top 6 bigrams from alerts that confirm road closures','r')"
   ]
  },
  {
   "cell_type": "markdown",
   "metadata": {},
   "source": [
    "  - Of the 14 road closure announcements made on 511, all of them include the phrase \"road closed\""
   ]
  },
  {
   "cell_type": "markdown",
   "metadata": {},
   "source": [
    "# EDA: North Dakota 511"
   ]
  },
  {
   "cell_type": "markdown",
   "metadata": {},
   "source": [
    "### Import ND 511 data"
   ]
  },
  {
   "cell_type": "code",
   "execution_count": 43,
   "metadata": {},
   "outputs": [
    {
     "name": "stdout",
     "output_type": "stream",
     "text": [
      "(134, 1)\n"
     ]
    },
    {
     "data": {
      "text/html": [
       "<div>\n",
       "<style scoped>\n",
       "    .dataframe tbody tr th:only-of-type {\n",
       "        vertical-align: middle;\n",
       "    }\n",
       "\n",
       "    .dataframe tbody tr th {\n",
       "        vertical-align: top;\n",
       "    }\n",
       "\n",
       "    .dataframe thead th {\n",
       "        text-align: right;\n",
       "    }\n",
       "</style>\n",
       "<table border=\"1\" class=\"dataframe\">\n",
       "  <thead>\n",
       "    <tr style=\"text-align: right;\">\n",
       "      <th></th>\n",
       "      <th>text</th>\n",
       "    </tr>\n",
       "  </thead>\n",
       "  <tbody>\n",
       "    <tr>\n",
       "      <th>0</th>\n",
       "      <td>Water receded on I-29, 20 miles north of Grand...</td>\n",
       "    </tr>\n",
       "    <tr>\n",
       "      <th>1</th>\n",
       "      <td>ND Hwy 5 temporarily closed from I-29 to the R...</td>\n",
       "    </tr>\n",
       "    <tr>\n",
       "      <th>2</th>\n",
       "      <td>Water on I-29 north of Grand Forks</td>\n",
       "    </tr>\n",
       "    <tr>\n",
       "      <th>3</th>\n",
       "      <td>Water on I-29 north of Grand Forks</td>\n",
       "    </tr>\n",
       "    <tr>\n",
       "      <th>4</th>\n",
       "      <td>Southbound on ramp on I-29 Exit 164 north of G...</td>\n",
       "    </tr>\n",
       "  </tbody>\n",
       "</table>\n",
       "</div>"
      ],
      "text/plain": [
       "                                                text\n",
       "0  Water receded on I-29, 20 miles north of Grand...\n",
       "1  ND Hwy 5 temporarily closed from I-29 to the R...\n",
       "2                 Water on I-29 north of Grand Forks\n",
       "3                 Water on I-29 north of Grand Forks\n",
       "4  Southbound on ramp on I-29 Exit 164 north of G..."
      ]
     },
     "execution_count": 43,
     "metadata": {},
     "output_type": "execute_result"
    }
   ],
   "source": [
    "# Read in csv with ND511 announcements\n",
    "df_nd511 = pd.read_csv('../data/nd_511.csv')\n",
    "\n",
    "# Drop columns so that only tweets are shown\n",
    "df_nd511.drop(columns=['Unnamed: 0',\n",
    "                             'alert_type',\n",
    "                             'url',\n",
    "                             'post'], inplace=True)\n",
    "# Change column name\n",
    "df_nd511.rename(columns={'headline':'text'}, inplace=True)\n",
    "\n",
    "# Print DF shape\n",
    "print(df_nd511.shape)\n",
    "\n",
    "# Show head \n",
    "df_nd511.head()"
   ]
  },
  {
   "cell_type": "markdown",
   "metadata": {},
   "source": [
    "### Drop rows containing variations of the words \"open\" and \"lifted\"\n",
    "  - Announcements on ND 511 containing the words \"open\" and \"lifted\" announce the opening of road closures. So we want to get rid of those here. "
   ]
  },
  {
   "cell_type": "code",
   "execution_count": 44,
   "metadata": {},
   "outputs": [],
   "source": [
    "to_drop = [\"OPEN\", \"OPENED\", \"open\", \"opened\", \"lifed\", \"LIFTED\"]\n",
    "\n",
    "df_nd511 = df_nd511[~df_nd511['text'].str.contains('|'.join(to_drop))]"
   ]
  },
  {
   "cell_type": "markdown",
   "metadata": {},
   "source": [
    "### CountVectorizer n_gram = 1,1 on ND511\n",
    "  - Find most frequently used unigrams (single words)"
   ]
  },
  {
   "cell_type": "code",
   "execution_count": 45,
   "metadata": {},
   "outputs": [
    {
     "name": "stdout",
     "output_type": "stream",
     "text": [
      "(110, 139)\n"
     ]
    }
   ],
   "source": [
    "# Instantiate a CountVectorizer\n",
    "cv = CountVectorizer(stop_words = 'english')\n",
    "\n",
    "# Fit and transform the vectorizer on our corpus\n",
    "cvec = cv.fit_transform(df_nd511['text'])\n",
    "\n",
    "# Convert cvec into a DataFrame\n",
    "nd511_cvec = pd.DataFrame(cvec.toarray(),\n",
    "                   columns=cv.get_feature_names())\n",
    "\n",
    "# Inspect new DF\n",
    "print(nd511_cvec.shape)"
   ]
  },
  {
   "cell_type": "code",
   "execution_count": 46,
   "metadata": {},
   "outputs": [
    {
     "data": {
      "image/png": "[encoded data removed]",
      "text/plain": [
       "<Figure size 576x288 with 1 Axes>"
      ]
     },
     "metadata": {
      "needs_background": "light"
     },
     "output_type": "display_data"
    }
   ],
   "source": [
    "# Set up variables to contain top 5 most used words \n",
    "nd511_cvec_wc1 = nd511_cvec.sum(axis = 0).sort_values(ascending=False).head(6)\n",
    "\n",
    "# Call bar plot function\n",
    "bar_plot(nd511_cvec_wc1.values, nd511_cvec_wc1.index, 'Top 6 unigrams from alerts that confirm road closures','b')"
   ]
  },
  {
   "cell_type": "markdown",
   "metadata": {},
   "source": [
    "  - Of the 110 official road closure announcements on ND511, not all announcements contain a common word. "
   ]
  },
  {
   "cell_type": "markdown",
   "metadata": {},
   "source": [
    "### CountVectorizer n_gram = 2,2 on ND511\n",
    "  - Find most frequently used bigrams (word pairs)"
   ]
  },
  {
   "cell_type": "code",
   "execution_count": 47,
   "metadata": {},
   "outputs": [
    {
     "name": "stdout",
     "output_type": "stream",
     "text": [
      "(110, 259)\n"
     ]
    }
   ],
   "source": [
    "# Instantiate a CountVectorizer\n",
    "cv2 = CountVectorizer(stop_words = 'english', ngram_range=(2,2))\n",
    "\n",
    "# Fit and transform the vectorizer on our corpus\n",
    "cvec2 = cv2.fit_transform(df_nd511['text'])\n",
    "\n",
    "# Convert cvec into a DataFrame\n",
    "nd511_cvec2 = pd.DataFrame(cvec2.toarray(),\n",
    "                   columns=cv2.get_feature_names())\n",
    "\n",
    "# Inspect new DF\n",
    "print(nd511_cvec2.shape)"
   ]
  },
  {
   "cell_type": "code",
   "execution_count": 48,
   "metadata": {},
   "outputs": [
    {
     "data": {
      "image/png": "[encoded data removed]",
      "text/plain": [
       "<Figure size 576x288 with 1 Axes>"
      ]
     },
     "metadata": {
      "needs_background": "light"
     },
     "output_type": "display_data"
    }
   ],
   "source": [
    "# Set up variables to contain top 5 most used words\n",
    "nd511_cvec_wc2 = mn511_cvec2.sum(axis = 0).sort_values(ascending=False).head(6)\n",
    "\n",
    "# Call bar plot function\n",
    "bar_plot(nd511_cvec_wc2.values, nd511_cvec_wc2.index, 'Top 6 bigrams from alerts that confirm road closures','b')"
   ]
  },
  {
   "cell_type": "markdown",
   "metadata": {},
   "source": [
    "  - Only 14 of 110 road closure announcements use the phrase \"road closed\" to announce a road closure. "
   ]
  },
  {
   "cell_type": "markdown",
   "metadata": {},
   "source": [
    "# Import Twitter data"
   ]
  },
  {
   "cell_type": "code",
   "execution_count": 124,
   "metadata": {},
   "outputs": [
    {
     "name": "stdout",
     "output_type": "stream",
     "text": [
      "Shape: (14233, 2)\n"
     ]
    },
    {
     "data": {
      "text/html": [
       "<div>\n",
       "<style scoped>\n",
       "    .dataframe tbody tr th:only-of-type {\n",
       "        vertical-align: middle;\n",
       "    }\n",
       "\n",
       "    .dataframe tbody tr th {\n",
       "        vertical-align: top;\n",
       "    }\n",
       "\n",
       "    .dataframe thead th {\n",
       "        text-align: right;\n",
       "    }\n",
       "</style>\n",
       "<table border=\"1\" class=\"dataframe\">\n",
       "  <thead>\n",
       "    <tr style=\"text-align: right;\">\n",
       "      <th></th>\n",
       "      <th>text</th>\n",
       "      <th>source</th>\n",
       "    </tr>\n",
       "  </thead>\n",
       "  <tbody>\n",
       "    <tr>\n",
       "      <th>0</th>\n",
       "      <td>Crash at Hwy 12/25 south of Buffalo. Traffic i...</td>\n",
       "      <td>mn_twitter</td>\n",
       "    </tr>\n",
       "    <tr>\n",
       "      <th>1</th>\n",
       "      <td>WB I-94, west of Sauk Centre- closed due to du...</td>\n",
       "      <td>mn_twitter</td>\n",
       "    </tr>\n",
       "    <tr>\n",
       "      <th>2</th>\n",
       "      <td>No travel advised on Hwy 169 along the west si...</td>\n",
       "      <td>mn_twitter</td>\n",
       "    </tr>\n",
       "    <tr>\n",
       "      <th>3</th>\n",
       "      <td>No Travel Advised has been expanded to include...</td>\n",
       "      <td>mn_twitter</td>\n",
       "    </tr>\n",
       "    <tr>\n",
       "      <th>4</th>\n",
       "      <td>No Travel Advisory issued for I-94 through @St...</td>\n",
       "      <td>mn_twitter</td>\n",
       "    </tr>\n",
       "  </tbody>\n",
       "</table>\n",
       "</div>"
      ],
      "text/plain": [
       "                                                text      source\n",
       "0  Crash at Hwy 12/25 south of Buffalo. Traffic i...  mn_twitter\n",
       "1  WB I-94, west of Sauk Centre- closed due to du...  mn_twitter\n",
       "2  No travel advised on Hwy 169 along the west si...  mn_twitter\n",
       "3  No Travel Advised has been expanded to include...  mn_twitter\n",
       "4  No Travel Advisory issued for I-94 through @St...  mn_twitter"
      ]
     },
     "execution_count": 124,
     "metadata": {},
     "output_type": "execute_result"
    }
   ],
   "source": [
    "# Import data and save to variable \n",
    "df_mntwitter = pd.read_csv('../data/alldata_update.csv')\n",
    "\n",
    "# Drop column\n",
    "df_mntwitter.drop(['Unnamed: 0', 'keywords', 'location', 'date'], axis=1, inplace=True)\n",
    "\n",
    "# Filter data to show only tweets\n",
    "df_mntwitter[df['source'] == 'twitter']\n",
    "\n",
    "df_mntwitter['source'] = 'mn_twitter'\n",
    "\n",
    "# Inspect data\n",
    "print(f'Shape: {df_mntwitter.shape}')\n",
    "df_mntwitter.head()"
   ]
  },
  {
   "cell_type": "code",
   "execution_count": 125,
   "metadata": {},
   "outputs": [
    {
     "name": "stdout",
     "output_type": "stream",
     "text": [
      "Shape: (14232, 2)\n"
     ]
    }
   ],
   "source": [
    "# drop all rows with nulls\n",
    "df_mntwitter.dropna(inplace=True)\n",
    "\n",
    "print(f'Shape: {df_mntwitter.shape}')"
   ]
  },
  {
   "cell_type": "markdown",
   "metadata": {},
   "source": [
    "### Split `df_mntwitter` into tweets announcing road closures, and not announcing road closures. \n",
    "  - Using EDA from MN511, create a filter to separate road closure tweets from non-road closure tweets"
   ]
  },
  {
   "cell_type": "markdown",
   "metadata": {},
   "source": [
    "### Road Closure DataFrame: `df_mn_closures`"
   ]
  },
  {
   "cell_type": "code",
   "execution_count": 126,
   "metadata": {},
   "outputs": [],
   "source": [
    "# Drop any rows that announce a reversal of a road closure\n",
    "df_mn_closures = df_mntwitter[~df_mntwitter.text.str.contains(\"open\")]\n",
    "df_mn_closures = df_mn_closures[~df_mn_closures.text.str.contains(\"lift\")]"
   ]
  },
  {
   "cell_type": "code",
   "execution_count": 127,
   "metadata": {},
   "outputs": [],
   "source": [
    "# Since the words \"road\" and \"closed\" appeared in all MN511 posts, filter for those words here. \n",
    "mask_road = df_mn_closures['text'].str.contains('road closed', regex=False, case=False)\n",
    "mask_road1 = df_mn_closures['text'].str.contains('remains closed', regex=False, case=False)\n",
    "mask_closed = df_mn_closures['text'].str.contains('closed', regex=False, case=False)\n",
    "mask_closed1 = df_mn_closures['text'].str.contains('no travel', regex=False, case=False)\n",
    "\n",
    "df_mn_closures = df_mn_closures[mask_road1 | mask_road | mask_closed | mask_closed1]"
   ]
  },
  {
   "cell_type": "code",
   "execution_count": 128,
   "metadata": {},
   "outputs": [
    {
     "data": {
      "text/html": [
       "<div>\n",
       "<style scoped>\n",
       "    .dataframe tbody tr th:only-of-type {\n",
       "        vertical-align: middle;\n",
       "    }\n",
       "\n",
       "    .dataframe tbody tr th {\n",
       "        vertical-align: top;\n",
       "    }\n",
       "\n",
       "    .dataframe thead th {\n",
       "        text-align: right;\n",
       "    }\n",
       "</style>\n",
       "<table border=\"1\" class=\"dataframe\">\n",
       "  <thead>\n",
       "    <tr style=\"text-align: right;\">\n",
       "      <th></th>\n",
       "      <th>text</th>\n",
       "      <th>source</th>\n",
       "      <th>road_closure</th>\n",
       "    </tr>\n",
       "  </thead>\n",
       "  <tbody>\n",
       "    <tr>\n",
       "      <th>1</th>\n",
       "      <td>WB I-94, west of Sauk Centre- closed due to du...</td>\n",
       "      <td>mn_twitter</td>\n",
       "      <td>1</td>\n",
       "    </tr>\n",
       "    <tr>\n",
       "      <th>2</th>\n",
       "      <td>No travel advised on Hwy 169 along the west si...</td>\n",
       "      <td>mn_twitter</td>\n",
       "      <td>1</td>\n",
       "    </tr>\n",
       "    <tr>\n",
       "      <th>3</th>\n",
       "      <td>No Travel Advised has been expanded to include...</td>\n",
       "      <td>mn_twitter</td>\n",
       "      <td>1</td>\n",
       "    </tr>\n",
       "    <tr>\n",
       "      <th>4</th>\n",
       "      <td>No Travel Advisory issued for I-94 through @St...</td>\n",
       "      <td>mn_twitter</td>\n",
       "      <td>1</td>\n",
       "    </tr>\n",
       "    <tr>\n",
       "      <th>6</th>\n",
       "      <td>I-94 Clearwater to St. Cloud - both directions...</td>\n",
       "      <td>mn_twitter</td>\n",
       "      <td>1</td>\n",
       "    </tr>\n",
       "  </tbody>\n",
       "</table>\n",
       "</div>"
      ],
      "text/plain": [
       "                                                text      source  road_closure\n",
       "1  WB I-94, west of Sauk Centre- closed due to du...  mn_twitter             1\n",
       "2  No travel advised on Hwy 169 along the west si...  mn_twitter             1\n",
       "3  No Travel Advised has been expanded to include...  mn_twitter             1\n",
       "4  No Travel Advisory issued for I-94 through @St...  mn_twitter             1\n",
       "6  I-94 Clearwater to St. Cloud - both directions...  mn_twitter             1"
      ]
     },
     "execution_count": 128,
     "metadata": {},
     "output_type": "execute_result"
    }
   ],
   "source": [
    "# Set target variable \n",
    "df_mn_closures['road_closure'] = 1\n",
    "df_mn_closures.head()"
   ]
  },
  {
   "cell_type": "code",
   "execution_count": 129,
   "metadata": {},
   "outputs": [
    {
     "data": {
      "text/plain": [
       "(1133, 3)"
      ]
     },
     "execution_count": 129,
     "metadata": {},
     "output_type": "execute_result"
    }
   ],
   "source": [
    "# Dataset with all True Positives: all road closures! \n",
    "df_mn_closures.shape"
   ]
  },
  {
   "cell_type": "code",
   "execution_count": 130,
   "metadata": {},
   "outputs": [],
   "source": [
    "# Drop rows with False Positives (where road closure was not the case)\n",
    "df_mn_closures.drop([4524, 4435, 4423, 4418], inplace=True)"
   ]
  },
  {
   "cell_type": "markdown",
   "metadata": {},
   "source": [
    "### Non-Road Closure DataFrame: `df_mn_open`"
   ]
  },
  {
   "cell_type": "code",
   "execution_count": 131,
   "metadata": {},
   "outputs": [
    {
     "data": {
      "text/plain": [
       "(13077, 2)"
      ]
     },
     "execution_count": 131,
     "metadata": {},
     "output_type": "execute_result"
    }
   ],
   "source": [
    "# Get index number of tweets identified as road closures \n",
    "closed = list(df_mn_closures.index)\n",
    "\n",
    "# Remove all road closure tweets from this dataframe\n",
    "df_mn_open = df_mntwitter.drop(closed)\n",
    "\n",
    "# Drop any instances where false positives might occur\n",
    "df_mn_open = df_mn_open[~df_mn_open.text.str.contains(\"remains closed\")]\n",
    "df_mn_open = df_mn_open[~df_mn_open.text.str.contains(\"remains close\")]\n",
    "\n",
    "# Shape\n",
    "df_mn_open.shape"
   ]
  },
  {
   "cell_type": "code",
   "execution_count": 132,
   "metadata": {},
   "outputs": [
    {
     "data": {
      "text/plain": [
       "(1133, 2)"
      ]
     },
     "execution_count": 132,
     "metadata": {},
     "output_type": "execute_result"
    }
   ],
   "source": [
    "# To maintain balanced classes, I will drop rows in `df_mn_open` so that they are equal to `df_mn_closures`\n",
    "\n",
    "df_mn_open = df_mn_open.iloc[0:1133]\n",
    "df_mn_open.shape"
   ]
  },
  {
   "cell_type": "code",
   "execution_count": 133,
   "metadata": {},
   "outputs": [
    {
     "data": {
      "text/html": [
       "<div>\n",
       "<style scoped>\n",
       "    .dataframe tbody tr th:only-of-type {\n",
       "        vertical-align: middle;\n",
       "    }\n",
       "\n",
       "    .dataframe tbody tr th {\n",
       "        vertical-align: top;\n",
       "    }\n",
       "\n",
       "    .dataframe thead th {\n",
       "        text-align: right;\n",
       "    }\n",
       "</style>\n",
       "<table border=\"1\" class=\"dataframe\">\n",
       "  <thead>\n",
       "    <tr style=\"text-align: right;\">\n",
       "      <th></th>\n",
       "      <th>text</th>\n",
       "      <th>source</th>\n",
       "      <th>road_closure</th>\n",
       "    </tr>\n",
       "  </thead>\n",
       "  <tbody>\n",
       "    <tr>\n",
       "      <th>0</th>\n",
       "      <td>Crash at Hwy 12/25 south of Buffalo. Traffic i...</td>\n",
       "      <td>mn_twitter</td>\n",
       "      <td>0</td>\n",
       "    </tr>\n",
       "    <tr>\n",
       "      <th>5</th>\n",
       "      <td>I-94 Clearwater to St. Cloud - all lanes are n...</td>\n",
       "      <td>mn_twitter</td>\n",
       "      <td>0</td>\n",
       "    </tr>\n",
       "    <tr>\n",
       "      <th>7</th>\n",
       "      <td>Eastbound I-94 Monticello to Albertville - all...</td>\n",
       "      <td>mn_twitter</td>\n",
       "      <td>0</td>\n",
       "    </tr>\n",
       "    <tr>\n",
       "      <th>10</th>\n",
       "      <td>How cool are snow fences that reduce crashes? ...</td>\n",
       "      <td>mn_twitter</td>\n",
       "      <td>0</td>\n",
       "    </tr>\n",
       "    <tr>\n",
       "      <th>11</th>\n",
       "      <td>Belgrade - we want your opinion tonight! Join ...</td>\n",
       "      <td>mn_twitter</td>\n",
       "      <td>0</td>\n",
       "    </tr>\n",
       "  </tbody>\n",
       "</table>\n",
       "</div>"
      ],
      "text/plain": [
       "                                                 text      source  \\\n",
       "0   Crash at Hwy 12/25 south of Buffalo. Traffic i...  mn_twitter   \n",
       "5   I-94 Clearwater to St. Cloud - all lanes are n...  mn_twitter   \n",
       "7   Eastbound I-94 Monticello to Albertville - all...  mn_twitter   \n",
       "10  How cool are snow fences that reduce crashes? ...  mn_twitter   \n",
       "11  Belgrade - we want your opinion tonight! Join ...  mn_twitter   \n",
       "\n",
       "    road_closure  \n",
       "0              0  \n",
       "5              0  \n",
       "7              0  \n",
       "10             0  \n",
       "11             0  "
      ]
     },
     "execution_count": 133,
     "metadata": {},
     "output_type": "execute_result"
    }
   ],
   "source": [
    "# Set target variable \n",
    "df_mn_open['road_closure'] = 0\n",
    "df_mn_open.head()"
   ]
  },
  {
   "cell_type": "markdown",
   "metadata": {},
   "source": [
    "# Pre-Processing"
   ]
  },
  {
   "cell_type": "code",
   "execution_count": 134,
   "metadata": {},
   "outputs": [
    {
     "data": {
      "text/plain": [
       "(2262, 3)"
      ]
     },
     "execution_count": 134,
     "metadata": {},
     "output_type": "execute_result"
    }
   ],
   "source": [
    "# Merge dataframes\n",
    "df_mn_training = pd.concat([df_mn_open, df_mn_closures], axis=0)\n",
    "df_mn_training.shape"
   ]
  },
  {
   "cell_type": "markdown",
   "metadata": {},
   "source": [
    "### Baseline Score"
   ]
  },
  {
   "cell_type": "code",
   "execution_count": 135,
   "metadata": {},
   "outputs": [
    {
     "data": {
      "text/plain": [
       "0    0.500884\n",
       "1    0.499116\n",
       "Name: road_closure, dtype: float64"
      ]
     },
     "execution_count": 135,
     "metadata": {},
     "output_type": "execute_result"
    }
   ],
   "source": [
    "# Baseline score\n",
    "df_mn_training['road_closure'].value_counts(normalize=True)"
   ]
  },
  {
   "cell_type": "markdown",
   "metadata": {},
   "source": [
    "I expect my model to be better than 5%. The majority class is 1, or, road closures. If the model is not better than 50%, I know the model is not performing well."
   ]
  },
  {
   "cell_type": "markdown",
   "metadata": {},
   "source": [
    "### Set `X` (predictor) and `y` (target) variables"
   ]
  },
  {
   "cell_type": "code",
   "execution_count": 136,
   "metadata": {},
   "outputs": [],
   "source": [
    "X = df_mn_training['text']\n",
    "y = df_mn_training['road_closure']"
   ]
  },
  {
   "cell_type": "markdown",
   "metadata": {},
   "source": [
    "### Train/Test Split"
   ]
  },
  {
   "cell_type": "code",
   "execution_count": 137,
   "metadata": {},
   "outputs": [],
   "source": [
    "X_train, X_test, y_train, y_test = train_test_split(X,\n",
    "                                                    y,\n",
    "                                                    random_state=42,\n",
    "                                                    stratify=y)"
   ]
  },
  {
   "cell_type": "markdown",
   "metadata": {},
   "source": [
    "# Modeling"
   ]
  },
  {
   "cell_type": "markdown",
   "metadata": {},
   "source": [
    "### CountVectorizer & Logistic Regression (Best Coefficient Interpretability)"
   ]
  },
  {
   "cell_type": "code",
   "execution_count": 138,
   "metadata": {},
   "outputs": [
    {
     "name": "stdout",
     "output_type": "stream",
     "text": [
      "Best score: 0.9899764150943396\n",
      "Train score 1.0\n",
      "Test score 0.9929328621908127\n"
     ]
    },
    {
     "data": {
      "text/plain": [
       "{'cvec__ngram_range': (1, 1), 'cvec__stop_words': None, 'lr__C': 1}"
      ]
     },
     "execution_count": 138,
     "metadata": {},
     "output_type": "execute_result"
    }
   ],
   "source": [
    "pipe = Pipeline([('cvec', CountVectorizer()),    \n",
    "                 ('lr', LogisticRegression(solver='liblinear'))])\n",
    "\n",
    "# Tune GridSearchCV\n",
    "pipe_params = {'cvec__stop_words': [None, 'english'],\n",
    "               'cvec__ngram_range': [(1,1), (2,2), (1,3)],\n",
    "               'lr__C': [0.01, 1]}\n",
    "\n",
    "gs = GridSearchCV(pipe, param_grid=pipe_params, cv=3)\n",
    "gs.fit(X_train, y_train);\n",
    "print(\"Best score:\", gs.best_score_)\n",
    "print(\"Train score\", gs.score(X_train, y_train))\n",
    "print(\"Test score\", gs.score(X_test, y_test))\n",
    "\n",
    "gs.best_params_"
   ]
  },
  {
   "cell_type": "markdown",
   "metadata": {},
   "source": [
    "### Run the model "
   ]
  },
  {
   "cell_type": "code",
   "execution_count": 157,
   "metadata": {},
   "outputs": [
    {
     "name": "stdout",
     "output_type": "stream",
     "text": [
      "Test Score: 1.0\n",
      "Test Score: 0.9929328621908127\n"
     ]
    }
   ],
   "source": [
    "#Instantiate the classifier and vectorizer\n",
    "lr = LogisticRegression(C = 1.0, solver='liblinear')\n",
    "cvec = CountVectorizer()\n",
    "\n",
    "# Fit and transform the vectorizor\n",
    "cvec.fit(X_train)\n",
    "\n",
    "Xcvec_train = cvec.transform(X_train)\n",
    "Xcvec_test = cvec.transform(X_test)\n",
    "\n",
    "# Fit the classifier\n",
    "lr.fit(Xcvec_train,y_train)\n",
    "\n",
    "# Create the predictions for Y training data\n",
    "lr_preds = lr.predict(Xcvec_test)\n",
    "\n",
    "print(f'Train Score: {lr.score(Xcvec_train, y_train)}')\n",
    "print(f'Test Score: {lr.score(Xcvec_test, y_test)}')"
   ]
  },
  {
   "cell_type": "code",
   "execution_count": 140,
   "metadata": {},
   "outputs": [
    {
     "data": {
      "text/plain": [
       "<1696x4890 sparse matrix of type '<class 'numpy.int64'>'\n",
       "\twith 45581 stored elements in Compressed Sparse Row format>"
      ]
     },
     "execution_count": 140,
     "metadata": {},
     "output_type": "execute_result"
    }
   ],
   "source": [
    "Xcvec_train"
   ]
  },
  {
   "cell_type": "markdown",
   "metadata": {},
   "source": [
    "### Confusion Matrix"
   ]
  },
  {
   "cell_type": "code",
   "execution_count": 141,
   "metadata": {},
   "outputs": [
    {
     "data": {
      "text/plain": [
       "array([[280,   4],\n",
       "       [  0, 282]])"
      ]
     },
     "execution_count": 141,
     "metadata": {},
     "output_type": "execute_result"
    }
   ],
   "source": [
    "# Create a confusion matrix\n",
    "cnf_matrix = metrics.confusion_matrix(y_test, lr_preds)\n",
    "cnf_matrix"
   ]
  },
  {
   "cell_type": "code",
   "execution_count": 142,
   "metadata": {},
   "outputs": [
    {
     "data": {
      "text/plain": [
       "Text(0.5, 257.44, 'Predicted label')"
      ]
     },
     "execution_count": 142,
     "metadata": {},
     "output_type": "execute_result"
    },
    {
     "data": {
      "image/png": "[encoded data removed]",
      "text/plain": [
       "<Figure size 432x288 with 2 Axes>"
      ]
     },
     "metadata": {
      "needs_background": "light"
     },
     "output_type": "display_data"
    }
   ],
   "source": [
    "# Code from https://www.datacamp.com/community/tutorials/understanding-logistic-regression-python\n",
    "\n",
    "# name  of classes\n",
    "class_names=[0,1] \n",
    "\n",
    "# Set fig and axes \n",
    "fig, ax = plt.subplots()\n",
    "tick_marks = np.arange(len(class_names))\n",
    "plt.xticks(tick_marks, class_names)\n",
    "plt.yticks(tick_marks, class_names)\n",
    "\n",
    "# Create heatmap\n",
    "sns.heatmap(pd.DataFrame(cnf_matrix), annot=True, cmap=\"YlGnBu\" ,fmt='g')\n",
    "ax.xaxis.set_label_position(\"top\")\n",
    "plt.tight_layout()\n",
    "plt.title('Confusion matrix', y=1.1)\n",
    "plt.ylabel('Actual label')\n",
    "plt.xlabel('Predicted label')"
   ]
  },
  {
   "cell_type": "code",
   "execution_count": 143,
   "metadata": {},
   "outputs": [],
   "source": [
    "# Assign True Neg, False Pos, False Neg, True Pos variables\n",
    "cnf_matrix = np.array(cnf_matrix).tolist()\n",
    "\n",
    "tn_fp, fn_tp = cnf_matrix\n",
    "\n",
    "tn, fp = tn_fp\n",
    "fn, tp = fn_tp"
   ]
  },
  {
   "cell_type": "code",
   "execution_count": 144,
   "metadata": {},
   "outputs": [
    {
     "name": "stdout",
     "output_type": "stream",
     "text": [
      "Accuracy: 99.29 %\n",
      "Precision: 98.6 %\n",
      "Recall: 100.0 %\n",
      "Specificity: 98.59 %\n",
      "Misclassification Rate: 0.71 %\n"
     ]
    }
   ],
   "source": [
    "# Print Scores \n",
    "\n",
    "print(\"Accuracy:\",round(metrics.accuracy_score(y_test, lr_preds)*100, 2),'%')\n",
    "print(\"Precision:\",round(metrics.precision_score(y_test, lr_preds)*100, 2), '%')\n",
    "print(\"Recall:\",round(metrics.recall_score(y_test, lr_preds)*100, 2), '%')\n",
    "print(\"Specificity:\", round((tn/(tn+fp))*100, 2), '%')\n",
    "print(\"Misclassification Rate:\", round((fp+fn)/(tn+fp+fn+tn)*100, 2), '%')"
   ]
  },
  {
   "cell_type": "markdown",
   "metadata": {},
   "source": [
    "### Coefficient Analysis"
   ]
  },
  {
   "cell_type": "code",
   "execution_count": 145,
   "metadata": {},
   "outputs": [
    {
     "data": {
      "image/png": "[encoded data removed]",
      "text/plain": [
       "<Figure size 576x432 with 1 Axes>"
      ]
     },
     "metadata": {
      "needs_background": "light"
     },
     "output_type": "display_data"
    }
   ],
   "source": [
    "# Create list of logistic regression coefficients \n",
    "lr_coef = np.array(lr.coef_).tolist()\n",
    "lr_coef = lr_coef[0]\n",
    "\n",
    "# create dataframe from lasso coef\n",
    "lr_coef = pd.DataFrame(np.round_(lr_coef, decimals=3), \n",
    "cvec.get_feature_names(), columns = [\"penalized_regression_coefficients\"])\n",
    "\n",
    "# sort the values from high to low\n",
    "lr_coef = lr_coef.sort_values(by = 'penalized_regression_coefficients', \n",
    "ascending = False)\n",
    "\n",
    "# Create top and bottom 10 \n",
    "df_head = lr_coef.head(10)\n",
    "df_tail = lr_coef.tail(10)\n",
    "\n",
    "# merge back together\n",
    "df_merged = pd.concat([df_head, df_tail], axis=0)\n",
    "\n",
    "# plot the sorted dataframe\n",
    "fig, ax = plt.subplots()\n",
    "fig.set_size_inches(8, 6)\n",
    "fig.suptitle('Coefficients!', size=14)\n",
    "ax = sns.barplot(x = 'penalized_regression_coefficients', y= df_merged.index, \n",
    "data=df_merged)\n",
    "ax.set(xlabel='Penalized Regression Coefficients')\n",
    "plt.tight_layout(pad=3, w_pad=0, h_pad=0);"
   ]
  },
  {
   "cell_type": "code",
   "execution_count": 146,
   "metadata": {},
   "outputs": [
    {
     "name": "stdout",
     "output_type": "stream",
     "text": [
      "The word that contributes the most positively to being a tweet announcing a road closure is ' closed ' followed by ' no ' and ' travel ' .\n",
      "-----------------------------------\n",
      "The word that contributes the most positively to being a tweet announcing a NON-road closure is ' open ' followed by ' southeast ' and ' reopen ' .\n"
     ]
    }
   ],
   "source": [
    "print(\"The word that contributes the most positively to being a tweet announcing a road closure is\", \n",
    "      \"'\",df_merged.index[0],\"'\", \"followed by\", \n",
    "      \"'\",df_merged.index[1],\"'\", \"and\",\n",
    "      \"'\",df_merged.index[2],\"'\",\".\")\n",
    "\n",
    "print(\"-----------------------------------\")\n",
    "\n",
    "print(\"The word that contributes the most positively to being a tweet announcing a NON-road closure is\", \n",
    "      \"'\",df_merged.index[-1],\"'\", \"followed by\", \n",
    "      \"'\",df_merged.index[-2],\"'\", \"and\",\n",
    "      \"'\",df_merged.index[-3],\"'\",\".\")"
   ]
  },
  {
   "cell_type": "code",
   "execution_count": 147,
   "metadata": {},
   "outputs": [
    {
     "data": {
      "text/html": [
       "<div>\n",
       "<style scoped>\n",
       "    .dataframe tbody tr th:only-of-type {\n",
       "        vertical-align: middle;\n",
       "    }\n",
       "\n",
       "    .dataframe tbody tr th {\n",
       "        vertical-align: top;\n",
       "    }\n",
       "\n",
       "    .dataframe thead th {\n",
       "        text-align: right;\n",
       "    }\n",
       "</style>\n",
       "<table border=\"1\" class=\"dataframe\">\n",
       "  <thead>\n",
       "    <tr style=\"text-align: right;\">\n",
       "      <th></th>\n",
       "      <th>penalized_regression_coefficients</th>\n",
       "      <th>exp</th>\n",
       "    </tr>\n",
       "  </thead>\n",
       "  <tbody>\n",
       "    <tr>\n",
       "      <th>closed</th>\n",
       "      <td>6.244</td>\n",
       "      <td>514.914053</td>\n",
       "    </tr>\n",
       "    <tr>\n",
       "      <th>no</th>\n",
       "      <td>2.450</td>\n",
       "      <td>11.588347</td>\n",
       "    </tr>\n",
       "    <tr>\n",
       "      <th>travel</th>\n",
       "      <td>1.624</td>\n",
       "      <td>5.073343</td>\n",
       "    </tr>\n",
       "    <tr>\n",
       "      <th>advised</th>\n",
       "      <td>1.044</td>\n",
       "      <td>2.840557</td>\n",
       "    </tr>\n",
       "    <tr>\n",
       "      <th>counties</th>\n",
       "      <td>0.652</td>\n",
       "      <td>1.919376</td>\n",
       "    </tr>\n",
       "    <tr>\n",
       "      <th>flooding</th>\n",
       "      <td>0.607</td>\n",
       "      <td>1.834918</td>\n",
       "    </tr>\n",
       "    <tr>\n",
       "      <th>ramp</th>\n",
       "      <td>0.525</td>\n",
       "      <td>1.690459</td>\n",
       "    </tr>\n",
       "    <tr>\n",
       "      <th>advisories</th>\n",
       "      <td>0.516</td>\n",
       "      <td>1.675313</td>\n",
       "    </tr>\n",
       "    <tr>\n",
       "      <th>am</th>\n",
       "      <td>0.484</td>\n",
       "      <td>1.622552</td>\n",
       "    </tr>\n",
       "    <tr>\n",
       "      <th>advisory</th>\n",
       "      <td>0.483</td>\n",
       "      <td>1.620930</td>\n",
       "    </tr>\n",
       "  </tbody>\n",
       "</table>\n",
       "</div>"
      ],
      "text/plain": [
       "            penalized_regression_coefficients         exp\n",
       "closed                                  6.244  514.914053\n",
       "no                                      2.450   11.588347\n",
       "travel                                  1.624    5.073343\n",
       "advised                                 1.044    2.840557\n",
       "counties                                0.652    1.919376\n",
       "flooding                                0.607    1.834918\n",
       "ramp                                    0.525    1.690459\n",
       "advisories                              0.516    1.675313\n",
       "am                                      0.484    1.622552\n",
       "advisory                                0.483    1.620930"
      ]
     },
     "execution_count": 147,
     "metadata": {},
     "output_type": "execute_result"
    }
   ],
   "source": [
    "# Show coefficients that affect tweets announcing road closures\n",
    "df_merged_head = df_merged.head(10)\n",
    "exp = df_merged_head['penalized_regression_coefficients'].apply(lambda x: np.exp(x))\n",
    "df_merged_head.insert(1, 'exp', exp)\n",
    "df_merged_head.sort_values('exp', ascending=False)"
   ]
  },
  {
   "cell_type": "code",
   "execution_count": 148,
   "metadata": {},
   "outputs": [
    {
     "name": "stdout",
     "output_type": "stream",
     "text": [
      "As occurences of ' closed ' increase by 1 in a tweet, that tweet is 514.91 times as likely to be classified as a road closure.\n"
     ]
    }
   ],
   "source": [
    "print(\"As occurences of\", \"'\",df_merged_head.index[0],\"'\", \"increase by 1 in a tweet, that tweet is\", \n",
    "      round(df_merged_head['exp'][0],2), \"times as likely to be classified as a road closure.\")"
   ]
  },
  {
   "cell_type": "code",
   "execution_count": 149,
   "metadata": {},
   "outputs": [
    {
     "data": {
      "text/html": [
       "<div>\n",
       "<style scoped>\n",
       "    .dataframe tbody tr th:only-of-type {\n",
       "        vertical-align: middle;\n",
       "    }\n",
       "\n",
       "    .dataframe tbody tr th {\n",
       "        vertical-align: top;\n",
       "    }\n",
       "\n",
       "    .dataframe thead th {\n",
       "        text-align: right;\n",
       "    }\n",
       "</style>\n",
       "<table border=\"1\" class=\"dataframe\">\n",
       "  <thead>\n",
       "    <tr style=\"text-align: right;\">\n",
       "      <th></th>\n",
       "      <th>penalized_regression_coefficients</th>\n",
       "      <th>exp</th>\n",
       "    </tr>\n",
       "  </thead>\n",
       "  <tbody>\n",
       "    <tr>\n",
       "      <th>open</th>\n",
       "      <td>-1.779</td>\n",
       "      <td>5.923930</td>\n",
       "    </tr>\n",
       "    <tr>\n",
       "      <th>southeast</th>\n",
       "      <td>-0.736</td>\n",
       "      <td>2.087569</td>\n",
       "    </tr>\n",
       "    <tr>\n",
       "      <th>reopen</th>\n",
       "      <td>-0.717</td>\n",
       "      <td>2.048279</td>\n",
       "    </tr>\n",
       "    <tr>\n",
       "      <th>lifted</th>\n",
       "      <td>-0.714</td>\n",
       "      <td>2.042144</td>\n",
       "    </tr>\n",
       "    <tr>\n",
       "      <th>24</th>\n",
       "      <td>-0.554</td>\n",
       "      <td>1.740200</td>\n",
       "    </tr>\n",
       "    <tr>\n",
       "      <th>gl</th>\n",
       "      <td>-0.547</td>\n",
       "      <td>1.728061</td>\n",
       "    </tr>\n",
       "    <tr>\n",
       "      <th>goo</th>\n",
       "      <td>-0.547</td>\n",
       "      <td>1.728061</td>\n",
       "    </tr>\n",
       "    <tr>\n",
       "      <th>you</th>\n",
       "      <td>-0.543</td>\n",
       "      <td>1.721163</td>\n",
       "    </tr>\n",
       "    <tr>\n",
       "      <th>minutes</th>\n",
       "      <td>-0.526</td>\n",
       "      <td>1.692150</td>\n",
       "    </tr>\n",
       "    <tr>\n",
       "      <th>clearwater</th>\n",
       "      <td>-0.488</td>\n",
       "      <td>1.629055</td>\n",
       "    </tr>\n",
       "  </tbody>\n",
       "</table>\n",
       "</div>"
      ],
      "text/plain": [
       "            penalized_regression_coefficients       exp\n",
       "open                                   -1.779  5.923930\n",
       "southeast                              -0.736  2.087569\n",
       "reopen                                 -0.717  2.048279\n",
       "lifted                                 -0.714  2.042144\n",
       "24                                     -0.554  1.740200\n",
       "gl                                     -0.547  1.728061\n",
       "goo                                    -0.547  1.728061\n",
       "you                                    -0.543  1.721163\n",
       "minutes                                -0.526  1.692150\n",
       "clearwater                             -0.488  1.629055"
      ]
     },
     "execution_count": 149,
     "metadata": {},
     "output_type": "execute_result"
    }
   ],
   "source": [
    "# Show coefficients that affect tweets announcing non-road closures\n",
    "df_merged_tail = df_merged.tail(10)\n",
    "exp = df_merged_tail['penalized_regression_coefficients'].apply(lambda x: np.exp(x * -1))\n",
    "df_merged_tail.insert(1, 'exp', exp)\n",
    "df_merged_tail.sort_values('exp', ascending=False)"
   ]
  },
  {
   "cell_type": "code",
   "execution_count": 150,
   "metadata": {},
   "outputs": [
    {
     "name": "stdout",
     "output_type": "stream",
     "text": [
      "As occurences of ' open ' increase by 1 in a tweet, that tweet is 5.92 times as likely to be classified as a NON road closure.\n"
     ]
    }
   ],
   "source": [
    "print(\"As occurences of\", \"'\",df_merged_tail.index[-1],\"'\", \"increase by 1 in a tweet, that tweet is\", \n",
    "      round(df_merged_tail['exp'][-1],2), \"times as likely to be classified as a NON road closure.\")"
   ]
  },
  {
   "cell_type": "markdown",
   "metadata": {},
   "source": [
    "# Run the model on unseen data"
   ]
  },
  {
   "cell_type": "code",
   "execution_count": 151,
   "metadata": {
    "scrolled": true
   },
   "outputs": [
    {
     "name": "stdout",
     "output_type": "stream",
     "text": [
      "(126, 1)\n"
     ]
    },
    {
     "data": {
      "text/html": [
       "<div>\n",
       "<style scoped>\n",
       "    .dataframe tbody tr th:only-of-type {\n",
       "        vertical-align: middle;\n",
       "    }\n",
       "\n",
       "    .dataframe tbody tr th {\n",
       "        vertical-align: top;\n",
       "    }\n",
       "\n",
       "    .dataframe thead th {\n",
       "        text-align: right;\n",
       "    }\n",
       "</style>\n",
       "<table border=\"1\" class=\"dataframe\">\n",
       "  <thead>\n",
       "    <tr style=\"text-align: right;\">\n",
       "      <th></th>\n",
       "      <th>text</th>\n",
       "    </tr>\n",
       "  </thead>\n",
       "  <tbody>\n",
       "    <tr>\n",
       "      <th>0</th>\n",
       "      <td>Congrats to our ‘Safe Routes to School’ grant ...</td>\n",
       "    </tr>\n",
       "    <tr>\n",
       "      <th>1</th>\n",
       "      <td>@MnDOTcentral thanks all our 'Adopt a Highway ...</td>\n",
       "    </tr>\n",
       "    <tr>\n",
       "      <th>2</th>\n",
       "      <td>Hwy 55 roadwork and DETOUR between Annandale a...</td>\n",
       "    </tr>\n",
       "    <tr>\n",
       "      <th>3</th>\n",
       "      <td>Hwy 27 Little Falls: DETOUR and construction b...</td>\n",
       "    </tr>\n",
       "    <tr>\n",
       "      <th>4</th>\n",
       "      <td>Join us in BRAHAM: Construction Open House for...</td>\n",
       "    </tr>\n",
       "  </tbody>\n",
       "</table>\n",
       "</div>"
      ],
      "text/plain": [
       "                                                text\n",
       "0  Congrats to our ‘Safe Routes to School’ grant ...\n",
       "1  @MnDOTcentral thanks all our 'Adopt a Highway ...\n",
       "2  Hwy 55 roadwork and DETOUR between Annandale a...\n",
       "3  Hwy 27 Little Falls: DETOUR and construction b...\n",
       "4  Join us in BRAHAM: Construction Open House for..."
      ]
     },
     "execution_count": 151,
     "metadata": {},
     "output_type": "execute_result"
    }
   ],
   "source": [
    "# load unseen tweets\n",
    "df_mn_unseen_tweets = pd.read_csv('../data/twitter_mn_official_UNSEEN.csv')\n",
    "\n",
    "# Drop columns\n",
    "df_mn_unseen_tweets.drop(['Unnamed: 0', 'date', 'geo', 'hashtags', 'type', 'username'], axis=1, inplace=True)\n",
    "\n",
    "# print shape\n",
    "print(df_mn_unseen_tweets.shape)\n",
    "\n",
    "# show head\n",
    "df_mn_unseen_tweets.head()"
   ]
  },
  {
   "cell_type": "code",
   "execution_count": null,
   "metadata": {},
   "outputs": [],
   "source": [
    "#Instantiate the classifier and vectorizer\n",
    "lr = LogisticRegression(C = 1.0, solver='liblinear')\n",
    "cvec = CountVectorizer()\n",
    "\n",
    "# Fit and transform the vectorizor\n",
    "cvec.fit(X_train)\n",
    "\n",
    "Xcvec_train = cvec.transform(X_train)\n",
    "Xcvec_test = cvec.transform(X_test)\n",
    "\n",
    "# Fit the classifier\n",
    "lr.fit(Xcvec_train,y_train)\n",
    "\n",
    "# Create the predictions for Y training data\n",
    "lr_preds = lr.predict(Xcvec_test)\n",
    "\n",
    "print(f'Test Score: {lr.score(Xcvec_train, y_train)}')\n",
    "print(f'Test Score: {lr.score(Xcvec_test, y_test)}')"
   ]
  },
  {
   "cell_type": "code",
   "execution_count": 158,
   "metadata": {},
   "outputs": [],
   "source": [
    "#Instantiate the classifier and vectorizer\n",
    "lr = LogisticRegression(C = 1.0, solver='liblinear')\n",
    "cvec = CountVectorizer()\n",
    "\n",
    "# Fit and transform the vectorizor\n",
    "cvec.fit(X_train)\n",
    "\n",
    "Xcvec_train = cvec.transform(X_train)\n",
    "Xcvec_test = cvec.transform(df_mn_unseen_tweets['text'])\n",
    "\n",
    "# Fit the classifier\n",
    "lr.fit(Xcvec_train,y_train)\n",
    "\n",
    "# Create the predictions for Y training data\n",
    "lr_preds = lr.predict(Xcvec_test)\n",
    "\n",
    "# print(f'Test Score: {lr.score(Xcvec_train, y_train)}')\n",
    "# print(f'Test Score: {lr.score(Xcvec_test, y_test)}')"
   ]
  },
  {
   "cell_type": "code",
   "execution_count": 161,
   "metadata": {},
   "outputs": [],
   "source": [
    "df_mn_unseen_tweets['road_closures'] = lr_preds"
   ]
  },
  {
   "cell_type": "code",
   "execution_count": 163,
   "metadata": {
    "scrolled": false
   },
   "outputs": [
    {
     "name": "stdout",
     "output_type": "stream",
     "text": [
      "PREDICTION 0\n",
      "Congrats to our ‘Safe Routes to School’ grant recipients @MnDOTCentral: Rockford Area Schools; City of Pierz; City of Holdingford; City of Sauk Centre; and Walker-Hackensack-Akeley School District.https://twitter.com/MnDOTnews/status/1120392155967762432 …\n",
      "------------------------------------------\n",
      "PREDICTION 0\n",
      "@MnDOTcentral thanks all our 'Adopt a Highway volunteers' for making our roadside ditches look so clean and beautiful in central Minnesota.THANK YOU!https://twitter.com/MnDOTnews/status/1120392060576641025 …\n",
      "------------------------------------------\n",
      "PREDICTION 0\n",
      "Hwy 55 roadwork and DETOUR between Annandale and Maple Lake, @WrightCountyMN begins Monday, April 29. Plan ahead. Learn more, visit http://MnDOT.gov/d3/projects/2019/h55/ … pic.twitter.com/JjZCGKdTUA\n",
      "------------------------------------------\n",
      "PREDICTION 0\n",
      "Hwy 27 Little Falls: DETOUR and construction begins Monday, April 29. Plan ahead. #littlefallsMN #morrison Learn more, visit http://www.mndot.gov/d3/littlefalls pic.twitter.com/fQppCB5Ewj\n",
      "------------------------------------------\n",
      "PREDICTION 0\n",
      "Join us in BRAHAM: Construction Open House for the Hwy 65/107 'Continuous Green' signalized intersection project. Learn how this new, safer intersection works and what to expect during roadwork. Thurs, April 25, 4-6 p.m. (arrive anytime), Braham City Hall. http://MnDOT.gov/d3/projects/braham …pic.twitter.com/DADqeRCnwg\n",
      "------------------------------------------\n",
      "PREDICTION 0\n",
      "#MotherNature is giving away free car washes today! #woohoo #rainyday #mndot #rochmnpic.twitter.com/pQCqR6EdEY\n",
      "------------------------------------------\n",
      "PREDICTION 1\n",
      "A reminder that Hwy 60 at Hwy 61 in Wabasha is closed and detoured. Check http://www.511mn.org for road updates on flooding, construction. #knowbeforeyougo #MnDOT #wabashamnpic.twitter.com/l4b9mYvii5\n",
      "------------------------------------------\n",
      "PREDICTION 1\n",
      "Hwy 60 at Wabasha at railroad bridge near Hwy 61 is closed because of high water on the road. #floodrun #MnDOT Follow detourpic.twitter.com/yGeifni5jc\n",
      "------------------------------------------\n",
      "PREDICTION 0\n",
      "Heavy rain has flooded roadways in #NorthfieldMN and Dundas. 3-4\" of rain has fallen in the area in a short period of time. The @NWSTwinCities has issued a Flash #Flood Warning until 3 pm. Turn around, don`t drown. Most flood deaths occur in vehicles. #mnwx #MnDOTpic.twitter.com/nMr6JAQpOA\n",
      "------------------------------------------\n",
      "PREDICTION 0\n",
      "Stop by on Thursday evening, learn about construction and the detour on Hwy 57 this summer. Open house April 18 for Hwy 57 bridge replacements north of #Mantorville, Berne. #MnDOThttp://www.dot.state.mn.us/d6/newsrels/19/04/2-hwy57-openhouse.html …\n",
      "------------------------------------------\n",
      "PREDICTION 0\n",
      "Intermittent overnight Hwy 61 traffic delays planned tonight, April 16 near Red Wing Bridge to move equipment.http://www.dot.state.mn.us/d6/newsrels/19/04/16-hwy61.html …\n",
      "------------------------------------------\n",
      "PREDICTION 0\n",
      "Folks who live, work and play along Highway 61 can find out more about this summer's construction work at an open house, April 24th. To learn more about the project or sign up for construction emails go to https://bit.ly/2GjzyMX #mndot #wabasha #lakecitymn #MississippiRiverpic.twitter.com/EtXRC0apaK\n",
      "------------------------------------------\n",
      "PREDICTION 0\n",
      "Work continues on the Red Wing Bridge. What does it take to put a span from the Red Wing side to Pier 1? Watch the accelerated view in this time lapse. Note all of our season's snow, too! #MnDOT #RedWingMNhttps://www.youtube.com/watch?v=GBdUxy0Yfa4&feature= …\n",
      "------------------------------------------\n",
      "PREDICTION 0\n",
      "In 2018, volunteers picked up nearly 36,000 bags of litter and cleaned up almost 9,000 miles of roadways. THANK YOU to all those who helped make Minnesota cleaner! If you'd like to help this year visit http://www.dot.state.mn.us/adopt/ for more information. #mndot #rochmnpic.twitter.com/NMUnqd1IiP\n",
      "------------------------------------------\n",
      "PREDICTION 0\n",
      "In SE Minnesota 595 groups participate in cleaning state highways in 11 counties. We have 63 segments still available. Interested SE Minnesota groups may call 507-286-7508 to inquire. #MNDOT #adoptahighwayhttps://twitter.com/MnDOTnews/status/1117814566723911680 …\n",
      "------------------------------------------\n",
      "PREDICTION 0\n",
      "#Flood waters have receded enough to open up Highway 60 in #Wabasha #MnDOT crews are cleaning off the debris and will open it soon.pic.twitter.com/CnjDUt8CRb\n",
      "------------------------------------------\n",
      "PREDICTION 1\n",
      "Starting today, I-94 from Hwy 29 to 114 is reduced to one lane in both directions. Eastbound lanes are closed until September as crews complete resurfacing & replace the eastbound Lake Latoka Bridge. Lake Latoka Rest Area is also closed for the summer. http://mndot.gov/d4/projects/i94eastbound …pic.twitter.com/op2wlxsyxc\n",
      "------------------------------------------\n",
      "PREDICTION 0\n",
      "We'll be in Elbow Lake this Wednesday, April 24, 4:30-6:30 p.m., at the Grant Co Office Building to talk about this year's construction project on Hwys 55, 59 and 79. Join us any time to learn more about the project/schedule. http://mndot.gov/d4/projects/elbowlake …pic.twitter.com/rJu3VY9IRL\n",
      "------------------------------------------\n",
      "PREDICTION 0\n",
      "Mark Welling funeral. Our hearts go out to the Welling family. Mark will be greatly missed!pic.twitter.com/tY2aQo21N7\n",
      "------------------------------------------\n",
      "PREDICTION 0\n",
      "Join us next Saturday, April 27 from 9 a.m. to noon, at the MnDOT Open House, 1000 Highway 10 W, Detroit Lakes! This is a free event for the public to check out the tools, equipment, technology, jobs and careers that help MnDOT serve Minnesota motorists each day. See you there!pic.twitter.com/b6JqvVQSY3\n",
      "------------------------------------------\n",
      "PREDICTION 1\n",
      "At 6 p.m., U.S. Hwy 12 east of Ortonville from the Hwy 75/7 intersection to Co Rd 23 will be closed due to flooding. Traffic will be routed to Co Rd 23 and Hwy 7 until the water recedes and the road is reopened. It is illegal to travel on a closed road. http://511mn.org pic.twitter.com/aeiAtHqYUq\n",
      "------------------------------------------\n",
      "PREDICTION 0\n",
      "MnDOT is presenting on the corridor study for Hwy 27 on Tuesday, April 16, at approximately 10:00 a.m. during the 9:00 a.m. Douglas County Board meeting (Douglas County Courthouse), to provide recommendations for Hwy 27 and I-94 corridor in Alexandria.pic.twitter.com/EkfS8D3gHS\n",
      "------------------------------------------\n",
      "PREDICTION 0\n",
      "Forecasted rain during the next day could create challenges for drivers in area already hard it by last weeks rains. Slides along Hwy 169 could occur once again. Stay aware. Check http://511mn.org before you travel.https://twitter.com/nwstwincities/status/1120073535815340033 …\n",
      "------------------------------------------\n",
      "PREDICTION 0\n",
      "ROAD CLOSING SOON - Hwy 93 between Hwy 169 and Le Sueur will be closing soon. Photo below as was taken around 1:15 pm and water is continuing to rise. Check http://511mn.org for the latest traveler info.pic.twitter.com/T9D51TZRdb\n",
      "------------------------------------------\n",
      "PREDICTION 0\n",
      "We agree that the 2022 project will provide less improvement than the 3 options in the study to provide access Henderson. The study used a threshold of 1 foot over the 100 year flood elevation. The detail of each solution is detail in the report including the cost feasibility.\n",
      "------------------------------------------\n",
      "PREDICTION 0\n",
      "Until then we will continue to look for the most effective way to get traffic back on Hwy 93 and/or 19 as conditions evolve when water recedes. We will continue to share status updates on social media and in the Henderson Independent.\n",
      "------------------------------------------\n",
      "PREDICTION 0\n",
      "We are looking at potential things that we can do as a part of a pavement project on Hwy 93 in 2022. Our desire would be to make slight vertical road & drainage adjustments that would keep the road open until the flood wall needs to be installed to protect Henderson.\n",
      "------------------------------------------\n",
      "PREDICTION 0\n",
      "We understand the frustration felt by those impacted by this challenging spring. In 2017 we completed a study (w/ Sibley and Le Sueur Co and City of Henderson) of potential mitigation options. Here is a link. http://www.dot.state.mn.us/d7/projects/hwy19study/ …\n",
      "------------------------------------------\n",
      "PREDICTION 0\n",
      "SB 169 St Peter to Mankato is now open!!\n",
      "------------------------------------------\n",
      "PREDICTION 0\n",
      "Southbound Hwy 169 Mankato to St. Peter to open by 7 p.m. today.\n",
      "------------------------------------------\n",
      "PREDICTION 0\n",
      "Heads up - SB Hwy 169 Mankato to St. Peter will NOT OPEN in time for afternoon commute. Crews are hard at it, but removing all the debris from the multiple mudslides is slow going. Please, for everyone's safety - stay off southbound lanes.\n",
      "------------------------------------------\n",
      "PREDICTION 0\n",
      "Here we go again... the Rush River is now overtopping Hwy 93 S of Henderson. Minnesota River is rising and beginning to encroach at Bucks Lake and near Henderson. Henderson will be reinstalling their flood wall this evening.pic.twitter.com/93nyNKi3p9\n",
      "------------------------------------------\n",
      "PREDICTION 0\n",
      "Learning to stop the bleed at Toward Zero Deaths workshop for traffic safety folks today in Mankato.pic.twitter.com/7LcetP7i1Z\n",
      "------------------------------------------\n",
      "PREDICTION 0\n",
      "You are correct. Hwy 93 from Hwy 169 to Le Sueur is at risk for overtopping.\n",
      "------------------------------------------\n",
      "PREDICTION 0\n",
      "In south central Minnesota, MnDOT is monitoring closely the Minnesota River at Hwy 19 at Le Sueur and Hwy 99 at St. Peter. Heads up for potential closures, Check http://511mn.org https://twitter.com/MnDPS_HSEM/status/1118881229846319106 …\n",
      "------------------------------------------\n",
      "PREDICTION 1\n",
      "SB Hwy 169 Mankato & St. Peter will remain CLOSED for most of the day as crews clean and haul debris from mudslides that continued thru the night. Traffic detoured to Hwy 22. NB Hwy 169 is open. Check travel conditions on http://511mn.org before you go!pic.twitter.com/Z50j0kPePu\n",
      "------------------------------------------\n",
      "PREDICTION 1\n",
      "SB Hwy 169 St. Peter to Mankato - to remain closed overnight due to continuing mudslides. NB Hwy 169 St. Peter to Mankato - expected to remain open; travel with caution. Use Hwy 22 as alternate route.\n",
      "------------------------------------------\n",
      "PREDICTION 0\n",
      "Hwy 86 expected to open within the next hour.https://twitter.com/mndotscentral/status/1118179316280561665 …\n",
      "------------------------------------------\n",
      "PREDICTION 0\n",
      "We are experiencing periodic closures of northbound lanes. Sometimes both of them to clear debris.https://twitter.com/Mankatonews/status/1118583914937966592 …\n",
      "------------------------------------------\n",
      "PREDICTION 1\n",
      "Travel Alert ROAD CLOSED Hwy 112 at 311th Ave S of LeSueur. Water over the road.pic.twitter.com/W7hT1pKvVN\n",
      "------------------------------------------\n",
      "PREDICTION 0\n",
      "Turn around, don't drowned! In addition to mudslides along Hwy 169, we have water over the road on Hwy 112 by Le Sueur.https://twitter.com/NWSTwinCities/status/1118564108952068106 …\n",
      "------------------------------------------\n",
      "PREDICTION 0\n",
      "Hwy 169 south of St. Peter - mudslide situation is not improving, crews continue to clear mud, rocks and trees as the slides continue. Find alternate route!pic.twitter.com/kvSve9NqTO\n",
      "------------------------------------------\n",
      "PREDICTION 0\n",
      "Hwy 22 would be alternate routehttps://twitter.com/mndotscentral/status/1118547845592879107 …\n",
      "------------------------------------------\n",
      "PREDICTION 0\n",
      "Hwy 169southbound south of St. Peter - BLOCKED - due to mudslides and traffic. Please find alternate route!!!!\n",
      "------------------------------------------\n",
      "PREDICTION 0\n",
      "Also a mudslide on Hwy 169 just south of St. Peter. Caution advised.https://twitter.com/NWSTwinCities/status/1118536350922354688 …\n",
      "------------------------------------------\n",
      "PREDICTION 0\n",
      "Hwy 169 southbound - south of St. Peter - watch out for mud and rock slide - expect a lane closure.\n",
      "------------------------------------------\n",
      "PREDICTION 0\n",
      "Hwy 22 Victory Drive Memorial Project (Mankato to Mapleton) starts with staking today and planting in May. Much more at http://www.dot.state.mn.us/d7/projects/hwy22mapleton/victorydrive.html …pic.twitter.com/GafvaLpnEK\n",
      "------------------------------------------\n",
      "PREDICTION 0\n",
      "Hwy 60 Heron Lake - intersection safety project to begin April 29 with lane restrictions and speed reductions. More at http://www.dot.state.mn.us/d7/projects/hwy60heronlake/ …pic.twitter.com/qgOPxNDwzK\n",
      "------------------------------------------\n",
      "PREDICTION 0\n",
      "Hwy 86 north of Lakefield detoured for utility work until Thursday.pic.twitter.com/PkcDL1ban7\n",
      "------------------------------------------\n",
      "PREDICTION 0\n",
      "Excellent story - kudos to Mark!https://twitter.com/Mankatonews/status/1117830716958498816 …\n",
      "------------------------------------------\n",
      "PREDICTION 0\n",
      "Call Heidi at 507-304-6117 if you want to volunteer in south central Minnesota. We have 97 segments available - many along I-90.https://twitter.com/MnDOTnews/status/1117831305532792834 …\n",
      "------------------------------------------\n",
      "PREDICTION 0\n",
      "Hwy 75 is now open north of Climax, which means it is driveable all the way through NW MN. Water remains on the road surface, so remain cautious. Check http://www.511mn.org for the latest road conditions.pic.twitter.com/nJbbAchn8W\n",
      "------------------------------------------\n",
      "PREDICTION 1\n",
      "Water has gone down around Halstad and Hwy 75 has been reopened (in both directions). Hwy's that remain closed: - Hwy 1 around Oslo - Hwy 2B Sorlie Bridge in EGF - Hwy 75 north of Climax - Hwy 175 west of Hallock - Hwy 220 north of Oslo - Hwy 317\n",
      "------------------------------------------\n",
      "PREDICTION 0\n",
      "Still staring/glaring at high water levels on Hwy 220 north of Oslo.pic.twitter.com/eJ2k8BUCM4\n",
      "------------------------------------------\n",
      "PREDICTION 0\n",
      "High water still causing closures in NW Mn: Hwy 1 east and west of Oslo Hwy 2B Sorlie Bridge in EGF Hwy 75 north of Halstad Hwy 75 south of Halstad Hwy 75 north of Climax Hwy 75 north of Noyes Hwy 175 west of Hallock Hwy 220 north of Oslo Hwy 317 west of Hwy 220pic.twitter.com/qkuAaoWEvj\n",
      "------------------------------------------\n",
      "PREDICTION 0\n",
      "Keep those headlights on today. They're required by law when it's raining. Remember: Wipers on, lights on. #HeadlightsOnpic.twitter.com/Xcqg3MU3qP\n",
      "------------------------------------------\n",
      "PREDICTION 0\n",
      "Keep those headlights on today. They're required by law when it's raining -- and today will be soggy. Remember: Wipers on, lights on. #HeadlightsOnpic.twitter.com/ayPY2fHGl3\n",
      "------------------------------------------\n",
      "PREDICTION 0\n",
      "#BackseatTweets is back Tuesday from 4-7 p.m. Join us right here as Lt. Gordon Shank looks for distracted drivers in the metro area. #JustDrive #DistractedDrivingpic.twitter.com/cVAiDP95E2\n",
      "------------------------------------------\n",
      "PREDICTION 0\n",
      "Keep those headlights on today. They're required by law when it's raining -- and today will be soggy. Remember: Wipers on, lights on. #HeadlightsOnpic.twitter.com/PX0u9Vnmjg\n",
      "------------------------------------------\n",
      "PREDICTION 0\n",
      "Lt. Gordon Shank has a nose for drunk drivers. On Tuesday, we’ll see if he can track down distracted motorists. Backseat Tweets is back from 4-7 p.m. tomorrow. Be sure to follow along! #BackseatTweets #JustDrive #DistractedDrivingpic.twitter.com/BvUMrmZZXb\n",
      "------------------------------------------\n",
      "PREDICTION 0\n",
      "Having a cell phone tucked into a head scarf is not against the hands-free law. The phone must be securely situated to remain hands-free and not blocking the driver’s vision. It would be against the new law is if the driver removes the phone and holds it to use in traffic.\n",
      "------------------------------------------\n",
      "PREDICTION 0\n",
      "Keep those headlights on today. They're required by law when it's raining -- and today will be soggy. Remember: Wipers on, lights on. #HeadlightsOnpic.twitter.com/mbjPS35S1B\n",
      "------------------------------------------\n",
      "PREDICTION 0\n",
      "Keep those headlights on today. They're required by law when it's raining -- and it sounds like today will be soggy. Remember: Wipers on, lights on. #HeadlightsOnpic.twitter.com/hR23AthBD3\n",
      "------------------------------------------\n",
      "PREDICTION 0\n",
      "Keep those headlights on today. They're required by law when it's raining -- and it sounds like today will be soggy. Remember: Wipers on, lights on. #HeadlightsOnpic.twitter.com/QOb14y3TV3\n",
      "------------------------------------------\n",
      "PREDICTION 0\n",
      "We’ll be joining law enforcement officials in the Moorhead area today and next Monday looking for distracted drivers. Distracted driving stops with you! Put away the distractions and just drive.https://twitter.com/ValleyNewsLive/status/1119240522319765504 …\n",
      "------------------------------------------\n",
      "PREDICTION 0\n",
      "Losing an officer in the line of duty is heartbreaking. We are thinking about the family, friends and partners of @mndnr Conservation Officer Eugene Wynn, who died last night during a search-and-rescue mission on Cross Lake near Pine City. May he rest in peace.\n",
      "------------------------------------------\n",
      "PREDICTION 0\n",
      "Matt Boeve will live the rest of his life without his soulmate. And a man’s decision to drive distracted is to blame. Stop driving distracted before it stops you — or someone you love. Extra distracted driving enforcement continues through the end of the month. #JustDrivepic.twitter.com/jIeV3pBHXV\n",
      "------------------------------------------\n",
      "PREDICTION 0\n",
      "Trooper does \"a double take\" after seeing a male motorcyclist ride by him in Virginia looking at his phone on his lap. Trooper stops motorcyclist, who says he was looking on his maps for a hotel. Citation issued. Extra distracted enforcement continues on MN roads. #JustDrive\n",
      "------------------------------------------\n",
      "PREDICTION 0\n",
      "Col. Matt Langer says the new hands-free law that goes into effect Aug. 1 is about all the doors law enforcement won’t need to knock on to deliver devastating news. Don’t wait until Aug. 1. You can go hands-free today. Learn how at http://HandsFreeMN.org . #HandsFreeMNpic.twitter.com/p8VCf0OH0w\n",
      "------------------------------------------\n",
      "PREDICTION 0\n",
      "A trooper stopped a commercial vehicle Thursday on I-94 near Fergus Falls after seeing the driver holding a phone & weaving across lane lines. There were Snapchat messages incoming on the phone while the trooper spoke w/the 29-year-old. Citation & warnings issued. #JustDrive\n",
      "------------------------------------------\n",
      "PREDICTION 0\n",
      "The first ticket is $50 plus court fees and the second and later tickets are $275 plus court fees. If a driver injures or kills someone because of texting and driving, they can face a felony charge of criminal vehicular operation or homicide.\n",
      "------------------------------------------\n",
      "PREDICTION 0\n",
      "You're welcome!\n",
      "------------------------------------------\n",
      "PREDICTION 0\n",
      "Troopers joined Officer Judy Hopps and McGruff the Crime Dog last week as they visited kids at @UMNChildrens and the @shrinershosp. Their visit was part of our #BearsThatCare program. https://www.bearsthatcaremn.org/ pic.twitter.com/SZp0GydfMA\n",
      "------------------------------------------\n",
      "PREDICTION 0\n",
      "WATCH: We take you behind the scenes at our metro dispatch center as we continue to celebrate our dispatchers during National Telecommunicators Week. #NTW #IAm911 #FirstFirstResponders #StatePatrolDispatchershttps://youtu.be/tOsmd_JgUpk\n",
      "------------------------------------------\n",
      "PREDICTION 0\n",
      "The new law allows a driver to use their cell phone to make calls, text, listen to music or podcasts and get directions, but only by voice commands or single touch activation without holding the phone.\n",
      "------------------------------------------\n",
      "PREDICTION 0\n",
      "It goes into effect. Aug. 1, 2019.\n",
      "------------------------------------------\n",
      "PREDICTION 0\n",
      "The new law allows a driver to use their cell phone to make calls, text, listen to music or podcasts and get directions, but only by voice commands or single touch activation without holding the phone.\n",
      "------------------------------------------\n",
      "PREDICTION 0\n",
      "You may access music on your phone by voice commands or single touch activation without holding the phone.\n",
      "------------------------------------------\n",
      "PREDICTION 0\n",
      "The first ticket is $50 plus court fees and the second and later tickets are $275 plus court fees. If a driver injures or kills someone because of texting and driving, they can face a felony charge of criminal vehicular operation or homicide.\n",
      "------------------------------------------\n",
      "PREDICTION 0\n",
      "As extra distracted driving enforcement continues through April 30, Lt. Gordon Shank encourages motorists to put away the distractions and #JustDrive. Minnesota goes hands-free Aug. 1. But you can start today. Learn more at http://HandsFreeMN.org . #HandsFreeMNpic.twitter.com/kJ9DyITXbM\n",
      "------------------------------------------\n",
      "PREDICTION 0\n",
      "Speeding = bad idea. Texting while driving = bad idea. Doing both at the same time? Terrible idea. A trooper cited a 24-year-old male Tuesday on Interstate 35 south of Sandstone after observing her texting will driving 80+ mph. #JustDrive\n",
      "------------------------------------------\n",
      "PREDICTION 0\n",
      "We’ve said it before and we’ll say it again: Accessing the internet at a stoplight is ILLEGAL. A trooper cited a 20-year-old male Tuesday in Andover for watching a YouTube video at a red light. Extra distracted driving enforcement continues through April 30. #JustDrive\n",
      "------------------------------------------\n",
      "PREDICTION 0\n",
      "RT @MnDPS_DPS: Move over, screen time: Teen drivers and parents need windshield time. Learn more in our latest #DPSblog: http://ow.ly/vaY530oriF7 pic.twitter.com/Pm49WNUOR1\n",
      "------------------------------------------\n",
      "PREDICTION 0\n",
      "Drive distraction free and speak up if you see your friends or anyone else distracted behind the wheel. Extra distracted driving enforcement is on Minnesota roads through April 30. Remember, the hands-free law goes into effect Aug. 1. More: http://handsfreemn.org #HandsFreeMNpic.twitter.com/2X9lTNuVL6\n",
      "------------------------------------------\n",
      "PREDICTION 0\n",
      "We are proud to work with some of the best first first responders in the business. This is National Telecommunicators Week. A huge thank you to our State Patrol dispatchers and the hard work they do every day! #StatePatrolDispatchers #NPSTW #FirstFirstResponderspic.twitter.com/cYx4waQQAZ\n",
      "------------------------------------------\n",
      "PREDICTION 0\n",
      "Trooper cited a female driver who was looking down at her phone on Interstate 35 in Forest Lake and rear-ended a full-sized pickup truck stopped for a red light. 300+ law enforcement agencies looking for distracted drivers through April 30. #JustDrive\n",
      "------------------------------------------\n",
      "PREDICTION 0\n",
      "Trooper cited at 27-year-old male on University Avenue who was taking photos of a crash the trooper was responding to. Put away the distractions and #JustDrive.\n",
      "------------------------------------------\n",
      "PREDICTION 0\n",
      "Trooper cited a 46-year-old at 394/169 after he drove around the trooper’s squad (flashing lights and all) blocking a ramp for a jackknifed semi. Driver was watching a video. Drive time is not down time. Stop driving distracted before it stops you or someone you love. #JustDrive\n",
      "------------------------------------------\n",
      "PREDICTION 0\n",
      "“Lives won’t be saved by writing tickets but by drivers not even considering picking up their phones.” More about the new law and what it means for you when it goes into effect Aug. 1: http://handsfreemn.org/ #HandsFreeMNhttps://twitter.com/PioneerPress/status/1117781367666900992 …\n",
      "------------------------------------------\n",
      "PREDICTION 0\n",
      "You can learn more at http://handsfreemn.org .\n",
      "------------------------------------------\n",
      "PREDICTION 0\n",
      "Please join us tomorrow for the Hwy 47 St. Francis Public Open House/Listening Session from 4:30 – 7:30 pm at the First Baptist Church in St. Francis. Attendees are welcome to come and go at any time and may view a presentation at 5 p.m. or 6:30 p.m. http://mndot.gov/metro/projects/hwy47stfrancis …pic.twitter.com/bP4vj9BR4V\n",
      "------------------------------------------\n",
      "PREDICTION 0\n",
      "[News] MnDOT awards $2.3 million in Safe Routes to School grantshttp://mndot.gov/newsrels/19/04/22-saferoutes.html …\n",
      "------------------------------------------\n",
      "PREDICTION 0\n",
      "MnDOT's Adopt a Highway program has more than 3,500 volunteer groups that spent 282,000 hours picking up 36,000 bags of litter from state roadways last year. Learn more: http://mndot.gov/adopt pic.twitter.com/aLEkhX3fJB\n",
      "------------------------------------------\n",
      "PREDICTION 0\n",
      "We might be biased, but we think Minnesota is one of the most beautiful places on Earth. #EarthDay2019 Help us keep it that way by covering and/or securing anything you're hauling. Not only is trash along our roadsides unsightly, but litter also impacts natural habitats.pic.twitter.com/oBOqKCCjGB\n",
      "------------------------------------------\n",
      "PREDICTION 1\n",
      "Annapolis St in West St Paul: Annapolis St is closed to thru traffic btwn Smith Ave and Cherokee Heights Blvd until late May. http://mndot.gov/metro/projects/hwy149highbridge …\n",
      "------------------------------------------\n",
      "PREDICTION 0\n",
      "Hi there, the city of Minneapolis' government ( @CityMinneapolis) oversees the scooters in the city, not MnDOT. More info:https://twitter.com/CityMinneapolis/status/1120345088385699840 …\n",
      "------------------------------------------\n",
      "PREDICTION 0\n",
      "Hi there, we are resurfacing westbound I-90. The project will be broken into 3 stages. We are in stages 1 & 2 right now. Detour maps: http://www.dot.state.mn.us/d6/projects/i90-concreteoverlay/documents.html … http://511mn.org will also have more info as we get closer to the closure.\n",
      "------------------------------------------\n",
      "PREDICTION 0\n",
      "Hi, the city government [ @CityMinneapolis] oversees city streets and the scooters who use them. (MnDOT oversees state highways and interstates) It looks like Minneapolis reauthorized a one-year electric scooter pilot: http://www.minneapolismn.gov/publicworks/trans/WCMSP-212816 …\n",
      "------------------------------------------\n",
      "PREDICTION 0\n",
      "See and be seen—headlights on today!pic.twitter.com/wpZNd5y3Ic\n",
      "------------------------------------------\n",
      "PREDICTION 0\n",
      "If you would like more info or to talk to MnDOT project staff, you can reach out to Dave Aeikens at david.aeikens@state.mn.us or 651-234-7511.\n",
      "------------------------------------------\n",
      "PREDICTION 0\n",
      "Hello, thank you for bringing the issue to our attention. We apologize for the situation this morning, it did not follow MnDOT's protocol for lane (including bike lane) closures. We have made sure our crew, engineers and contractors were addressed on the issue.\n",
      "------------------------------------------\n",
      "PREDICTION 0\n",
      "10 students from @BlaineHS and 9 students from @MPS_Wellstone toured the 35W@94 project site as a part of the WTS Transportation YOU mentoring program. The program works to spark interest in all modes of transportation. Full story: http://blog.35wat94.com/wts-transportation-you-program-visits-35w-94 …pic.twitter.com/9d6JcNCcIy\n",
      "------------------------------------------\n",
      "PREDICTION 0\n",
      "For all road emergencies, including debris, call 911 and be ready to describe it's location—road, city, near exit X/mile marker X, etc.\n",
      "------------------------------------------\n",
      "PREDICTION 0\n",
      "Hi there, thanks for reaching out. Hwy 77, from Old Shakopee Road in Bloomington to Hwy 62 in Minneapolis, is scheduled for a mill and overlay in 2022. In the meantime, we will continue to do seasonal maintenance on the road. http://mndot.gov/planning/10yearplan/index.html …\n",
      "------------------------------------------\n",
      "PREDICTION 0\n",
      "Hi Janne, traveler safety is a top priority for MnDOT. We value your feedback and would like to hear your concerns. You can reach out to our project communications coordinator, Dave Aeikens at 651-234-7511 or david.aeikens@state.mn.us.\n",
      "------------------------------------------\n",
      "PREDICTION 0\n",
      "Staying close to home or hitting the highway, don't be caught off guard by flooding or construction closures. Metro traffic impacts: http://mndot.gov/weekendtrafficimpacts … Statewide closure info: http://511mn.org pic.twitter.com/ojRmZe7nid\n",
      "------------------------------------------\n",
      "PREDICTION 0\n",
      "Staying close to home or hitting the highway, don't get caught off guard by closures due to flooding or construction. Check http://511mn.org before you head out.\n",
      "------------------------------------------\n",
      "PREDICTION 0\n",
      "Will you be traveling this weekend?\n",
      "------------------------------------------\n",
      "PREDICTION 0\n",
      "Unfortunately, yes. The closure was originally scheduled for last weekend and had to be postponed due to the weather. Delaying another week would make the project 2 weeks behind and we'd like to avoid that. We are closing Tamarack Rd. to local access so that it is a short detour.pic.twitter.com/qh2wuMlpsv\n",
      "------------------------------------------\n",
      "PREDICTION 0\n",
      "I-94 in Woodbury/Oakdale: EB I-94 at the I-94/I-494/I-694 interchange will close from 8pm tonight (4/19) until 5am Mon (4/22). Detours and more details at: http://mndot.gov/metro/projects/i94-494-694 …\n",
      "------------------------------------------\n",
      "PREDICTION 0\n",
      "That's a good question. Unfortunately, we don't have an answer for you. The Dept. of Public Safety ( @MnDPS_DPS) oversees license plates in Minnesota. http://dps.mn.gov/divisions/dvs/Pages/search-dvs.aspx?filter1=License%20Plates&filter2=Specialized%20Plates …\n",
      "------------------------------------------\n",
      "PREDICTION 0\n",
      "Hi Lee, don't worry, we have other crew members who help out with loading, etc. We don't mean to imply the ENTIRE operation is 1 person, rather, the part of the process that used to require 3 people has been simplified—meaning 2 crew members are now free to work on something else\n",
      "------------------------------------------\n",
      "PREDICTION 0\n",
      "The bags are used to help with flooding and other standard maintenance projects. More on MnDOT's maintenance research: http://mndot.gov/maintenance/research …\n",
      "------------------------------------------\n",
      "PREDICTION 0\n",
      "This spring, we're testing a sandbagging machine in NW Minnesota. The machine allows one person to do the work of three: filling, sewing & stacking each bag. The bags are filled in the shop, stacked on pallets & transported in trucks to their final destination. @mndotnorthwestpic.twitter.com/77lFF3jvdT\n",
      "------------------------------------------\n",
      "PREDICTION 0\n",
      "I-94 in Woodbury/Oakdale: EB I-94 at the I-94/I-494/I-694 interchange will close from 8pm Fri (4/19) until 5am Mon (4/22). Detours and more details at: http://mndot.gov/metro/projects/i94-494-694 …\n",
      "------------------------------------------\n",
      "PREDICTION 0\n",
      "\"Current road funding will not prevent the number of poor roads from increasing by another 100 miles in the next four years to 600 miles total.\" — @Mankatonews, 'Our View'http://mankatofreepress.com/opinion/editorials/our-view-road-funding-evidence-shows-more-highways-getting-worse/article_ea2fbe9c-6819-59ea-b23e-0e64319a74bb.html …\n",
      "------------------------------------------\n",
      "PREDICTION 0\n",
      "Mn DOT Commissioner Anderson Kelliher makes the case for more transportation funding: MnDOT commissioner: Our goal is funding that's sufficient for quality roads and bridges.http://strib.mn/2InHXmb\n",
      "------------------------------------------\n",
      "PREDICTION 0\n",
      "Sorry to hear about that, @Weldibeast – the following page has contact information and a feedback form about rest stops: http://mndot.gov/restareas/contacts.html …\n",
      "------------------------------------------\n",
      "PREDICTION 0\n",
      "Don’t forget to join us tonight at the I-94/I-494/I-694 East Metro Interchange open house from 4:30-6:30pm at Woodbury City Hall. http://mndot.gov/metro/projects/i94-494-694 …\n",
      "------------------------------------------\n",
      "PREDICTION 0\n",
      "Hwy 65 Columbia Hts to Spring Lake Park: Watch for lane closures on Hwy 65 btwn 37th Ave and Hwy 10 Mondays-Saturdays through mid-June. Workers are replacing signs.\n",
      "------------------------------------------\n",
      "PREDICTION 1\n",
      "SB Hwy 61 in Cottage Grove: Right lane closed between Jamaica Ave and Innovation Rd tomorrow (4/16) from 9:30am to 2:30pm.\n",
      "------------------------------------------\n",
      "PREDICTION 0\n",
      "[News] MnDOT sees $7 million benefit from Adopt a Highway volunteers in 2018http://mndot.gov/newsrels/19/04/15-adopt.html …\n",
      "------------------------------------------\n",
      "PREDICTION 0\n",
      "A big THANK YOU in advance to all of our Adopt a Highway volunteers! Not only does Adopt a Highway help keep Minnesota beautiful, it also translated into an estimated $7 million benefit for the state last year. More about the program and how to volunteer: http://mndot.gov/adopt pic.twitter.com/oa78xAlDbA\n",
      "------------------------------------------\n",
      "PREDICTION 0\n",
      "Car on fire. NB 35 at Viking Blvd. in Wyoming.pic.twitter.com/fqD58QuwYP\n",
      "------------------------------------------\n",
      "PREDICTION 0\n",
      "Thank you for the heads up!\n",
      "------------------------------------------\n",
      "PREDICTION 0\n",
      "Crash at South Bound 100 and 494.pic.twitter.com/A05FJCSlJL\n",
      "------------------------------------------\n"
     ]
    }
   ],
   "source": [
    "for i in range(len(df_mn_unseen_tweets)):\n",
    "    print(\"PREDICTION\",df_mn_unseen_tweets['road_closures'].loc[i])\n",
    "    print(df_mn_unseen_tweets['text'].loc[i])\n",
    "    print(\"------------------------------------------\")"
   ]
  }
 ],
 "metadata": {
  "kernelspec": {
   "display_name": "Python 3",
   "language": "python",
   "name": "python3"
  },
  "language_info": {
   "codemirror_mode": {
    "name": "ipython",
    "version": 3
   },
   "file_extension": ".py",
   "mimetype": "text/x-python",
   "name": "python",
   "nbconvert_exporter": "python",
   "pygments_lexer": "ipython3",
   "version": "3.6.8"
  }
 },
 "nbformat": 4,
 "nbformat_minor": 2
}
