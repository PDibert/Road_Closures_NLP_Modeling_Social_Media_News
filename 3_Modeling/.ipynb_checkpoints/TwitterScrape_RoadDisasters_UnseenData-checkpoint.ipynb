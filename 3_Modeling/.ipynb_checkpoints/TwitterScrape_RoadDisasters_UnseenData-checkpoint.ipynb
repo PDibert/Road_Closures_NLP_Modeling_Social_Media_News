{
 "cells": [
  {
   "cell_type": "markdown",
   "metadata": {},
   "source": [
    "# Twitter Scrape\n",
    "> Jasmine Vasandani\n",
    "\n",
    "This notebook scrapes new tweets for us to test our model on."
   ]
  },
  {
   "cell_type": "markdown",
   "metadata": {},
   "source": [
    "### Import Libraries"
   ]
  },
  {
   "cell_type": "code",
   "execution_count": 1,
   "metadata": {
    "scrolled": true
   },
   "outputs": [
    {
     "name": "stdout",
     "output_type": "stream",
     "text": [
      "/Users/jasminevasandani/DSI/Projects/group_project4/GetOldTweets3\n"
     ]
    }
   ],
   "source": [
    "import pandas as pd\n",
    "import tweepy\n",
    "%cd './GetOldTweets3'\n",
    "#!pip install -r requirements.txt\n",
    "import GetOldTweets3 as got"
   ]
  },
  {
   "cell_type": "code",
   "execution_count": 2,
   "metadata": {},
   "outputs": [
    {
     "name": "stdout",
     "output_type": "stream",
     "text": [
      "/Users/jasminevasandani/DSI/Projects/group_project4\n"
     ]
    }
   ],
   "source": [
    "%cd '..'"
   ]
  },
  {
   "cell_type": "markdown",
   "metadata": {},
   "source": [
    "### Add Tweepy OAuth Keys"
   ]
  },
  {
   "cell_type": "code",
   "execution_count": 3,
   "metadata": {},
   "outputs": [],
   "source": [
    "consumer_key = ''\n",
    "consumer_secret = ''\n",
    "\n",
    "access_token = ''\n",
    "access_token_secret = ''"
   ]
  },
  {
   "cell_type": "markdown",
   "metadata": {},
   "source": [
    "### Instantiate Tweepy"
   ]
  },
  {
   "cell_type": "code",
   "execution_count": 4,
   "metadata": {},
   "outputs": [],
   "source": [
    "auth = tweepy.OAuthHandler(consumer_key, consumer_secret)\n",
    "auth.set_access_token(access_token, access_token_secret)\n",
    "\n",
    "api = tweepy.API(auth, wait_on_rate_limit_notify=True)"
   ]
  },
  {
   "cell_type": "markdown",
   "metadata": {},
   "source": [
    "### I created a Twitter Account @RClosures and followed all official transportation agencies, focusing specifically on Minnesota (they experience regular road closures due to severe weather conditions)"
   ]
  },
  {
   "cell_type": "code",
   "execution_count": 5,
   "metadata": {},
   "outputs": [
    {
     "data": {
      "text/plain": [
       "['MnDOTcentral',\n",
       " 'mndotsoutheast',\n",
       " 'mndotwcentral',\n",
       " 'mndotscentral',\n",
       " 'MnDOTnorthwest',\n",
       " 'MnDPS_MSP',\n",
       " 'MnDOTnews',\n",
       " 'MnDOTtraffic']"
      ]
     },
     "execution_count": 5,
     "metadata": {},
     "output_type": "execute_result"
    }
   ],
   "source": [
    "# Get info from @RClosures\n",
    "user = api.get_user('rclosures')\n",
    "\n",
    "# Create empty list to store all accounts followed by @RClosures\n",
    "mn_accounts = []\n",
    "\n",
    "# Loop through all accounts I follow and add their screen names to the empty list above\n",
    "for friend in user.friends():\n",
    "    mn_accounts.append(friend.screen_name)\n",
    "\n",
    "# Show list\n",
    "mn_accounts"
   ]
  },
  {
   "cell_type": "markdown",
   "metadata": {},
   "source": [
    "# Scrape Tweets using [GOT](https://github.com/Jefferson-Henrique/GetOldTweets-python) \n",
    "(hat tip: Haya Toumy)"
   ]
  },
  {
   "cell_type": "markdown",
   "metadata": {},
   "source": [
    "### MN Official Accounts"
   ]
  },
  {
   "cell_type": "code",
   "execution_count": 1,
   "metadata": {},
   "outputs": [],
   "source": [
    "# You can run this notebook from this line\n",
    "\n",
    "mn_accounts = ['MnDOTcentral', 'mndotsoutheast', 'mndotwcentral', 'mndotscentral', 'MnDOTnorthwest', 'MnDPS_MSP', 'MnDOTnews', 'MnDOTtraffic']"
   ]
  },
  {
   "cell_type": "code",
   "execution_count": 6,
   "metadata": {},
   "outputs": [
    {
     "name": "stdout",
     "output_type": "stream",
     "text": [
      "Shape of DataFrame: (126, 6)\n"
     ]
    },
    {
     "data": {
      "text/html": [
       "<div>\n",
       "<style scoped>\n",
       "    .dataframe tbody tr th:only-of-type {\n",
       "        vertical-align: middle;\n",
       "    }\n",
       "\n",
       "    .dataframe tbody tr th {\n",
       "        vertical-align: top;\n",
       "    }\n",
       "\n",
       "    .dataframe thead th {\n",
       "        text-align: right;\n",
       "    }\n",
       "</style>\n",
       "<table border=\"1\" class=\"dataframe\">\n",
       "  <thead>\n",
       "    <tr style=\"text-align: right;\">\n",
       "      <th></th>\n",
       "      <th>date</th>\n",
       "      <th>geo</th>\n",
       "      <th>hashtags</th>\n",
       "      <th>text</th>\n",
       "      <th>type</th>\n",
       "      <th>username</th>\n",
       "    </tr>\n",
       "  </thead>\n",
       "  <tbody>\n",
       "    <tr>\n",
       "      <th>0</th>\n",
       "      <td>2019-04-22 20:35:31+00:00</td>\n",
       "      <td></td>\n",
       "      <td></td>\n",
       "      <td>Congrats to our ‘Safe Routes to School’ grant ...</td>\n",
       "      <td>official</td>\n",
       "      <td>MnDOTcentral</td>\n",
       "    </tr>\n",
       "    <tr>\n",
       "      <th>1</th>\n",
       "      <td>2019-04-22 20:23:19+00:00</td>\n",
       "      <td></td>\n",
       "      <td></td>\n",
       "      <td>@MnDOTcentral thanks all our 'Adopt a Highway ...</td>\n",
       "      <td>official</td>\n",
       "      <td>MnDOTcentral</td>\n",
       "    </tr>\n",
       "    <tr>\n",
       "      <th>2</th>\n",
       "      <td>2019-04-22 20:18:08+00:00</td>\n",
       "      <td></td>\n",
       "      <td></td>\n",
       "      <td>Hwy 55 roadwork and DETOUR between Annandale a...</td>\n",
       "      <td>official</td>\n",
       "      <td>MnDOTcentral</td>\n",
       "    </tr>\n",
       "    <tr>\n",
       "      <th>3</th>\n",
       "      <td>2019-04-22 20:04:17+00:00</td>\n",
       "      <td></td>\n",
       "      <td>#littlefallsMN #morrison</td>\n",
       "      <td>Hwy 27 Little Falls: DETOUR and construction b...</td>\n",
       "      <td>official</td>\n",
       "      <td>MnDOTcentral</td>\n",
       "    </tr>\n",
       "    <tr>\n",
       "      <th>4</th>\n",
       "      <td>2019-04-19 17:34:51+00:00</td>\n",
       "      <td></td>\n",
       "      <td></td>\n",
       "      <td>Join us in BRAHAM: Construction Open House for...</td>\n",
       "      <td>official</td>\n",
       "      <td>MnDOTcentral</td>\n",
       "    </tr>\n",
       "  </tbody>\n",
       "</table>\n",
       "</div>"
      ],
      "text/plain": [
       "                       date geo                  hashtags  \\\n",
       "0 2019-04-22 20:35:31+00:00                                 \n",
       "1 2019-04-22 20:23:19+00:00                                 \n",
       "2 2019-04-22 20:18:08+00:00                                 \n",
       "3 2019-04-22 20:04:17+00:00      #littlefallsMN #morrison   \n",
       "4 2019-04-19 17:34:51+00:00                                 \n",
       "\n",
       "                                                text      type      username  \n",
       "0  Congrats to our ‘Safe Routes to School’ grant ...  official  MnDOTcentral  \n",
       "1  @MnDOTcentral thanks all our 'Adopt a Highway ...  official  MnDOTcentral  \n",
       "2  Hwy 55 roadwork and DETOUR between Annandale a...  official  MnDOTcentral  \n",
       "3  Hwy 27 Little Falls: DETOUR and construction b...  official  MnDOTcentral  \n",
       "4  Join us in BRAHAM: Construction Open House for...  official  MnDOTcentral  "
      ]
     },
     "execution_count": 6,
     "metadata": {},
     "output_type": "execute_result"
    }
   ],
   "source": [
    "# Empty list to store tweets\n",
    "mn_traffic = []\n",
    "\n",
    "# For loop to scrape tweets from all usernames I specified\n",
    "for account in mn_accounts:\n",
    "    tweetCriteria = got.manager.TweetCriteria().setUsername(account).setSince(\"2019-04-14\").setUntil(\"2019-04-23\")\n",
    "    tweet = got.manager.TweetManager.getTweets(tweetCriteria)\n",
    "    for i in range(len(tweet)):\n",
    "        tweet_dict = {}\n",
    "        tweet_dict['username'] = tweet[i].username\n",
    "        tweet_dict['date'] = tweet[i].date\n",
    "        tweet_dict['text'] = tweet[i].text\n",
    "        tweet_dict['hashtags'] = tweet[i].hashtags\n",
    "        tweet_dict['geo'] = tweet[i].geo\n",
    "        tweet_dict['type'] = 'official'\n",
    "        mn_traffic.append(tweet_dict)\n",
    "\n",
    "# Store tweets in DataFrame\n",
    "df_mn_official = pd.DataFrame(mn_traffic)\n",
    "\n",
    "print(\"Shape of DataFrame:\", df_mn_official.shape)\n",
    "df_mn_official.head()"
   ]
  },
  {
   "cell_type": "markdown",
   "metadata": {},
   "source": [
    "### Save to csv"
   ]
  },
  {
   "cell_type": "code",
   "execution_count": 7,
   "metadata": {},
   "outputs": [],
   "source": [
    "# Save data to csv\n",
    "#df_mn_official.to_csv('./data/twitter_mn_official_UNSEEN.csv')"
   ]
  },
  {
   "cell_type": "markdown",
   "metadata": {},
   "source": [
    "### Sample Tweets"
   ]
  },
  {
   "cell_type": "code",
   "execution_count": 8,
   "metadata": {},
   "outputs": [
    {
     "data": {
      "text/plain": [
       "'At 6 p.m., U.S. Hwy 12 east of Ortonville from the Hwy 75/7 intersection to Co Rd 23 will be closed due to flooding. Traffic will be routed to Co Rd 23 and Hwy 7 until the water recedes and the road is reopened. It is illegal to travel on a closed road. http://511mn.org pic.twitter.com/aeiAtHqYUq'"
      ]
     },
     "execution_count": 8,
     "metadata": {},
     "output_type": "execute_result"
    }
   ],
   "source": [
    "df_mn_official.loc[20]['text']"
   ]
  },
  {
   "cell_type": "code",
   "execution_count": 9,
   "metadata": {},
   "outputs": [
    {
     "data": {
      "text/plain": [
       "\"Heads up - SB Hwy 169 Mankato to St. Peter will NOT OPEN in time for afternoon commute. Crews are hard at it, but removing all the debris from the multiple mudslides is slow going. Please, for everyone's safety - stay off southbound lanes.\""
      ]
     },
     "execution_count": 9,
     "metadata": {},
     "output_type": "execute_result"
    }
   ],
   "source": [
    "df_mn_official.loc[30]['text']"
   ]
  },
  {
   "cell_type": "code",
   "execution_count": 10,
   "metadata": {
    "scrolled": false
   },
   "outputs": [
    {
     "data": {
      "text/plain": [
       "\"Turn around, don't drowned! In addition to mudslides along Hwy 169, we have water over the road on Hwy 112 by Le Sueur.https://twitter.com/NWSTwinCities/status/1118564108952068106 …\""
      ]
     },
     "execution_count": 10,
     "metadata": {},
     "output_type": "execute_result"
    }
   ],
   "source": [
    "df_mn_official.loc[40]['text']"
   ]
  }
 ],
 "metadata": {
  "kernelspec": {
   "display_name": "Python 3",
   "language": "python",
   "name": "python3"
  },
  "language_info": {
   "codemirror_mode": {
    "name": "ipython",
    "version": 3
   },
   "file_extension": ".py",
   "mimetype": "text/x-python",
   "name": "python",
   "nbconvert_exporter": "python",
   "pygments_lexer": "ipython3",
   "version": "3.6.8"
  }
 },
 "nbformat": 4,
 "nbformat_minor": 2
}
