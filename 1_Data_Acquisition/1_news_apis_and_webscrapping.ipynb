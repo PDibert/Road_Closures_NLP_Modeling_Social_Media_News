{
 "cells": [
  {
   "cell_type": "markdown",
   "metadata": {},
   "source": [
    "# Webscrapping and API Pulls"
   ]
  },
  {
   "cell_type": "markdown",
   "metadata": {},
   "source": [
    "In this notebook we will collect data from a variety of sources.  We will use the NOAA API to pull in weather alerts, News API to pull in news articles based on keywords related to road closures, and we will scrape road closure alerts from the ND and MN 511 sites.  \n",
    "\n",
    "Finally, we will apply spacy named entity recognition to these data sets (with the exception of ND 511).  We will not apply spacy to the ND 511 alerts here, because this set is going to be used as a training set for our model.  The other data sources are being used to locate weather alerts in Minnessota."
   ]
  },
  {
   "cell_type": "markdown",
   "metadata": {},
   "source": [
    "## Table of Contents:\n",
    "* [Import Packages](#first-bullet)\n",
    "* [Weather API](#second-bullet)\n",
    "* [News API](#third-bullet)\n",
    "* [ND 511](#fourth-bullet)\n",
    "* [MN 511](#fifth-bullet)\n",
    "* [Spacy Named Entities](#sixth-bullet)"
   ]
  },
  {
   "cell_type": "markdown",
   "metadata": {},
   "source": [
    "# Import Packages <a class=\"anchor\" id=\"first-bullet\"></a>"
   ]
  },
  {
   "cell_type": "code",
   "execution_count": 1,
   "metadata": {},
   "outputs": [],
   "source": [
    "import json\n",
    "import requests\n",
    "import pandas as pd"
   ]
  },
  {
   "cell_type": "code",
   "execution_count": 2,
   "metadata": {},
   "outputs": [],
   "source": [
    "import requests\n",
    "from bs4 import BeautifulSoup"
   ]
  },
  {
   "cell_type": "code",
   "execution_count": 3,
   "metadata": {},
   "outputs": [],
   "source": [
    "import en_core_web_sm\n",
    "nlp = en_core_web_sm.load()\n",
    "#https://github.com/explosion/spaCy/issues/1283"
   ]
  },
  {
   "cell_type": "code",
   "execution_count": 5,
   "metadata": {},
   "outputs": [],
   "source": [
    "import nltk\n",
    "from nltk.tokenize import word_tokenize\n",
    "from nltk.tag import pos_tag"
   ]
  },
  {
   "cell_type": "code",
   "execution_count": 6,
   "metadata": {},
   "outputs": [],
   "source": [
    "import spacy\n",
    "from spacy import displacy\n",
    "from collections import Counter\n",
    "import en_core_web_sm\n",
    "nlp = en_core_web_sm.load()"
   ]
  },
  {
   "cell_type": "code",
   "execution_count": 7,
   "metadata": {},
   "outputs": [],
   "source": [
    "from pprint import pprint"
   ]
  },
  {
   "cell_type": "markdown",
   "metadata": {},
   "source": [
    "# Weather API  <a class=\"anchor\" id=\"second-bullet\"></a>"
   ]
  },
  {
   "cell_type": "markdown",
   "metadata": {},
   "source": [
    "Pull in data from this page - https://alerts.weather.gov/cap/us.php?x=1\n",
    "'Watches, Warnings or Advisories for\n",
    "the United States\n",
    "This page shows alerts currently in effect for the United States and is normally updated every two-three minutes. '\n",
    "\n",
    "https://www.weather.gov/documentation/services-web-api"
   ]
  },
  {
   "cell_type": "code",
   "execution_count": 129,
   "metadata": {},
   "outputs": [
    {
     "data": {
      "text/plain": [
       "{'status': 'OK'}"
      ]
     },
     "execution_count": 129,
     "metadata": {},
     "output_type": "execute_result"
    }
   ],
   "source": [
    "api_token = 'ga_nyc_students'\n",
    "api_url_base = 'https://api.weather.gov/alerts/active?message_type=alert'\n",
    "\n",
    "url = \"https://api.weather.gov\"\n",
    "\n",
    "\n",
    "response = requests.get(url)\n",
    "json   = response.json()\n",
    "json"
   ]
  },
  {
   "cell_type": "code",
   "execution_count": 130,
   "metadata": {},
   "outputs": [],
   "source": [
    "response = requests.get(api_url_base)"
   ]
  },
  {
   "cell_type": "code",
   "execution_count": 132,
   "metadata": {},
   "outputs": [
    {
     "name": "stdout",
     "output_type": "stream",
     "text": [
      "200\n"
     ]
    }
   ],
   "source": [
    "print(response.status_code)"
   ]
  },
  {
   "cell_type": "code",
   "execution_count": 134,
   "metadata": {},
   "outputs": [],
   "source": [
    "json_obj = response.json()"
   ]
  },
  {
   "cell_type": "code",
   "execution_count": 136,
   "metadata": {},
   "outputs": [
    {
     "name": "stdout",
     "output_type": "stream",
     "text": [
      "{'Server': 'nginx/1.12.2', 'Content-Type': 'application/geo+json', 'Last-Modified': 'Sun, 21 Apr 2019 02:16:38 GMT', 'Access-Control-Allow-Origin': '*', 'X-Server-ID': 'vm-lnx-nids-apiapp9.ncep.noaa.gov', 'X-Correlation-ID': '56a8c68b-77d4-45f8-812d-7be5b45ae40c', 'X-Request-ID': '56a8c68b-77d4-45f8-812d-7be5b45ae40c', 'Content-Encoding': 'gzip', 'Content-Length': '25750', 'Cache-Control': 'public, max-age=30, s-maxage=30', 'Expires': 'Sun, 21 Apr 2019 02:26:05 GMT', 'Date': 'Sun, 21 Apr 2019 02:25:35 GMT', 'Connection': 'keep-alive', 'Vary': 'Accept-Encoding, Accept,Feature-Flags', 'Strict-Transport-Security': 'max-age=31536000 ; includeSubDomains ; preload'}\n"
     ]
    }
   ],
   "source": [
    "print(response.headers)"
   ]
  },
  {
   "cell_type": "code",
   "execution_count": 137,
   "metadata": {},
   "outputs": [],
   "source": [
    "weather_df = pd.DataFrame(json_obj['features'])"
   ]
  },
  {
   "cell_type": "code",
   "execution_count": 138,
   "metadata": {},
   "outputs": [
    {
     "data": {
      "text/html": [
       "<div>\n",
       "<style scoped>\n",
       "    .dataframe tbody tr th:only-of-type {\n",
       "        vertical-align: middle;\n",
       "    }\n",
       "\n",
       "    .dataframe tbody tr th {\n",
       "        vertical-align: top;\n",
       "    }\n",
       "\n",
       "    .dataframe thead th {\n",
       "        text-align: right;\n",
       "    }\n",
       "</style>\n",
       "<table border=\"1\" class=\"dataframe\">\n",
       "  <thead>\n",
       "    <tr style=\"text-align: right;\">\n",
       "      <th></th>\n",
       "      <th>geometry</th>\n",
       "      <th>id</th>\n",
       "      <th>properties</th>\n",
       "      <th>type</th>\n",
       "    </tr>\n",
       "  </thead>\n",
       "  <tbody>\n",
       "    <tr>\n",
       "      <th>0</th>\n",
       "      <td>None</td>\n",
       "      <td>https://api.weather.gov/alerts/NWS-IDP-PROD-KE...</td>\n",
       "      <td>{'@id': 'https://api.weather.gov/alerts/NWS-ID...</td>\n",
       "      <td>Feature</td>\n",
       "    </tr>\n",
       "    <tr>\n",
       "      <th>1</th>\n",
       "      <td>{'type': 'Polygon', 'coordinates': [[[-105.84,...</td>\n",
       "      <td>https://api.weather.gov/alerts/NWS-IDP-PROD-34...</td>\n",
       "      <td>{'@id': 'https://api.weather.gov/alerts/NWS-ID...</td>\n",
       "      <td>Feature</td>\n",
       "    </tr>\n",
       "    <tr>\n",
       "      <th>2</th>\n",
       "      <td>{'type': 'Polygon', 'coordinates': [[[-86.13, ...</td>\n",
       "      <td>https://api.weather.gov/alerts/NWS-IDP-PROD-34...</td>\n",
       "      <td>{'@id': 'https://api.weather.gov/alerts/NWS-ID...</td>\n",
       "      <td>Feature</td>\n",
       "    </tr>\n",
       "    <tr>\n",
       "      <th>3</th>\n",
       "      <td>{'type': 'Polygon', 'coordinates': [[[-85.83, ...</td>\n",
       "      <td>https://api.weather.gov/alerts/NWS-IDP-PROD-34...</td>\n",
       "      <td>{'@id': 'https://api.weather.gov/alerts/NWS-ID...</td>\n",
       "      <td>Feature</td>\n",
       "    </tr>\n",
       "    <tr>\n",
       "      <th>4</th>\n",
       "      <td>{'type': 'Polygon', 'coordinates': [[[-85.83, ...</td>\n",
       "      <td>https://api.weather.gov/alerts/NWS-IDP-PROD-34...</td>\n",
       "      <td>{'@id': 'https://api.weather.gov/alerts/NWS-ID...</td>\n",
       "      <td>Feature</td>\n",
       "    </tr>\n",
       "  </tbody>\n",
       "</table>\n",
       "</div>"
      ],
      "text/plain": [
       "                                            geometry  \\\n",
       "0                                               None   \n",
       "1  {'type': 'Polygon', 'coordinates': [[[-105.84,...   \n",
       "2  {'type': 'Polygon', 'coordinates': [[[-86.13, ...   \n",
       "3  {'type': 'Polygon', 'coordinates': [[[-85.83, ...   \n",
       "4  {'type': 'Polygon', 'coordinates': [[[-85.83, ...   \n",
       "\n",
       "                                                  id  \\\n",
       "0  https://api.weather.gov/alerts/NWS-IDP-PROD-KE...   \n",
       "1  https://api.weather.gov/alerts/NWS-IDP-PROD-34...   \n",
       "2  https://api.weather.gov/alerts/NWS-IDP-PROD-34...   \n",
       "3  https://api.weather.gov/alerts/NWS-IDP-PROD-34...   \n",
       "4  https://api.weather.gov/alerts/NWS-IDP-PROD-34...   \n",
       "\n",
       "                                          properties     type  \n",
       "0  {'@id': 'https://api.weather.gov/alerts/NWS-ID...  Feature  \n",
       "1  {'@id': 'https://api.weather.gov/alerts/NWS-ID...  Feature  \n",
       "2  {'@id': 'https://api.weather.gov/alerts/NWS-ID...  Feature  \n",
       "3  {'@id': 'https://api.weather.gov/alerts/NWS-ID...  Feature  \n",
       "4  {'@id': 'https://api.weather.gov/alerts/NWS-ID...  Feature  "
      ]
     },
     "execution_count": 138,
     "metadata": {},
     "output_type": "execute_result"
    }
   ],
   "source": [
    "weather_df.head()"
   ]
  },
  {
   "cell_type": "code",
   "execution_count": 139,
   "metadata": {},
   "outputs": [],
   "source": [
    "weather_df = pd.DataFrame(columns = ['area', 'expires', 'headline', 'description'])\n",
    "\n",
    "for i in json_obj['features']:\n",
    "    area = i['properties']['areaDesc']\n",
    "    expires = i['properties']['expires']\n",
    "    headline = i['properties']['headline']\n",
    "    description = i['properties']['description']\n",
    "    weather_df = weather_df.append({'area': area,'expires': expires,'headline': headline,'description': description}, ignore_index=True)"
   ]
  },
  {
   "cell_type": "code",
   "execution_count": 140,
   "metadata": {
    "scrolled": true
   },
   "outputs": [
    {
     "data": {
      "text/html": [
       "<div>\n",
       "<style scoped>\n",
       "    .dataframe tbody tr th:only-of-type {\n",
       "        vertical-align: middle;\n",
       "    }\n",
       "\n",
       "    .dataframe tbody tr th {\n",
       "        vertical-align: top;\n",
       "    }\n",
       "\n",
       "    .dataframe thead th {\n",
       "        text-align: right;\n",
       "    }\n",
       "</style>\n",
       "<table border=\"1\" class=\"dataframe\">\n",
       "  <thead>\n",
       "    <tr style=\"text-align: right;\">\n",
       "      <th></th>\n",
       "      <th>area</th>\n",
       "      <th>expires</th>\n",
       "      <th>headline</th>\n",
       "      <th>description</th>\n",
       "    </tr>\n",
       "  </thead>\n",
       "  <tbody>\n",
       "    <tr>\n",
       "      <th>0</th>\n",
       "      <td>Montgomery</td>\n",
       "      <td>2019-04-21T02:26:25+00:00</td>\n",
       "      <td>None</td>\n",
       "      <td>Monitoring message only. Please disregard.</td>\n",
       "    </tr>\n",
       "    <tr>\n",
       "      <th>1</th>\n",
       "      <td>Southern Campbell</td>\n",
       "      <td>2019-04-20T20:30:00-06:00</td>\n",
       "      <td>Special Weather Statement issued April 20 at 7...</td>\n",
       "      <td>At 758 PM MDT, Doppler radar was tracking a st...</td>\n",
       "    </tr>\n",
       "    <tr>\n",
       "      <th>2</th>\n",
       "      <td>Martin, IN; Lawrence, IN</td>\n",
       "      <td>2019-04-21T21:42:00-04:00</td>\n",
       "      <td>Flood Warning issued April 20 at 9:43PM EDT un...</td>\n",
       "      <td>Big Blue River...Driftwood River...East Fork W...</td>\n",
       "    </tr>\n",
       "    <tr>\n",
       "      <th>3</th>\n",
       "      <td>Lawrence, IN; Jackson, IN; Washington, IN</td>\n",
       "      <td>2019-04-21T21:42:00-04:00</td>\n",
       "      <td>Flood Warning issued April 20 at 9:43PM EDT un...</td>\n",
       "      <td>Big Blue River...Driftwood River...East Fork W...</td>\n",
       "    </tr>\n",
       "    <tr>\n",
       "      <th>4</th>\n",
       "      <td>Bartholomew, IN</td>\n",
       "      <td>2019-04-21T21:42:00-04:00</td>\n",
       "      <td>Flood Warning issued April 20 at 9:43PM EDT un...</td>\n",
       "      <td>Big Blue River...Driftwood River...East Fork W...</td>\n",
       "    </tr>\n",
       "  </tbody>\n",
       "</table>\n",
       "</div>"
      ],
      "text/plain": [
       "                                        area                    expires  \\\n",
       "0                                 Montgomery  2019-04-21T02:26:25+00:00   \n",
       "1                          Southern Campbell  2019-04-20T20:30:00-06:00   \n",
       "2                   Martin, IN; Lawrence, IN  2019-04-21T21:42:00-04:00   \n",
       "3  Lawrence, IN; Jackson, IN; Washington, IN  2019-04-21T21:42:00-04:00   \n",
       "4                            Bartholomew, IN  2019-04-21T21:42:00-04:00   \n",
       "\n",
       "                                            headline  \\\n",
       "0                                               None   \n",
       "1  Special Weather Statement issued April 20 at 7...   \n",
       "2  Flood Warning issued April 20 at 9:43PM EDT un...   \n",
       "3  Flood Warning issued April 20 at 9:43PM EDT un...   \n",
       "4  Flood Warning issued April 20 at 9:43PM EDT un...   \n",
       "\n",
       "                                         description  \n",
       "0         Monitoring message only. Please disregard.  \n",
       "1  At 758 PM MDT, Doppler radar was tracking a st...  \n",
       "2  Big Blue River...Driftwood River...East Fork W...  \n",
       "3  Big Blue River...Driftwood River...East Fork W...  \n",
       "4  Big Blue River...Driftwood River...East Fork W...  "
      ]
     },
     "execution_count": 140,
     "metadata": {},
     "output_type": "execute_result"
    }
   ],
   "source": [
    "weather_df.head()"
   ]
  },
  {
   "cell_type": "code",
   "execution_count": 141,
   "metadata": {},
   "outputs": [
    {
     "data": {
      "text/plain": [
       "60"
      ]
     },
     "execution_count": 141,
     "metadata": {},
     "output_type": "execute_result"
    }
   ],
   "source": [
    "len(weather_df)"
   ]
  },
  {
   "cell_type": "markdown",
   "metadata": {},
   "source": [
    "Below are some of the alerts that may be relevant to our interests.  There are multiple alerts alerting users to road closures.  More specifically to our current interests (road closures in Minnesota), there is an alert regarding flooding in the state."
   ]
  },
  {
   "cell_type": "code",
   "execution_count": 144,
   "metadata": {},
   "outputs": [
    {
     "name": "stdout",
     "output_type": "stream",
     "text": [
      "47                                                                                                                        Big Black River Near Big Black\\nPiscataquis River Above Dover-foxcroft\\nPiscataquis River At Medford\\nPenobscot River At West Enfield\\n\\n...Safety Message...\\n\\nObey all road closure signs, they are there for your safety.  Do not\\nattempt to drive through flooded areas, most flood deaths occur in\\nautomobiles.  Turn around, don't drown!\\nThe National Weather Service in Caribou Maine has issued a\\n\\n* Flood Warning for\\nthe Piscataquis River At Medford.\\n* from late tonight to Monday morning...or until the warning is\\ncancelled.\\n* At 13:31 PM Saturday the stage was 8.7 feet.\\n* Minor flooding is forecast.\\n* Flood stage is 13.0 feet.\\n* Forecast...Rise above flood stage by early tomorrow and continue to\\nrise to near 13.7 feet by tomorrow early afternoon.The river will\\nfall below flood stage by early Monday morning.\\n* At 13.0 feet, Minor lowland flooding occurs.\n",
      "48                                                                                   Big Black River Near Big Black\\nPiscataquis River Above Dover-foxcroft\\nPiscataquis River At Medford\\nPenobscot River At West Enfield\\n\\n...Safety Message...\\n\\nObey all road closure signs, they are there for your safety.  Do not\\nattempt to drive through flooded areas, most flood deaths occur in\\nautomobiles.  Turn around, don't drown!\\nThe National Weather Service in Caribou Maine has issued a\\n\\n* Flood Warning for\\nthe Piscataquis River Above Dover-foxcroft.\\n* from this evening to Sunday afternoon...or until the warning is\\ncancelled.\\n* At 13:30 PM Saturday the stage was 9.1 feet.\\n* Minor flooding is forecast.\\n* Flood stage is 11.0 feet.\\n* Forecast...Rise above flood stage by this evening and continue to\\nrise to near 11.3 feet by after midnight tomorrow. The river will\\nfall below flood stage by tomorrow late morning.\\n* At 11.0 feet, Minor lowland flooding occurs. Back Abbot Road\\nflooded.\n",
      "49                                                                                            Big Black River Near Big Black\\nPiscataquis River Above Dover-foxcroft\\nPiscataquis River At Medford\\nPenobscot River At West Enfield\\n\\n...Safety Message...\\n\\nObey all road closure signs, they are there for your safety.  Do not\\nattempt to drive through flooded areas, most flood deaths occur in\\nautomobiles.  Turn around, don't drown!\\nThe National Weather Service in Caribou Maine has issued a\\n\\n* Flood Warning for\\nthe Big Black River Near Big Black.\\n* until Monday evening...or until the warning is cancelled.\\n* At 13:15 PM Saturday the stage was 11.9 feet.\\n* Minor flooding is forecast.\\n* Flood stage is 12.0 feet.\\n* Forecast...Rise above flood stage by this afternoon and continue to\\nrise to near 13.4 feet by this afternoon. The river will fall below\\nflood stage by Monday early afternoon.\\n* At 12.0 feet, Minor lowland flodding occurs.\\n* At 14.0 feet, Flooding begins on Depot Road.\n",
      "50    Big Black River Near Big Black\\nPiscataquis River Above Dover-foxcroft\\nPiscataquis River At Medford\\nPenobscot River At West Enfield\\n\\n...Safety Message...\\n\\nObey all road closure signs, they are there for your safety.  Do not\\nattempt to drive through flooded areas, most flood deaths occur in\\nautomobiles.  Turn around, don't drown!\\nThe National Weather Service in Caribou Maine has issued a\\n\\n* Flood Warning for\\nthe Penobscot River At West Enfield.\\n* from late tonight to Tuesday morning...or until the warning is\\ncancelled.\\n* At 13:17 PM Saturday the stage was 14.3 feet.\\n* Minor flooding is forecast.\\n* Flood stage is 18.0 feet.\\n* Forecast...Rise above flood stage by after midnight tomorrow and\\ncontinue to rise to near 21.4 feet by tomorrow evening.The river\\nwill fall below flood stage by early Tuesday morning.\\n* At 20.0 feet, Flooding on US Route 2 in Greenbush near Dow Road.\\n* At 21.0 feet, Flooding on US Route 2 in Milford at the Greenfield\\nRoad to Bo's Lane.\n",
      "Name: description, dtype: object\n"
     ]
    }
   ],
   "source": [
    "print(weather_df['description'][weather_df['description'].str.contains(\"road closure\")])"
   ]
  },
  {
   "cell_type": "code",
   "execution_count": 148,
   "metadata": {},
   "outputs": [
    {
     "name": "stdout",
     "output_type": "stream",
     "text": [
      "36    Minnesota River At Ortonville\\nThe National Weather Service in Aberdeen has issued a\\n\\n* Flood Warning for\\nThe Minnesota River At Ortonville.\\n* until further notice.\\n* At  3:30 PM Saturday the stage was 10.0 feet.\\n* Flood stage is 10.0 feet.\n",
      "Name: description, dtype: object\n"
     ]
    }
   ],
   "source": [
    "print(weather_df['description'][weather_df['area'].str.contains(\"MN\")])"
   ]
  },
  {
   "cell_type": "markdown",
   "metadata": {},
   "source": [
    "# News API  <a class=\"anchor\" id=\"third-bullet\"></a>"
   ]
  },
  {
   "cell_type": "markdown",
   "metadata": {},
   "source": [
    "The News API has both a free and paid version.  We are working with the free version, which only allows users to pull in one page per search term.  The paid version allows users to pull in multiple pages per search term.  The function defined below works with both version of the API.  If a user is using the free version, they should always set num_pages to 1.  If they are using the paid version, they may set it higher.  If a free user attempts to set the num_pages higher than 1, the API will return an error code: \n",
    "\n",
    "\"You have requested too many results. Developer accounts are limited to a max of 100 results. You are trying to request results 300 to 400.Please upgrade to a paid plan if you need more results.\"\n",
    "\n",
    "The function will not break however, but only one page of results per search term will be returned."
   ]
  },
  {
   "cell_type": "code",
   "execution_count": 29,
   "metadata": {},
   "outputs": [],
   "source": [
    "news_api_key = 'a4125c9be11c4b9d8edc5e827379c2fd'"
   ]
  },
  {
   "cell_type": "code",
   "execution_count": 87,
   "metadata": {},
   "outputs": [],
   "source": [
    "def pull_news(phrase, num_pages):\n",
    "    df_news_all = pd.DataFrame(columns = ['author', 'content', 'description', 'publishedAt', 'source', 'title', 'url', 'urlToImage'])    \n",
    "    all_pulls = []\n",
    "    for i in range(1, num_pages):\n",
    "        url = ('https://newsapi.org/v2/everything?q='+ phrase + \n",
    "               '&apiKey=' + news_api_key + '&pageSize=100&page=' + str(i) + '&language=en')\n",
    "        print(url)\n",
    "        response = requests.get(url)\n",
    "        print(response)\n",
    "        if response.status_code == 200:\n",
    "            json_obj_news = response.json()\n",
    "            df_news = pd.DataFrame(json_obj_news['articles'])\n",
    "            print(len(df_news))\n",
    "            df_news_all = pd.concat([df_news_all.reset_index(drop=True), df_news.reset_index(drop=True)], axis=0)\n",
    "            print(len(df_news_all))\n",
    "        else:\n",
    "            pass\n",
    "    return df_news_all"
   ]
  },
  {
   "cell_type": "markdown",
   "metadata": {},
   "source": [
    "We are interested in a variety of search terms.  We will loop through the function above to pull in multiple search terms."
   ]
  },
  {
   "cell_type": "code",
   "execution_count": 109,
   "metadata": {},
   "outputs": [
    {
     "name": "stdout",
     "output_type": "stream",
     "text": [
      "road\n",
      "https://newsapi.org/v2/everything?q=road&apiKey=a4125c9be11c4b9d8edc5e827379c2fd&pageSize=100&page=1&language=en\n",
      "<Response [200]>\n",
      "100\n",
      "100\n",
      "road closure\n",
      "https://newsapi.org/v2/everything?q=road closure&apiKey=a4125c9be11c4b9d8edc5e827379c2fd&pageSize=100&page=1&language=en\n",
      "<Response [200]>\n",
      "100\n",
      "100\n",
      "closure\n",
      "https://newsapi.org/v2/everything?q=closure&apiKey=a4125c9be11c4b9d8edc5e827379c2fd&pageSize=100&page=1&language=en\n",
      "<Response [200]>\n",
      "100\n",
      "100\n",
      "highway\n",
      "https://newsapi.org/v2/everything?q=highway&apiKey=a4125c9be11c4b9d8edc5e827379c2fd&pageSize=100&page=1&language=en\n",
      "<Response [200]>\n",
      "100\n",
      "100\n",
      "flood\n",
      "https://newsapi.org/v2/everything?q=flood&apiKey=a4125c9be11c4b9d8edc5e827379c2fd&pageSize=100&page=1&language=en\n",
      "<Response [200]>\n",
      "100\n",
      "100\n",
      "snow\n",
      "https://newsapi.org/v2/everything?q=snow&apiKey=a4125c9be11c4b9d8edc5e827379c2fd&pageSize=100&page=1&language=en\n",
      "<Response [200]>\n",
      "100\n",
      "100\n",
      "storm\n",
      "https://newsapi.org/v2/everything?q=storm&apiKey=a4125c9be11c4b9d8edc5e827379c2fd&pageSize=100&page=1&language=en\n",
      "<Response [200]>\n",
      "100\n",
      "100\n",
      "flood\n",
      "https://newsapi.org/v2/everything?q=flood&apiKey=a4125c9be11c4b9d8edc5e827379c2fd&pageSize=100&page=1&language=en\n",
      "<Response [200]>\n",
      "100\n",
      "100\n",
      "floods\n",
      "https://newsapi.org/v2/everything?q=floods&apiKey=a4125c9be11c4b9d8edc5e827379c2fd&pageSize=100&page=1&language=en\n",
      "<Response [200]>\n",
      "100\n",
      "100\n",
      "flooding\n",
      "https://newsapi.org/v2/everything?q=flooding&apiKey=a4125c9be11c4b9d8edc5e827379c2fd&pageSize=100&page=1&language=en\n",
      "<Response [200]>\n",
      "100\n",
      "100\n",
      "storms\n",
      "https://newsapi.org/v2/everything?q=storms&apiKey=a4125c9be11c4b9d8edc5e827379c2fd&pageSize=100&page=1&language=en\n",
      "<Response [200]>\n",
      "100\n",
      "100\n",
      "minnesota\n",
      "https://newsapi.org/v2/everything?q=minnesota&apiKey=a4125c9be11c4b9d8edc5e827379c2fd&pageSize=100&page=1&language=en\n",
      "<Response [200]>\n",
      "100\n",
      "100\n",
      "landslide\n",
      "https://newsapi.org/v2/everything?q=landslide&apiKey=a4125c9be11c4b9d8edc5e827379c2fd&pageSize=100&page=1&language=en\n",
      "<Response [200]>\n",
      "100\n",
      "100\n",
      "blizzard\n",
      "https://newsapi.org/v2/everything?q=blizzard&apiKey=a4125c9be11c4b9d8edc5e827379c2fd&pageSize=100&page=1&language=en\n",
      "<Response [200]>\n",
      "100\n",
      "100\n",
      "ice\n",
      "https://newsapi.org/v2/everything?q=ice&apiKey=a4125c9be11c4b9d8edc5e827379c2fd&pageSize=100&page=1&language=en\n",
      "<Response [200]>\n",
      "100\n",
      "100\n"
     ]
    }
   ],
   "source": [
    "# loop through multiple news topics and combine in one df\n",
    "\n",
    "news_topics = ['road', 'road closure', 'closure', 'highway' , 'flood', 'snow', 'storm', \n",
    "               'flood', 'floods', 'flooding', 'storms', 'minnesota', 'landslide', 'blizzard', 'ice']\n",
    "df_news_all_topics = pd.DataFrame(columns = ['author', 'content', 'description', 'publishedAt', 'source', 'title', 'url', 'urlToImage'])    \n",
    "\n",
    "for i in news_topics:\n",
    "    print(i)\n",
    "    news_all_df = pull_news(i, 2)\n",
    "    df_news_all_topics = pd.concat([df_news_all_topics.reset_index(drop=True), news_all_df.reset_index(drop=True)], axis=0)"
   ]
  },
  {
   "cell_type": "code",
   "execution_count": 110,
   "metadata": {},
   "outputs": [
    {
     "data": {
      "text/plain": [
       "1500"
      ]
     },
     "execution_count": 110,
     "metadata": {},
     "output_type": "execute_result"
    }
   ],
   "source": [
    "len(df_news_all_topics)"
   ]
  },
  {
   "cell_type": "code",
   "execution_count": 7,
   "metadata": {},
   "outputs": [],
   "source": [
    "# https://newsapi.org/docs/endpoints/everything"
   ]
  },
  {
   "cell_type": "markdown",
   "metadata": {},
   "source": [
    "# North Dakota DOT 511 Web scrapping  <a class=\"anchor\" id=\"fourth-bullet\"></a>"
   ]
  },
  {
   "cell_type": "markdown",
   "metadata": {},
   "source": [
    "In this section, we will scrape the ND 511 site for road closure alerts.  This site has a large numbner of alerts (as of April 2018).  Because this site is geographically close to MN and contains more alerts than MN 511, it will be used to train our model to recognize likely road closure alerts."
   ]
  },
  {
   "cell_type": "code",
   "execution_count": 5,
   "metadata": {},
   "outputs": [],
   "source": [
    "url = 'https://www.dot.nd.gov/dotnet/news/Public/Index'\n",
    "\n",
    "res = requests.get(url)"
   ]
  },
  {
   "cell_type": "code",
   "execution_count": 6,
   "metadata": {},
   "outputs": [
    {
     "data": {
      "text/plain": [
       "200"
      ]
     },
     "execution_count": 6,
     "metadata": {},
     "output_type": "execute_result"
    }
   ],
   "source": [
    "res.status_code"
   ]
  },
  {
   "cell_type": "code",
   "execution_count": 7,
   "metadata": {},
   "outputs": [],
   "source": [
    "soup = BeautifulSoup(res.content, 'lxml')"
   ]
  },
  {
   "cell_type": "code",
   "execution_count": 8,
   "metadata": {},
   "outputs": [],
   "source": [
    "table = soup.find('table', {'class': \"table\"})"
   ]
  },
  {
   "cell_type": "code",
   "execution_count": 9,
   "metadata": {},
   "outputs": [],
   "source": [
    "teams = []\n",
    "for row in table.find_all('tr')[1:]:\n",
    "    team = {}\n",
    "    team['alert_type'] = row.find('td').text\n",
    "    team['headline'] = row.find('a').text\n",
    "    team['url'] = row.find('a').attrs\n",
    "    teams.append(team)\n",
    "\n",
    "df_nd = pd.DataFrame(teams)"
   ]
  },
  {
   "cell_type": "code",
   "execution_count": 10,
   "metadata": {},
   "outputs": [],
   "source": [
    "df_nd['url'] = df_nd['url'].astype(str)"
   ]
  },
  {
   "cell_type": "code",
   "execution_count": 11,
   "metadata": {
    "scrolled": true
   },
   "outputs": [
    {
     "name": "stdout",
     "output_type": "stream",
     "text": [
      "<class 'pandas.core.frame.DataFrame'>\n",
      "RangeIndex: 185 entries, 0 to 184\n",
      "Data columns (total 3 columns):\n",
      "alert_type    185 non-null object\n",
      "headline      185 non-null object\n",
      "url           185 non-null object\n",
      "dtypes: object(3)\n",
      "memory usage: 4.4+ KB\n"
     ]
    }
   ],
   "source": [
    "df_nd.info()"
   ]
  },
  {
   "cell_type": "code",
   "execution_count": 12,
   "metadata": {},
   "outputs": [],
   "source": [
    "df_nd['url'] = df_nd['url'].str.replace(\"{'href': '\", \"\")"
   ]
  },
  {
   "cell_type": "code",
   "execution_count": 13,
   "metadata": {},
   "outputs": [],
   "source": [
    "df_nd['url'] = df_nd['url'].str.replace(\"', 'target': '_blank'}\", \"\")"
   ]
  },
  {
   "cell_type": "code",
   "execution_count": 14,
   "metadata": {},
   "outputs": [
    {
     "data": {
      "text/html": [
       "<div>\n",
       "<style scoped>\n",
       "    .dataframe tbody tr th:only-of-type {\n",
       "        vertical-align: middle;\n",
       "    }\n",
       "\n",
       "    .dataframe tbody tr th {\n",
       "        vertical-align: top;\n",
       "    }\n",
       "\n",
       "    .dataframe thead th {\n",
       "        text-align: right;\n",
       "    }\n",
       "</style>\n",
       "<table border=\"1\" class=\"dataframe\">\n",
       "  <thead>\n",
       "    <tr style=\"text-align: right;\">\n",
       "      <th></th>\n",
       "      <th>alert_type</th>\n",
       "      <th>headline</th>\n",
       "      <th>url</th>\n",
       "    </tr>\n",
       "  </thead>\n",
       "  <tbody>\n",
       "    <tr>\n",
       "      <th>0</th>\n",
       "      <td>Other</td>\n",
       "      <td>Agencies plan clean-up week on US 85 in May</td>\n",
       "      <td>/dotnet/news/Public/View/8349</td>\n",
       "    </tr>\n",
       "    <tr>\n",
       "      <th>1</th>\n",
       "      <td>Other</td>\n",
       "      <td>Medina rest area on westbound I-94 now open</td>\n",
       "      <td>/dotnet/news/Public/View/8348</td>\n",
       "    </tr>\n",
       "    <tr>\n",
       "      <th>2</th>\n",
       "      <td>Construction</td>\n",
       "      <td>Temporary road closure on ND Highway 1804 sout...</td>\n",
       "      <td>/dotnet/news/Public/View/8347</td>\n",
       "    </tr>\n",
       "    <tr>\n",
       "      <th>3</th>\n",
       "      <td>Other</td>\n",
       "      <td>ND Hwy 54 now open with 7 ton load restriction</td>\n",
       "      <td>/dotnet/news/Public/View/8346</td>\n",
       "    </tr>\n",
       "    <tr>\n",
       "      <th>4</th>\n",
       "      <td>Other</td>\n",
       "      <td>Medina rest area on westbound I-94 temporarily...</td>\n",
       "      <td>/dotnet/news/Public/View/8345</td>\n",
       "    </tr>\n",
       "  </tbody>\n",
       "</table>\n",
       "</div>"
      ],
      "text/plain": [
       "     alert_type                                           headline  \\\n",
       "0         Other        Agencies plan clean-up week on US 85 in May   \n",
       "1         Other        Medina rest area on westbound I-94 now open   \n",
       "2  Construction  Temporary road closure on ND Highway 1804 sout...   \n",
       "3         Other    ND Hwy 54 now open with 7 ton load restriction    \n",
       "4         Other  Medina rest area on westbound I-94 temporarily...   \n",
       "\n",
       "                             url  \n",
       "0  /dotnet/news/Public/View/8349  \n",
       "1  /dotnet/news/Public/View/8348  \n",
       "2  /dotnet/news/Public/View/8347  \n",
       "3  /dotnet/news/Public/View/8346  \n",
       "4  /dotnet/news/Public/View/8345  "
      ]
     },
     "execution_count": 14,
     "metadata": {},
     "output_type": "execute_result"
    }
   ],
   "source": [
    "df_nd.head()"
   ]
  },
  {
   "cell_type": "markdown",
   "metadata": {},
   "source": [
    "The site contains alerts for more than just road closures.  Some are for meetings, construction alerts, etc.  We do not want to include these alerts in our set, so we will remove them, leaving only road alerts."
   ]
  },
  {
   "cell_type": "code",
   "execution_count": 15,
   "metadata": {},
   "outputs": [],
   "source": [
    "mask = df_nd['alert_type'] == 'Road Conditions'\n",
    "df_nd_conditions = df_nd[mask]"
   ]
  },
  {
   "cell_type": "code",
   "execution_count": 16,
   "metadata": {},
   "outputs": [
    {
     "name": "stdout",
     "output_type": "stream",
     "text": [
      "<class 'pandas.core.frame.DataFrame'>\n",
      "Int64Index: 137 entries, 5 to 182\n",
      "Data columns (total 3 columns):\n",
      "alert_type    137 non-null object\n",
      "headline      137 non-null object\n",
      "url           137 non-null object\n",
      "dtypes: object(3)\n",
      "memory usage: 4.3+ KB\n"
     ]
    }
   ],
   "source": [
    "df_nd_conditions.info()"
   ]
  },
  {
   "cell_type": "code",
   "execution_count": 17,
   "metadata": {},
   "outputs": [
    {
     "data": {
      "text/html": [
       "<div>\n",
       "<style scoped>\n",
       "    .dataframe tbody tr th:only-of-type {\n",
       "        vertical-align: middle;\n",
       "    }\n",
       "\n",
       "    .dataframe tbody tr th {\n",
       "        vertical-align: top;\n",
       "    }\n",
       "\n",
       "    .dataframe thead th {\n",
       "        text-align: right;\n",
       "    }\n",
       "</style>\n",
       "<table border=\"1\" class=\"dataframe\">\n",
       "  <thead>\n",
       "    <tr style=\"text-align: right;\">\n",
       "      <th></th>\n",
       "      <th>alert_type</th>\n",
       "      <th>headline</th>\n",
       "      <th>url</th>\n",
       "    </tr>\n",
       "  </thead>\n",
       "  <tbody>\n",
       "    <tr>\n",
       "      <th>5</th>\n",
       "      <td>Road Conditions</td>\n",
       "      <td>Sorlie Bridge in Grand Forks opening at 4 p.m....</td>\n",
       "      <td>/dotnet/news/Public/View/8344</td>\n",
       "    </tr>\n",
       "    <tr>\n",
       "      <th>8</th>\n",
       "      <td>Road Conditions</td>\n",
       "      <td>ND Hwy. 11 now OPEN from Fairmont to MN border</td>\n",
       "      <td>/dotnet/news/Public/View/8341</td>\n",
       "    </tr>\n",
       "    <tr>\n",
       "      <th>9</th>\n",
       "      <td>Road Conditions</td>\n",
       "      <td>ND Hwy. 11 closed Fairmont to MN border due to...</td>\n",
       "      <td>/dotnet/news/Public/View/8340</td>\n",
       "    </tr>\n",
       "    <tr>\n",
       "      <th>14</th>\n",
       "      <td>Road Conditions</td>\n",
       "      <td>Water receded on I-29, 20 miles north of Grand...</td>\n",
       "      <td>/dotnet/news/Public/View/8335</td>\n",
       "    </tr>\n",
       "    <tr>\n",
       "      <th>15</th>\n",
       "      <td>Road Conditions</td>\n",
       "      <td>ND Hwy 5 temporarily closed from I-29 to the R...</td>\n",
       "      <td>/dotnet/news/Public/View/8334</td>\n",
       "    </tr>\n",
       "  </tbody>\n",
       "</table>\n",
       "</div>"
      ],
      "text/plain": [
       "         alert_type                                           headline  \\\n",
       "5   Road Conditions  Sorlie Bridge in Grand Forks opening at 4 p.m....   \n",
       "8   Road Conditions    ND Hwy. 11 now OPEN from Fairmont to MN border    \n",
       "9   Road Conditions  ND Hwy. 11 closed Fairmont to MN border due to...   \n",
       "14  Road Conditions  Water receded on I-29, 20 miles north of Grand...   \n",
       "15  Road Conditions  ND Hwy 5 temporarily closed from I-29 to the R...   \n",
       "\n",
       "                              url  \n",
       "5   /dotnet/news/Public/View/8344  \n",
       "8   /dotnet/news/Public/View/8341  \n",
       "9   /dotnet/news/Public/View/8340  \n",
       "14  /dotnet/news/Public/View/8335  \n",
       "15  /dotnet/news/Public/View/8334  "
      ]
     },
     "execution_count": 17,
     "metadata": {},
     "output_type": "execute_result"
    }
   ],
   "source": [
    "df_nd_conditions.head()"
   ]
  },
  {
   "cell_type": "code",
   "execution_count": 18,
   "metadata": {},
   "outputs": [],
   "source": [
    "full_text_list = []\n",
    "for i in df_nd_conditions.url: \n",
    "    url_base = 'https://www.dot.nd.gov'\n",
    "    url_combine = url_base + i\n",
    "    res = requests.get(url_combine)\n",
    "    soup = BeautifulSoup(res.content, 'lxml')\n",
    "    full_text = soup.find('div', {'class': \"display-content\"}).text.strip()\n",
    "    full_text_list.append(full_text)\n",
    "#print(full_text_list)"
   ]
  },
  {
   "cell_type": "code",
   "execution_count": 19,
   "metadata": {},
   "outputs": [
    {
     "name": "stderr",
     "output_type": "stream",
     "text": [
      "C:\\Users\\phill\\Anaconda3\\lib\\site-packages\\ipykernel_launcher.py:1: SettingWithCopyWarning: \n",
      "A value is trying to be set on a copy of a slice from a DataFrame.\n",
      "Try using .loc[row_indexer,col_indexer] = value instead\n",
      "\n",
      "See the caveats in the documentation: http://pandas.pydata.org/pandas-docs/stable/indexing.html#indexing-view-versus-copy\n",
      "  \"\"\"Entry point for launching an IPython kernel.\n"
     ]
    }
   ],
   "source": [
    "df_nd_conditions['post'] = full_text_list"
   ]
  },
  {
   "cell_type": "code",
   "execution_count": 20,
   "metadata": {},
   "outputs": [
    {
     "data": {
      "text/html": [
       "<div>\n",
       "<style scoped>\n",
       "    .dataframe tbody tr th:only-of-type {\n",
       "        vertical-align: middle;\n",
       "    }\n",
       "\n",
       "    .dataframe tbody tr th {\n",
       "        vertical-align: top;\n",
       "    }\n",
       "\n",
       "    .dataframe thead th {\n",
       "        text-align: right;\n",
       "    }\n",
       "</style>\n",
       "<table border=\"1\" class=\"dataframe\">\n",
       "  <thead>\n",
       "    <tr style=\"text-align: right;\">\n",
       "      <th></th>\n",
       "      <th>alert_type</th>\n",
       "      <th>headline</th>\n",
       "      <th>url</th>\n",
       "      <th>post</th>\n",
       "    </tr>\n",
       "  </thead>\n",
       "  <tbody>\n",
       "    <tr>\n",
       "      <th>5</th>\n",
       "      <td>Road Conditions</td>\n",
       "      <td>Sorlie Bridge in Grand Forks opening at 4 p.m....</td>\n",
       "      <td>/dotnet/news/Public/View/8344</td>\n",
       "      <td>The North Dakota Department of Transportation ...</td>\n",
       "    </tr>\n",
       "    <tr>\n",
       "      <th>8</th>\n",
       "      <td>Road Conditions</td>\n",
       "      <td>ND Hwy. 11 now OPEN from Fairmont to MN border</td>\n",
       "      <td>/dotnet/news/Public/View/8341</td>\n",
       "      <td>The North Dakota Department of Transportation ...</td>\n",
       "    </tr>\n",
       "    <tr>\n",
       "      <th>9</th>\n",
       "      <td>Road Conditions</td>\n",
       "      <td>ND Hwy. 11 closed Fairmont to MN border due to...</td>\n",
       "      <td>/dotnet/news/Public/View/8340</td>\n",
       "      <td>The North Dakota Department of Transportation ...</td>\n",
       "    </tr>\n",
       "    <tr>\n",
       "      <th>14</th>\n",
       "      <td>Road Conditions</td>\n",
       "      <td>Water receded on I-29, 20 miles north of Grand...</td>\n",
       "      <td>/dotnet/news/Public/View/8335</td>\n",
       "      <td>Water has receded on northbound I-29 approxima...</td>\n",
       "    </tr>\n",
       "    <tr>\n",
       "      <th>15</th>\n",
       "      <td>Road Conditions</td>\n",
       "      <td>ND Hwy 5 temporarily closed from I-29 to the R...</td>\n",
       "      <td>/dotnet/news/Public/View/8334</td>\n",
       "      <td>The North Dakota Department of Transportation ...</td>\n",
       "    </tr>\n",
       "  </tbody>\n",
       "</table>\n",
       "</div>"
      ],
      "text/plain": [
       "         alert_type                                           headline  \\\n",
       "5   Road Conditions  Sorlie Bridge in Grand Forks opening at 4 p.m....   \n",
       "8   Road Conditions    ND Hwy. 11 now OPEN from Fairmont to MN border    \n",
       "9   Road Conditions  ND Hwy. 11 closed Fairmont to MN border due to...   \n",
       "14  Road Conditions  Water receded on I-29, 20 miles north of Grand...   \n",
       "15  Road Conditions  ND Hwy 5 temporarily closed from I-29 to the R...   \n",
       "\n",
       "                              url  \\\n",
       "5   /dotnet/news/Public/View/8344   \n",
       "8   /dotnet/news/Public/View/8341   \n",
       "9   /dotnet/news/Public/View/8340   \n",
       "14  /dotnet/news/Public/View/8335   \n",
       "15  /dotnet/news/Public/View/8334   \n",
       "\n",
       "                                                 post  \n",
       "5   The North Dakota Department of Transportation ...  \n",
       "8   The North Dakota Department of Transportation ...  \n",
       "9   The North Dakota Department of Transportation ...  \n",
       "14  Water has receded on northbound I-29 approxima...  \n",
       "15  The North Dakota Department of Transportation ...  "
      ]
     },
     "execution_count": 20,
     "metadata": {},
     "output_type": "execute_result"
    }
   ],
   "source": [
    "df_nd_conditions.head()"
   ]
  },
  {
   "cell_type": "code",
   "execution_count": 201,
   "metadata": {},
   "outputs": [],
   "source": [
    "#df_nd_conditions.to_csv('./data/nd_511.csv')"
   ]
  },
  {
   "cell_type": "markdown",
   "metadata": {},
   "source": [
    "# Minnesota DOT 511 Web scrapping  <a class=\"anchor\" id=\"fifth-bullet\"></a>"
   ]
  },
  {
   "cell_type": "markdown",
   "metadata": {},
   "source": [
    "In this section, we will scrape the MN 511 DOT site for road closure alerts."
   ]
  },
  {
   "cell_type": "code",
   "execution_count": 12,
   "metadata": {},
   "outputs": [],
   "source": [
    "url = 'https://lb.511mn.org//mnlb/roadreports/menu.jsf?view=state&text=m&textOnly=true&current=true'\n",
    "\n",
    "res = requests.get(url)"
   ]
  },
  {
   "cell_type": "code",
   "execution_count": 13,
   "metadata": {},
   "outputs": [
    {
     "data": {
      "text/plain": [
       "200"
      ]
     },
     "execution_count": 13,
     "metadata": {},
     "output_type": "execute_result"
    }
   ],
   "source": [
    "res.status_code"
   ]
  },
  {
   "cell_type": "code",
   "execution_count": 14,
   "metadata": {},
   "outputs": [],
   "source": [
    "soup = BeautifulSoup(res.content, 'lxml')"
   ]
  },
  {
   "cell_type": "code",
   "execution_count": 16,
   "metadata": {},
   "outputs": [
    {
     "data": {
      "text/plain": [
       "'Between MN 93; North 5th Street and US 169 (near Henderson). Look out for flooding. The road is closed.'"
      ]
     },
     "execution_count": 16,
     "metadata": {},
     "output_type": "execute_result"
    }
   ],
   "source": [
    "soup.find('div', {'class': \"reportBodyText\"}).text.strip()"
   ]
  },
  {
   "cell_type": "code",
   "execution_count": 17,
   "metadata": {},
   "outputs": [
    {
     "data": {
      "text/plain": [
       "'MN 19: Flooding.'"
      ]
     },
     "execution_count": 17,
     "metadata": {},
     "output_type": "execute_result"
    }
   ],
   "source": [
    "soup.find('table', {'class': \"reportTitleCritical\"}).text.strip()"
   ]
  },
  {
   "cell_type": "code",
   "execution_count": 19,
   "metadata": {},
   "outputs": [
    {
     "name": "stdout",
     "output_type": "stream",
     "text": [
      "MN 19: Flooding.\n",
      "MN 93: Flooding.\n",
      "MN 95: Road closed.\n",
      "US 75 in both directions: Flooding.\n",
      "MN 1: Flooding.\n",
      "MN 41: Flooding.\n",
      "MN 317: Flooding.\n",
      "MN 220: Flooding.\n",
      "US 75 in both directions: Flooding.\n",
      "US 75 in both directions: Flooding.\n",
      "MN 67: Road closed to traffic.\n",
      "MN 74 in both directions: Flooding.\n",
      "MN 60: Flooding.\n",
      "MN 67: Flooding.\n"
     ]
    }
   ],
   "source": [
    "headers = []\n",
    "for li in soup.find_all('table', {'class': \"reportTitleCritical\"}):\n",
    "    print(li.text.strip())\n",
    "    headers.append(li.text.strip())"
   ]
  },
  {
   "cell_type": "code",
   "execution_count": 20,
   "metadata": {},
   "outputs": [
    {
     "name": "stdout",
     "output_type": "stream",
     "text": [
      "Between MN 93; North 5th Street and US 169 (near Henderson). Look out for flooding. The road is closed.\n",
      "Between MN 93; North 5th Street and US 169 (near Henderson). Look out for flooding. The road is closed. Web Comment: Detour where possible\n",
      "Last updated on March 19\n",
      "Between US 169 (Le Sueur) and MN 19; North 5th Street (Henderson). Look out for flooding. The road is closed.\n",
      "Between US 169 (Le Sueur) and MN 19; North 5th Street (Henderson). Look out for flooding. The road is closed. Web Comment: Highway 93 under water. Closed from Highway 19 in Henderson to Highway 169 in both directions.\n",
      "Last updated on March 21\n",
      "At Fern Street North (Cambridge). The road is closed. There is a broken water main.\n",
      "At Fern Street North (Cambridge). The road is closed. There is a broken water main.\n",
      "Last updated today at 11:30am CDT\n",
      "Between 220th Avenue and 230th Avenue (Halstad). Look out for flooding. The road is closed. A detour is in operation.\n",
      "Between 220th Avenue and 230th Avenue (Halstad). Look out for flooding. The road is closed. A detour is in operation. Web Comment: No OSOW restrictions.\n",
      "Last updated on April 9\n",
      "Between North Dakota State Line (Oslo) and 470th Avenue Northwest (near Alvarado). Look out for flooding. The road is closed.\n",
      "Between North Dakota State Line (Oslo) and 470th Avenue Northwest (near Alvarado). Look out for flooding. The road is closed.\n",
      "Last updated on April 12\n",
      "Between US 169; Chestnut Boulevard (near Carver) and East 1st Street (near Chaska). Look out for flooding. The road is closed. Until today at about 7:00PM CDT.\n",
      "Between US 169; Chestnut Boulevard (near Carver) and East 1st Street (near Chaska). Look out for flooding. The road is closed. Until today at about 7:00PM CDT. Web Comment: TH. 41 is closed between Chaska Blvd and TH. 169. due to flooding.\n",
      "Last updated today at 3:32pm CDT\n",
      "Between North Dakota State Line and MN 220. Look out for flooding. The road is closed.\n",
      "Between North Dakota State Line and MN 220. Look out for flooding. The road is closed.\n",
      "Last updated on April 12\n",
      "Between MN 1; 490th Avenue Northwest and 390th Street Northwest (13 miles north of the Oslo area). Look out for flooding. The road is closed.\n",
      "Between MN 1; 490th Avenue Northwest and 390th Street Northwest (13 miles north of the Oslo area). Look out for flooding. The road is closed. Web Comment: This is between MN 1 and Marshall County Road #5\n",
      "Last updated on April 12\n",
      "At Northeast 3rd Street (Climax). Look out for flooding. The road is closed.\n",
      "At Northeast 3rd Street (Climax). Look out for flooding. The road is closed. Web Comment: Closed until further notice\n",
      "Last updated on April 11\n",
      "Between MN 200; 3rd Street East and 250th Avenue (Halstad). Look out for flooding. The road is closed.\n",
      "Between MN 200; 3rd Street East and 250th Avenue (Halstad). Look out for flooding. The road is closed.\n",
      "Last updated on April 11\n",
      "Between County Road B1 and 600th Street (1 mile east of the Granite Falls area). The road is closed to traffic. The road surface has collapsed.\n",
      "Between County Road B1 and 600th Street (1 mile east of the Granite Falls area). The road is closed to traffic. The road surface has collapsed.\n",
      "Last updated on April 5\n",
      "Between County Road 30 (1 mile north of the Elba area) and US 61 (near Minneiska). Look out for flooding. The road is closed. Use a detour where possible.\n",
      "Between County Road 30 (1 mile north of the Elba area) and US 61 (near Minneiska). Look out for flooding. The road is closed. Use a detour where possible. Web Comment: Road closed until further notice\n",
      "Last updated on March 26\n",
      "Between US 61 and Hiawatha Drive West (Wabasha). Look out for flooding. The road is closed.\n",
      "Between US 61 and Hiawatha Drive West (Wabasha). Look out for flooding. The road is closed.\n",
      "Last updated on March 27\n",
      "Between 558th Street and 255th Avenue (near Granite Falls). Look out for flooding. The road is closed.\n",
      "Between 558th Street and 255th Avenue (near Granite Falls). Look out for flooding. The road is closed. Web Comment: A portion of the roadway just west of the Yellow Medicine River Bridge on Highway 67 south of Granite Falls (near the state park entrance) has shifted, causing a significant drop in the driving lane and creating a hazardous condition.\n",
      "Last updated on April 9\n"
     ]
    }
   ],
   "source": [
    "text = []\n",
    "for li in soup.find_all('div', {'class': \"reportBodyText\"}):\n",
    "    print(li.text.strip())\n",
    "    text.append(li.text.strip())"
   ]
  },
  {
   "cell_type": "code",
   "execution_count": 21,
   "metadata": {},
   "outputs": [],
   "source": [
    "#the text of each element gets pulled in three times, need to only use the full text, which is the third\n",
    "text_full = text[0::3]"
   ]
  },
  {
   "cell_type": "code",
   "execution_count": 24,
   "metadata": {},
   "outputs": [],
   "source": [
    "d = {'Header':headers,'Text':text_full}"
   ]
  },
  {
   "cell_type": "code",
   "execution_count": 27,
   "metadata": {},
   "outputs": [],
   "source": [
    "df_mn_511 = pd.DataFrame(d)"
   ]
  },
  {
   "cell_type": "markdown",
   "metadata": {},
   "source": [
    "# Spacy Location Detection  <a class=\"anchor\" id=\"sixth-bullet\"></a>"
   ]
  },
  {
   "cell_type": "markdown",
   "metadata": {},
   "source": [
    "Below is a function that is defined to apply spaCy location detection to text columns.  spaCy is a package (imported above) that uses a neural network to extract named entities.  This can be used to identify people, places, locations, companies, among others.  In this case we will be looking to extract location names.  These named locations will be used to both in the data preperation step of our modeling as well as in the final mapping stage."
   ]
  },
  {
   "cell_type": "code",
   "execution_count": 17,
   "metadata": {},
   "outputs": [],
   "source": [
    "# apply spacy function\n",
    "def apply_spacy(input_column):\n",
    "    locations = []\n",
    "    for i in input_column:\n",
    "        doc = nlp(i)\n",
    "        locations.append([(X.text, X.label_) for X in doc.ents])\n",
    "    locations_and_dates = []\n",
    "    for i in locations:\n",
    "# the GPE list contains more categories than we are interested in.  we really are only looking for locations and dates\n",
    "#so we will filter the list here to those two categories before we append it to our dataframe\n",
    "        #print(i)\n",
    "        locs = []\n",
    "        for j in i:\n",
    "            if j[1] in ('DATE', 'GPE'):\n",
    "                locs.append(j)\n",
    "        locations_and_dates.append(locs)\n",
    "    print(locations_and_dates)\n",
    "    return locations_and_dates"
   ]
  },
  {
   "cell_type": "markdown",
   "metadata": {},
   "source": [
    "## Apply Spacy to Weather API"
   ]
  },
  {
   "cell_type": "code",
   "execution_count": 18,
   "metadata": {},
   "outputs": [
    {
     "name": "stdout",
     "output_type": "stream",
     "text": [
      "[[], [('Savageton', 'GPE')], [('Indiana', 'GPE'), ('Indiana', 'GPE'), ('Thursday', 'DATE'), ('Tuesday', 'DATE'), ('tomorrow', 'DATE'), ('the week', 'DATE'), ('Rivervale', 'GPE'), ('Sunday', 'DATE'), ('Monday April 29', 'DATE'), ('Saturday', 'DATE'), ('Sunday', 'DATE'), ('Wednesday', 'DATE'), ('Sunday April 28', 'DATE')], [('Indiana', 'GPE'), ('Indiana', 'GPE'), ('Thursday', 'DATE'), ('Tuesday', 'DATE'), ('tomorrow', 'DATE'), ('the week', 'DATE'), ('Seymour', 'GPE'), ('Thursday', 'DATE'), ('Saturday', 'DATE'), ('Sunday', 'DATE'), ('June 2010', 'DATE'), ('a few days earlier', 'DATE')], [('Indiana', 'GPE'), ('Indiana', 'GPE'), ('Thursday', 'DATE'), ('Tuesday', 'DATE'), ('tomorrow', 'DATE'), ('the week', 'DATE'), ('Columbus', 'GPE'), ('Saturday', 'DATE'), ('Sunday', 'DATE'), ('Monday', 'DATE'), ('April 6, 2011', 'DATE')], [('Indiana', 'GPE'), ('Indiana', 'GPE'), ('Thursday', 'DATE'), ('Tuesday', 'DATE'), ('tomorrow', 'DATE'), ('the week', 'DATE'), ('Ridgeville', 'GPE'), ('Saturday', 'DATE'), ('Randolph County', 'GPE'), ('Ridgeville', 'GPE')], [('Indiana', 'GPE'), ('Indiana', 'GPE'), ('Thursday', 'DATE'), ('Tuesday', 'DATE'), ('tomorrow', 'DATE'), ('the week', 'DATE'), ('Noblesville', 'GPE'), ('Saturday', 'DATE'), ('Sunday', 'DATE'), ('Sunday', 'DATE'), ('Sunday', 'DATE'), ('Noblesville', 'GPE')], [('Indiana', 'GPE'), ('Indiana', 'GPE'), ('Thursday', 'DATE'), ('Tuesday', 'DATE'), ('tomorrow', 'DATE'), ('the week', 'DATE'), ('Sunday', 'DATE'), ('Saturday', 'DATE')], [('Indiana', 'GPE'), ('Indiana', 'GPE'), ('Thursday', 'DATE'), ('Tuesday', 'DATE'), ('tomorrow', 'DATE'), ('the week', 'DATE'), ('Saturday', 'DATE'), ('Bartholomew County', 'GPE'), ('April 6, 2011', 'DATE'), ('CR', 'GPE'), ('CR', 'GPE'), ('1000S', 'DATE'), ('CR', 'GPE')], [('Indiana', 'GPE'), ('Indiana', 'GPE'), ('Thursday', 'DATE'), ('Tuesday', 'DATE'), ('tomorrow', 'DATE'), ('the week', 'DATE'), ('Saturday', 'DATE'), ('Thursday', 'DATE'), ('Gosport', 'GPE')], [('Indiana', 'GPE'), ('Indiana', 'GPE'), ('Thursday', 'DATE'), ('Tuesday', 'DATE'), ('tomorrow', 'DATE'), ('the week', 'DATE'), ('Saturday', 'DATE')], [('Indiana', 'GPE'), ('Indiana', 'GPE'), ('Thursday', 'DATE'), ('Tuesday', 'DATE'), ('tomorrow', 'DATE'), ('the week', 'DATE'), ('Elliston', 'GPE'), ('Saturday April 27', 'DATE'), ('Saturday', 'DATE'), ('Sunday', 'DATE'), ('Friday', 'DATE')], [('Indiana', 'GPE'), ('Indiana', 'GPE'), ('Thursday', 'DATE'), ('Tuesday', 'DATE'), ('tomorrow', 'DATE'), ('the week', 'DATE'), ('Sunday April 28', 'DATE'), ('Saturday', 'DATE'), ('Monday', 'DATE'), ('Saturday April 27', 'DATE'), ('June 2010', 'DATE'), ('March 2011', 'DATE'), ('Plainville', 'GPE')], [('Indiana', 'GPE'), ('Indiana', 'GPE'), ('Thursday', 'DATE'), ('Tuesday', 'DATE'), ('tomorrow', 'DATE'), ('the week', 'DATE'), ('Sunday', 'DATE'), ('Monday', 'DATE'), ('Ravenswood', 'GPE')], [('Indiana', 'GPE'), ('Indiana', 'GPE'), ('Thursday', 'DATE'), ('Tuesday', 'DATE'), ('tomorrow', 'DATE'), ('the week', 'DATE'), ('Bedford', 'GPE'), ('Monday', 'DATE'), ('Wednesday', 'DATE'), ('Sunday April 28', 'DATE')], [('Indiana', 'GPE'), ('Indiana', 'GPE'), ('Thursday', 'DATE'), ('Tuesday', 'DATE'), ('tomorrow', 'DATE'), ('the week', 'DATE'), ('Saturday', 'DATE'), ('Sunday', 'DATE'), ('Monday', 'DATE')], [('Indiana', 'GPE'), ('Indiana', 'GPE'), ('Thursday', 'DATE'), ('Tuesday', 'DATE'), ('tomorrow', 'DATE'), ('the week', 'DATE'), ('Monday April 29', 'DATE'), ('Saturday', 'DATE'), ('Monday', 'DATE'), ('Sunday April 28', 'DATE')], [('Indiana', 'GPE'), ('Indiana', 'GPE'), ('Thursday', 'DATE'), ('Tuesday', 'DATE'), ('tomorrow', 'DATE'), ('the week', 'DATE'), ('Saturday', 'DATE'), ('April 20, 2011', 'DATE')], [('Perry', 'GPE'), ('Brigham City', 'GPE'), ('Logan', 'GPE'), ('Brigham City', 'GPE'), ('Hyrum', 'GPE'), ('Perry', 'GPE'), ('Wellsville', 'GPE'), ('Willard', 'GPE'), ('Mantua', 'GPE'), ('Corinne', 'GPE'), ('South Willard', 'GPE'), ('North Logan', 'GPE'), ('Park', 'GPE'), ('Millville', 'GPE'), ('River Heights', 'GPE'), ('Honeyville', 'GPE')], [('Columbus', 'GPE'), ('Columbus', 'GPE'), ('Joliet', 'GPE'), ('Absarokee', 'GPE'), ('Park City', 'GPE'), ('Boyd', 'GPE')], [('Friday', 'DATE'), ('Sunday', 'DATE'), ('Cape Hatteras', 'GPE'), ('Sunday', 'DATE'), ('Oregon', 'GPE'), ('Beaufort Inlet', 'GPE')], [], [('Juneau', 'GPE'), ('Monday', 'DATE')], [('Juneau', 'GPE'), ('Monday', 'DATE'), ('Petersburg', 'GPE')], [('Juneau', 'GPE'), ('Monday', 'DATE'), ('Monday', 'DATE'), ('Skagway', 'GPE')], [('Juneau', 'GPE'), ('Monday', 'DATE'), ('Angoon', 'GPE')], [('Juneau', 'GPE'), ('Sunday', 'DATE'), ('Wales Island', 'GPE'), ('Hydaburg', 'GPE'), ('Metlakatla', 'GPE')], [('Juneau', 'GPE'), ('Monday', 'DATE'), ('Monday', 'DATE')], [('Sunday', 'DATE'), ('Monday', 'DATE')], [('Sunday', 'DATE'), ('Monday', 'DATE')], [('Sunday', 'DATE'), ('Monday', 'DATE')], [('Sunday', 'DATE'), ('Monday', 'DATE')], [('Sunday', 'DATE'), ('Monday', 'DATE')], [('Sunday', 'DATE'), ('Monday', 'DATE')], [('Sunday', 'DATE'), ('Monday', 'DATE')], [('Reno', 'GPE'), ('Sunday', 'DATE'), ('Sunday', 'DATE'), ('Sunday', 'DATE')], [('Minnesota River', 'GPE'), ('Aberdeen', 'GPE'), ('Saturday', 'DATE')], [('Sunday', 'DATE'), ('The Seacoast of New Hampshire', 'GPE'), ('Maine', 'GPE')], [('Montana', 'GPE'), ('Monday', 'DATE'), ('the North Fork', 'GPE'), ('Meagher County', 'GPE'), ('Monday', 'DATE')], [('Cleveland', 'GPE'), ('Sunday', 'DATE')], [('Albany', 'GPE'), ('Saturday', 'DATE'), ('Sunday', 'DATE'), ('Sunday', 'DATE')], [('Albany', 'GPE'), ('Sunday', 'DATE'), ('Saturday', 'DATE'), ('Sunday', 'DATE'), ('Sunday', 'DATE')], [('Albany', 'GPE'), ('Saturday', 'DATE'), ('Sunday', 'DATE'), ('Monday', 'DATE')], [('Sunday', 'DATE')], [('Sunday', 'DATE')], [('HOUSTON', 'GPE'), ('21 2019', 'DATE'), ('HOUSTON', 'GPE')], [('Burlington', 'GPE'), ('Sunday', 'DATE'), ('Saturday', 'DATE'), ('Saturday', 'DATE'), ('Saturday', 'DATE'), ('Essex', 'GPE')], [('Penobscot River', 'GPE'), ('Saturday', 'DATE'), ('early tomorrow', 'DATE'), ('tomorrow early afternoon', 'DATE'), ('Minor', 'GPE')], [('Penobscot River', 'GPE'), ('Sunday', 'DATE'), ('Saturday', 'DATE'), ('tomorrow', 'DATE'), ('tomorrow', 'DATE'), ('Minor', 'GPE')], [('Penobscot River', 'GPE'), ('Saturday', 'DATE'), ('Monday', 'DATE'), ('Minor', 'GPE'), ('Flooding', 'GPE')], [('Penobscot River', 'GPE'), ('Saturday', 'DATE'), ('tomorrow', 'DATE'), ('Flooding', 'GPE'), ('Flooding', 'GPE')], [('Imnaha', 'GPE'), ('Wallowa County', 'GPE'), ('Pendleton', 'GPE'), ('Saturday', 'DATE'), ('tomorrow', 'DATE'), ('tomorrow', 'DATE')], [('Imnaha', 'GPE'), ('Wallowa County', 'GPE'), ('Pendleton', 'GPE'), ('early Sunday', 'DATE'), ('Sunday', 'DATE')], [('Indiana', 'GPE'), ('Louisville', 'GPE'), ('KY', 'GPE'), ('Saturday', 'DATE'), ('Mar 1 2017', 'DATE')], [('Vulnerable', 'GPE')], [('Missoula', 'GPE'), ('Central Idaho County', 'GPE'), ('Idaho', 'GPE'), ('Harpster', 'GPE')], [('Manistique', 'GPE'), ('Schoolcraft County', 'GPE'), ('the weekend', 'DATE'), ('the weekend', 'DATE'), ('early next week', 'DATE'), ('Monday', 'DATE'), ('early Tuesday', 'DATE'), ('Marquette', 'GPE'), ('Manistique', 'GPE'), ('Saturday', 'DATE')], [('Missoula', 'GPE'), ('South Fork Clearwater River', 'GPE'), ('Idaho', 'GPE')], [('Asheville', 'GPE'), ('Buncombe County', 'GPE'), ('Greenville', 'GPE'), ('Asheville', 'GPE'), ('Friday', 'DATE'), ('Saturday', 'DATE'), ('Broad River', 'GPE'), ('Emma', 'GPE')], [('Burlington', 'GPE'), ('New York', 'GPE'), ('Vermont', 'GPE'), ('Sunday', 'DATE'), ('Friday', 'DATE'), ('Saturday', 'DATE'), ('Lamoille', 'GPE'), ('Friday', 'DATE'), ('the day Saturday', 'DATE'), ('Saturday', 'DATE'), ('this weekend', 'DATE'), ('early next week', 'DATE')]]\n"
     ]
    }
   ],
   "source": [
    "weather_df['location'] = apply_spacy(weather_df['description'] )"
   ]
  },
  {
   "cell_type": "code",
   "execution_count": 15,
   "metadata": {},
   "outputs": [],
   "source": [
    "#weather_df.to_csv('./data/weather_api.csv')"
   ]
  },
  {
   "cell_type": "markdown",
   "metadata": {},
   "source": [
    "## Apply Spacy to News API"
   ]
  },
  {
   "cell_type": "code",
   "execution_count": 111,
   "metadata": {},
   "outputs": [
    {
     "data": {
      "text/plain": [
       "119"
      ]
     },
     "execution_count": 111,
     "metadata": {},
     "output_type": "execute_result"
    }
   ],
   "source": [
    "# there are  rows with null content, these should be removed\n",
    "df_news_all_topics.content.isnull().sum()"
   ]
  },
  {
   "cell_type": "code",
   "execution_count": 112,
   "metadata": {},
   "outputs": [],
   "source": [
    "df_news_all_topics = df_news_all_topics.dropna(subset=['content'])"
   ]
  },
  {
   "cell_type": "code",
   "execution_count": 113,
   "metadata": {},
   "outputs": [
    {
     "data": {
      "text/plain": [
       "0"
      ]
     },
     "execution_count": 113,
     "metadata": {},
     "output_type": "execute_result"
    }
   ],
   "source": [
    "df_news_all_topics.content.isnull().sum()"
   ]
  },
  {
   "cell_type": "code",
   "execution_count": null,
   "metadata": {},
   "outputs": [],
   "source": [
    "df_news_all_topics['locations_and_times']  = apply_spacy(df_news_all_topics['content'] )"
   ]
  },
  {
   "cell_type": "code",
   "execution_count": 120,
   "metadata": {},
   "outputs": [],
   "source": [
    "df_news_export = df_news_all_topics[['publishedAt', 'content', 'url', 'locations_and_times']]"
   ]
  },
  {
   "cell_type": "code",
   "execution_count": null,
   "metadata": {},
   "outputs": [],
   "source": [
    "#df_news_export.to_csv(./data/news_api.csv)"
   ]
  },
  {
   "cell_type": "markdown",
   "metadata": {},
   "source": [
    "## Apply Spacy to MN 511"
   ]
  },
  {
   "cell_type": "code",
   "execution_count": 28,
   "metadata": {},
   "outputs": [
    {
     "data": {
      "text/html": [
       "<div>\n",
       "<style scoped>\n",
       "    .dataframe tbody tr th:only-of-type {\n",
       "        vertical-align: middle;\n",
       "    }\n",
       "\n",
       "    .dataframe tbody tr th {\n",
       "        vertical-align: top;\n",
       "    }\n",
       "\n",
       "    .dataframe thead th {\n",
       "        text-align: right;\n",
       "    }\n",
       "</style>\n",
       "<table border=\"1\" class=\"dataframe\">\n",
       "  <thead>\n",
       "    <tr style=\"text-align: right;\">\n",
       "      <th></th>\n",
       "      <th>Header</th>\n",
       "      <th>Text</th>\n",
       "    </tr>\n",
       "  </thead>\n",
       "  <tbody>\n",
       "    <tr>\n",
       "      <th>0</th>\n",
       "      <td>MN 19: Flooding.</td>\n",
       "      <td>Between MN 93; North 5th Street and US 169 (ne...</td>\n",
       "    </tr>\n",
       "    <tr>\n",
       "      <th>1</th>\n",
       "      <td>MN 93: Flooding.</td>\n",
       "      <td>Between US 169 (Le Sueur) and MN 19; North 5th...</td>\n",
       "    </tr>\n",
       "    <tr>\n",
       "      <th>2</th>\n",
       "      <td>MN 95: Road closed.</td>\n",
       "      <td>At Fern Street North (Cambridge). The road is ...</td>\n",
       "    </tr>\n",
       "    <tr>\n",
       "      <th>3</th>\n",
       "      <td>US 75 in both directions: Flooding.</td>\n",
       "      <td>Between 220th Avenue and 230th Avenue (Halstad...</td>\n",
       "    </tr>\n",
       "    <tr>\n",
       "      <th>4</th>\n",
       "      <td>MN 1: Flooding.</td>\n",
       "      <td>Between North Dakota State Line (Oslo) and 470...</td>\n",
       "    </tr>\n",
       "  </tbody>\n",
       "</table>\n",
       "</div>"
      ],
      "text/plain": [
       "                                Header  \\\n",
       "0                     MN 19: Flooding.   \n",
       "1                     MN 93: Flooding.   \n",
       "2                  MN 95: Road closed.   \n",
       "3  US 75 in both directions: Flooding.   \n",
       "4                      MN 1: Flooding.   \n",
       "\n",
       "                                                Text  \n",
       "0  Between MN 93; North 5th Street and US 169 (ne...  \n",
       "1  Between US 169 (Le Sueur) and MN 19; North 5th...  \n",
       "2  At Fern Street North (Cambridge). The road is ...  \n",
       "3  Between 220th Avenue and 230th Avenue (Halstad...  \n",
       "4  Between North Dakota State Line (Oslo) and 470...  "
      ]
     },
     "execution_count": 28,
     "metadata": {},
     "output_type": "execute_result"
    }
   ],
   "source": [
    "df_mn_511.head()"
   ]
  },
  {
   "cell_type": "code",
   "execution_count": 41,
   "metadata": {},
   "outputs": [],
   "source": [
    "df_mn_511['locations_and_times'] = apply_spacy(df_mn_511['Text'] )"
   ]
  },
  {
   "cell_type": "code",
   "execution_count": 42,
   "metadata": {},
   "outputs": [
    {
     "data": {
      "text/html": [
       "<div>\n",
       "<style scoped>\n",
       "    .dataframe tbody tr th:only-of-type {\n",
       "        vertical-align: middle;\n",
       "    }\n",
       "\n",
       "    .dataframe tbody tr th {\n",
       "        vertical-align: top;\n",
       "    }\n",
       "\n",
       "    .dataframe thead th {\n",
       "        text-align: right;\n",
       "    }\n",
       "</style>\n",
       "<table border=\"1\" class=\"dataframe\">\n",
       "  <thead>\n",
       "    <tr style=\"text-align: right;\">\n",
       "      <th></th>\n",
       "      <th>Header</th>\n",
       "      <th>Text</th>\n",
       "      <th>locations_and_times</th>\n",
       "    </tr>\n",
       "  </thead>\n",
       "  <tbody>\n",
       "    <tr>\n",
       "      <th>0</th>\n",
       "      <td>MN 19: Flooding.</td>\n",
       "      <td>Between MN 93; North 5th Street and US 169 (ne...</td>\n",
       "      <td>[(North 5th Street, GPE), (Henderson, GPE)]</td>\n",
       "    </tr>\n",
       "    <tr>\n",
       "      <th>1</th>\n",
       "      <td>MN 93: Flooding.</td>\n",
       "      <td>Between US 169 (Le Sueur) and MN 19; North 5th...</td>\n",
       "      <td>[(US, GPE)]</td>\n",
       "    </tr>\n",
       "    <tr>\n",
       "      <th>2</th>\n",
       "      <td>MN 95: Road closed.</td>\n",
       "      <td>At Fern Street North (Cambridge). The road is ...</td>\n",
       "      <td>[]</td>\n",
       "    </tr>\n",
       "    <tr>\n",
       "      <th>3</th>\n",
       "      <td>US 75 in both directions: Flooding.</td>\n",
       "      <td>Between 220th Avenue and 230th Avenue (Halstad...</td>\n",
       "      <td>[]</td>\n",
       "    </tr>\n",
       "    <tr>\n",
       "      <th>4</th>\n",
       "      <td>MN 1: Flooding.</td>\n",
       "      <td>Between North Dakota State Line (Oslo) and 470...</td>\n",
       "      <td>[(North Dakota, GPE), (Oslo, GPE), (Alvarado, ...</td>\n",
       "    </tr>\n",
       "    <tr>\n",
       "      <th>5</th>\n",
       "      <td>MN 41: Flooding.</td>\n",
       "      <td>Between US 169; Chestnut Boulevard (near Carve...</td>\n",
       "      <td>[(US, GPE), (Carver, GPE), (Chaska, GPE), (tod...</td>\n",
       "    </tr>\n",
       "    <tr>\n",
       "      <th>6</th>\n",
       "      <td>MN 317: Flooding.</td>\n",
       "      <td>Between North Dakota State Line and MN 220. Lo...</td>\n",
       "      <td>[(North Dakota State Line, GPE)]</td>\n",
       "    </tr>\n",
       "    <tr>\n",
       "      <th>7</th>\n",
       "      <td>MN 220: Flooding.</td>\n",
       "      <td>Between MN 1; 490th Avenue Northwest and 390th...</td>\n",
       "      <td>[(Oslo, GPE)]</td>\n",
       "    </tr>\n",
       "    <tr>\n",
       "      <th>8</th>\n",
       "      <td>US 75 in both directions: Flooding.</td>\n",
       "      <td>At Northeast 3rd Street (Climax). Look out for...</td>\n",
       "      <td>[]</td>\n",
       "    </tr>\n",
       "    <tr>\n",
       "      <th>9</th>\n",
       "      <td>US 75 in both directions: Flooding.</td>\n",
       "      <td>Between MN 200; 3rd Street East and 250th Aven...</td>\n",
       "      <td>[]</td>\n",
       "    </tr>\n",
       "    <tr>\n",
       "      <th>10</th>\n",
       "      <td>MN 67: Road closed to traffic.</td>\n",
       "      <td>Between County Road B1 and 600th Street (1 mil...</td>\n",
       "      <td>[]</td>\n",
       "    </tr>\n",
       "    <tr>\n",
       "      <th>11</th>\n",
       "      <td>MN 74 in both directions: Flooding.</td>\n",
       "      <td>Between County Road 30 (1 mile north of the El...</td>\n",
       "      <td>[(Elba, GPE), (US, GPE), (Minneiska, GPE)]</td>\n",
       "    </tr>\n",
       "    <tr>\n",
       "      <th>12</th>\n",
       "      <td>MN 60: Flooding.</td>\n",
       "      <td>Between US 61 and Hiawatha Drive West (Wabasha...</td>\n",
       "      <td>[(US, GPE), (61, DATE), (Hiawatha Drive West, ...</td>\n",
       "    </tr>\n",
       "    <tr>\n",
       "      <th>13</th>\n",
       "      <td>MN 67: Flooding.</td>\n",
       "      <td>Between 558th Street and 255th Avenue (near Gr...</td>\n",
       "      <td>[]</td>\n",
       "    </tr>\n",
       "  </tbody>\n",
       "</table>\n",
       "</div>"
      ],
      "text/plain": [
       "                                 Header  \\\n",
       "0                      MN 19: Flooding.   \n",
       "1                      MN 93: Flooding.   \n",
       "2                   MN 95: Road closed.   \n",
       "3   US 75 in both directions: Flooding.   \n",
       "4                       MN 1: Flooding.   \n",
       "5                      MN 41: Flooding.   \n",
       "6                     MN 317: Flooding.   \n",
       "7                     MN 220: Flooding.   \n",
       "8   US 75 in both directions: Flooding.   \n",
       "9   US 75 in both directions: Flooding.   \n",
       "10       MN 67: Road closed to traffic.   \n",
       "11  MN 74 in both directions: Flooding.   \n",
       "12                     MN 60: Flooding.   \n",
       "13                     MN 67: Flooding.   \n",
       "\n",
       "                                                 Text  \\\n",
       "0   Between MN 93; North 5th Street and US 169 (ne...   \n",
       "1   Between US 169 (Le Sueur) and MN 19; North 5th...   \n",
       "2   At Fern Street North (Cambridge). The road is ...   \n",
       "3   Between 220th Avenue and 230th Avenue (Halstad...   \n",
       "4   Between North Dakota State Line (Oslo) and 470...   \n",
       "5   Between US 169; Chestnut Boulevard (near Carve...   \n",
       "6   Between North Dakota State Line and MN 220. Lo...   \n",
       "7   Between MN 1; 490th Avenue Northwest and 390th...   \n",
       "8   At Northeast 3rd Street (Climax). Look out for...   \n",
       "9   Between MN 200; 3rd Street East and 250th Aven...   \n",
       "10  Between County Road B1 and 600th Street (1 mil...   \n",
       "11  Between County Road 30 (1 mile north of the El...   \n",
       "12  Between US 61 and Hiawatha Drive West (Wabasha...   \n",
       "13  Between 558th Street and 255th Avenue (near Gr...   \n",
       "\n",
       "                                  locations_and_times  \n",
       "0         [(North 5th Street, GPE), (Henderson, GPE)]  \n",
       "1                                         [(US, GPE)]  \n",
       "2                                                  []  \n",
       "3                                                  []  \n",
       "4   [(North Dakota, GPE), (Oslo, GPE), (Alvarado, ...  \n",
       "5   [(US, GPE), (Carver, GPE), (Chaska, GPE), (tod...  \n",
       "6                    [(North Dakota State Line, GPE)]  \n",
       "7                                       [(Oslo, GPE)]  \n",
       "8                                                  []  \n",
       "9                                                  []  \n",
       "10                                                 []  \n",
       "11         [(Elba, GPE), (US, GPE), (Minneiska, GPE)]  \n",
       "12  [(US, GPE), (61, DATE), (Hiawatha Drive West, ...  \n",
       "13                                                 []  "
      ]
     },
     "execution_count": 42,
     "metadata": {},
     "output_type": "execute_result"
    }
   ],
   "source": [
    "df_mn_511"
   ]
  },
  {
   "cell_type": "code",
   "execution_count": 44,
   "metadata": {},
   "outputs": [],
   "source": [
    "#df_mn_511.to_csv('./data/mn_511.csv')"
   ]
  },
  {
   "cell_type": "markdown",
   "metadata": {},
   "source": [
    "Now that we have pulled in our data, applied Spacy named entities to it, and exported all needed files to CSV.  We will begin modelling our data to filter it down to only relevant alerts.  Finally, we will map these relevant road closures."
   ]
  }
 ],
 "metadata": {
  "kernelspec": {
   "display_name": "Python 3",
   "language": "python",
   "name": "python3"
  },
  "language_info": {
   "codemirror_mode": {
    "name": "ipython",
    "version": 3
   },
   "file_extension": ".py",
   "mimetype": "text/x-python",
   "name": "python",
   "nbconvert_exporter": "python",
   "pygments_lexer": "ipython3",
   "version": "3.6.7"
  }
 },
 "nbformat": 4,
 "nbformat_minor": 2
}
