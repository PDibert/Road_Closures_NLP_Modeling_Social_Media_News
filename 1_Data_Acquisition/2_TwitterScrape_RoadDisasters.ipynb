{
 "cells": [
  {
   "cell_type": "markdown",
   "metadata": {},
   "source": [
    "# Twitter Scrape\n",
    "> Jasmine Vasandani\n",
    "\n",
    "Scrape tweets from official Minnesota Dept of Transportation accounts. "
   ]
  },
  {
   "cell_type": "markdown",
   "metadata": {},
   "source": [
    "### Import Libraries"
   ]
  },
  {
   "cell_type": "code",
   "execution_count": 1,
   "metadata": {
    "scrolled": true
   },
   "outputs": [
    {
     "name": "stdout",
     "output_type": "stream",
     "text": [
      "/Users/jasminevasandani/Public_GitHub/road_closures_nlp_tweets_news/2_Data_Acquisition/GetOldTweets3\n"
     ]
    }
   ],
   "source": [
    "import pandas as pd\n",
    "import tweepy\n",
    "%cd './GetOldTweets3'\n",
    "#!pip install -r requirements.txt\n",
    "import GetOldTweets3 as got"
   ]
  },
  {
   "cell_type": "code",
   "execution_count": 2,
   "metadata": {},
   "outputs": [
    {
     "name": "stdout",
     "output_type": "stream",
     "text": [
      "/Users/jasminevasandani/Public_GitHub/road_closures_nlp_tweets_news/2_Data_Acquisition\n"
     ]
    }
   ],
   "source": [
    "%cd '..'"
   ]
  },
  {
   "cell_type": "markdown",
   "metadata": {},
   "source": [
    "### Add Tweepy OAuth Keys"
   ]
  },
  {
   "cell_type": "code",
   "execution_count": 2,
   "metadata": {},
   "outputs": [],
   "source": [
    "consumer_key = ''\n",
    "consumer_secret = ''\n",
    "\n",
    "access_token = ''\n",
    "access_token_secret = ''"
   ]
  },
  {
   "cell_type": "markdown",
   "metadata": {},
   "source": [
    "### Instantiate Tweepy"
   ]
  },
  {
   "cell_type": "code",
   "execution_count": 3,
   "metadata": {},
   "outputs": [],
   "source": [
    "auth = tweepy.OAuthHandler(consumer_key, consumer_secret)\n",
    "auth.set_access_token(access_token, access_token_secret)\n",
    "\n",
    "api = tweepy.API(auth, wait_on_rate_limit_notify=True)"
   ]
  },
  {
   "cell_type": "markdown",
   "metadata": {},
   "source": [
    "### I created a Twitter Account @RClosures and followed all official transportation agencies, focusing specifically on Minnesota (they experience regular road closures due to severe weather conditions)"
   ]
  },
  {
   "cell_type": "code",
   "execution_count": 4,
   "metadata": {},
   "outputs": [
    {
     "data": {
      "text/plain": [
       "['MnDOTcentral',\n",
       " 'mndotsoutheast',\n",
       " 'mndotwcentral',\n",
       " 'mndotscentral',\n",
       " 'MnDOTnorthwest',\n",
       " 'MnDPS_MSP',\n",
       " 'MnDOTnews',\n",
       " 'MnDOTtraffic']"
      ]
     },
     "execution_count": 4,
     "metadata": {},
     "output_type": "execute_result"
    }
   ],
   "source": [
    "# Get info from @RClosures\n",
    "user = api.get_user('rclosures')\n",
    "\n",
    "# Create empty list to store all accounts followed by @RClosures\n",
    "mn_accounts = []\n",
    "\n",
    "# Loop through all accounts I follow and add their screen names to the empty list above\n",
    "for friend in user.friends():\n",
    "    mn_accounts.append(friend.screen_name)\n",
    "\n",
    "# Show list\n",
    "mn_accounts"
   ]
  },
  {
   "cell_type": "markdown",
   "metadata": {},
   "source": [
    "# Scrape Tweets using [GOT](https://github.com/Jefferson-Henrique/GetOldTweets-python) \n",
    "(hat tip: Haya Toumy)\n",
    "**Note**: The notebook can be run HERE starting with this section. You do not need to run Tweepy since all the account names are already saved to a variable below, `mn_accounts`"
   ]
  },
  {
   "cell_type": "markdown",
   "metadata": {},
   "source": [
    "### MN Official Accounts"
   ]
  },
  {
   "cell_type": "code",
   "execution_count": 3,
   "metadata": {},
   "outputs": [],
   "source": [
    "mn_accounts = ['MnDOTcentral', 'mndotsoutheast', 'mndotwcentral', 'mndotscentral', 'MnDOTnorthwest', 'MnDPS_MSP', 'MnDOTnews', 'MnDOTtraffic']"
   ]
  },
  {
   "cell_type": "code",
   "execution_count": 48,
   "metadata": {},
   "outputs": [
    {
     "name": "stdout",
     "output_type": "stream",
     "text": [
      "Shape of DataFrame: (13219, 6)\n"
     ]
    },
    {
     "data": {
      "text/html": [
       "<div>\n",
       "<style scoped>\n",
       "    .dataframe tbody tr th:only-of-type {\n",
       "        vertical-align: middle;\n",
       "    }\n",
       "\n",
       "    .dataframe tbody tr th {\n",
       "        vertical-align: top;\n",
       "    }\n",
       "\n",
       "    .dataframe thead th {\n",
       "        text-align: right;\n",
       "    }\n",
       "</style>\n",
       "<table border=\"1\" class=\"dataframe\">\n",
       "  <thead>\n",
       "    <tr style=\"text-align: right;\">\n",
       "      <th></th>\n",
       "      <th>date</th>\n",
       "      <th>geo</th>\n",
       "      <th>hashtags</th>\n",
       "      <th>text</th>\n",
       "      <th>type</th>\n",
       "      <th>username</th>\n",
       "    </tr>\n",
       "  </thead>\n",
       "  <tbody>\n",
       "    <tr>\n",
       "      <th>0</th>\n",
       "      <td>2019-04-12 12:40:24+00:00</td>\n",
       "      <td></td>\n",
       "      <td></td>\n",
       "      <td>Crash at Hwy 12/25 south of Buffalo. Traffic i...</td>\n",
       "      <td>official</td>\n",
       "      <td>MnDOTcentral</td>\n",
       "    </tr>\n",
       "    <tr>\n",
       "      <th>1</th>\n",
       "      <td>2019-04-12 00:05:20+00:00</td>\n",
       "      <td></td>\n",
       "      <td></td>\n",
       "      <td>WB I-94, west of Sauk Centre- closed due to du...</td>\n",
       "      <td>official</td>\n",
       "      <td>MnDOTcentral</td>\n",
       "    </tr>\n",
       "    <tr>\n",
       "      <th>2</th>\n",
       "      <td>2019-04-11 22:30:44+00:00</td>\n",
       "      <td></td>\n",
       "      <td></td>\n",
       "      <td>No travel advised on Hwy 169 along the west si...</td>\n",
       "      <td>official</td>\n",
       "      <td>MnDOTcentral</td>\n",
       "    </tr>\n",
       "    <tr>\n",
       "      <th>3</th>\n",
       "      <td>2019-04-11 22:17:09+00:00</td>\n",
       "      <td></td>\n",
       "      <td>#Stearns #centralMN</td>\n",
       "      <td>No Travel Advised has been expanded to include...</td>\n",
       "      <td>official</td>\n",
       "      <td>MnDOTcentral</td>\n",
       "    </tr>\n",
       "    <tr>\n",
       "      <th>4</th>\n",
       "      <td>2019-04-11 19:49:47+00:00</td>\n",
       "      <td></td>\n",
       "      <td></td>\n",
       "      <td>No Travel Advisory issued for I-94 through @St...</td>\n",
       "      <td>official</td>\n",
       "      <td>MnDOTcentral</td>\n",
       "    </tr>\n",
       "  </tbody>\n",
       "</table>\n",
       "</div>"
      ],
      "text/plain": [
       "                       date geo             hashtags  \\\n",
       "0 2019-04-12 12:40:24+00:00                            \n",
       "1 2019-04-12 00:05:20+00:00                            \n",
       "2 2019-04-11 22:30:44+00:00                            \n",
       "3 2019-04-11 22:17:09+00:00      #Stearns #centralMN   \n",
       "4 2019-04-11 19:49:47+00:00                            \n",
       "\n",
       "                                                text      type      username  \n",
       "0  Crash at Hwy 12/25 south of Buffalo. Traffic i...  official  MnDOTcentral  \n",
       "1  WB I-94, west of Sauk Centre- closed due to du...  official  MnDOTcentral  \n",
       "2  No travel advised on Hwy 169 along the west si...  official  MnDOTcentral  \n",
       "3  No Travel Advised has been expanded to include...  official  MnDOTcentral  \n",
       "4  No Travel Advisory issued for I-94 through @St...  official  MnDOTcentral  "
      ]
     },
     "execution_count": 48,
     "metadata": {},
     "output_type": "execute_result"
    }
   ],
   "source": [
    "# Empty list to store tweets\n",
    "mn_traffic = []\n",
    "\n",
    "# For loop to scrape tweets from all usernames I specified\n",
    "for account in mn_accounts:\n",
    "    tweetCriteria = got.manager.TweetCriteria().setUsername(account).setSince(\"2016-04-01\").setUntil(\"2019-04-13\")\n",
    "    tweet = got.manager.TweetManager.getTweets(tweetCriteria)\n",
    "    for i in range(len(tweet)):\n",
    "        tweet_dict = {}\n",
    "        tweet_dict['username'] = tweet[i].username\n",
    "        tweet_dict['date'] = tweet[i].date\n",
    "        tweet_dict['text'] = tweet[i].text\n",
    "        tweet_dict['hashtags'] = tweet[i].hashtags\n",
    "        tweet_dict['geo'] = tweet[i].geo\n",
    "        tweet_dict['type'] = 'official'\n",
    "        mn_traffic.append(tweet_dict)\n",
    "\n",
    "# Store tweets in DataFrame\n",
    "df_mn_official = pd.DataFrame(mn_traffic)\n",
    "\n",
    "print(\"Shape of DataFrame:\", df_mn_official.shape)\n",
    "df_mn_official.head()"
   ]
  },
  {
   "cell_type": "markdown",
   "metadata": {},
   "source": [
    "### Save to csv"
   ]
  },
  {
   "cell_type": "code",
   "execution_count": 49,
   "metadata": {},
   "outputs": [
    {
     "name": "stdout",
     "output_type": "stream",
     "text": [
      "/Users/jasminevasandani/DSI/Projects/group_project4\n"
     ]
    }
   ],
   "source": [
    "# Save data to csv\n",
    "#df_mn_official.to_csv('./data/twitter_mn_official.csv')"
   ]
  },
  {
   "cell_type": "markdown",
   "metadata": {},
   "source": [
    "### Sample Tweets"
   ]
  },
  {
   "cell_type": "code",
   "execution_count": 54,
   "metadata": {},
   "outputs": [
    {
     "data": {
      "text/plain": [
       "'Hwy 95 at Fanny Lake Road just east of Cambridge - closed due at crash. Traffic is being detoured. Expect delays.'"
      ]
     },
     "execution_count": 54,
     "metadata": {},
     "output_type": "execute_result"
    }
   ],
   "source": [
    "df_mn_official.loc[20]['text']"
   ]
  },
  {
   "cell_type": "code",
   "execution_count": 55,
   "metadata": {},
   "outputs": [
    {
     "data": {
      "text/plain": [
       "'Hwy47 south of Malmo and north of Glen in Aitkin County - water on the road.'"
      ]
     },
     "execution_count": 55,
     "metadata": {},
     "output_type": "execute_result"
    }
   ],
   "source": [
    "df_mn_official.loc[30]['text']"
   ]
  },
  {
   "cell_type": "code",
   "execution_count": 56,
   "metadata": {
    "scrolled": false
   },
   "outputs": [
    {
     "data": {
      "text/plain": [
       "'I-94 intermittent lane closures in Albertville and St. Michael are rescheduled to March 6. Closures begin at 7 p.m., will be complete by 10 p.m. The schedule is weather dependent. Check http://www. 511mn.org for real-time travel information.'"
      ]
     },
     "execution_count": 56,
     "metadata": {},
     "output_type": "execute_result"
    }
   ],
   "source": [
    "df_mn_official.loc[40]['text']"
   ]
  }
 ],
 "metadata": {
  "kernelspec": {
   "display_name": "Python 3",
   "language": "python",
   "name": "python3"
  },
  "language_info": {
   "codemirror_mode": {
    "name": "ipython",
    "version": 3
   },
   "file_extension": ".py",
   "mimetype": "text/x-python",
   "name": "python",
   "nbconvert_exporter": "python",
   "pygments_lexer": "ipython3",
   "version": "3.6.8"
  }
 },
 "nbformat": 4,
 "nbformat_minor": 2
}
